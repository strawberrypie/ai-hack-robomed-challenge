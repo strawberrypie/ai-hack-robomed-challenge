{
 "cells": [
  {
   "cell_type": "code",
   "execution_count": 1,
   "metadata": {},
   "outputs": [],
   "source": [
    "import lightgbm as lgbm\n",
    "import pandas as pd\n",
    "import numpy as np\n",
    "import re\n",
    "\n",
    "from pymorphy2 import MorphAnalyzer\n",
    "from nltk import word_tokenize\n",
    "\n",
    "from sklearn.model_selection import train_test_split\n",
    "from sklearn.metrics import roc_auc_score\n",
    "from sklearn.model_selection import KFold\n",
    "from sklearn.feature_extraction.text import CountVectorizer\n",
    "\n",
    "from matplotlib import pyplot as plt\n",
    "from tqdm import tqdm\n",
    "from scipy import sparse\n",
    "from scipy.stats.mstats import gmean\n",
    "\n",
    "import wordbatch\n",
    "from wordbatch.extractors import WordBag, WordHash\n",
    "\n",
    "%matplotlib inline"
   ]
  },
  {
   "cell_type": "code",
   "execution_count": 2,
   "metadata": {},
   "outputs": [],
   "source": [
    "train_df = pd.read_csv('../dataset/RoboMed/new_train.csv')\n",
    "test_df = pd.read_csv('../dataset/RoboMed/new_test.csv')"
   ]
  },
  {
   "cell_type": "code",
   "execution_count": 3,
   "metadata": {},
   "outputs": [
    {
     "data": {
      "text/html": [
       "<div>\n",
       "<style scoped>\n",
       "    .dataframe tbody tr th:only-of-type {\n",
       "        vertical-align: middle;\n",
       "    }\n",
       "\n",
       "    .dataframe tbody tr th {\n",
       "        vertical-align: top;\n",
       "    }\n",
       "\n",
       "    .dataframe thead th {\n",
       "        text-align: right;\n",
       "    }\n",
       "</style>\n",
       "<table border=\"1\" class=\"dataframe\">\n",
       "  <thead>\n",
       "    <tr style=\"text-align: right;\">\n",
       "      <th></th>\n",
       "      <th>Unnamed: 0</th>\n",
       "      <th>ID</th>\n",
       "      <th>Код_диагноза</th>\n",
       "      <th>Диагноз</th>\n",
       "      <th>Возраст</th>\n",
       "      <th>Пол</th>\n",
       "      <th>Общее состояние</th>\n",
       "      <th>аллергия</th>\n",
       "      <th>Анамнез заболевания</th>\n",
       "      <th>Внешний осмотр</th>\n",
       "      <th>Revisit</th>\n",
       "      <th>Типичные_жалобы</th>\n",
       "      <th>Типичные_услуги</th>\n",
       "      <th>Типичные_источники_рекламы</th>\n",
       "    </tr>\n",
       "  </thead>\n",
       "  <tbody>\n",
       "    <tr>\n",
       "      <th>0</th>\n",
       "      <td>0</td>\n",
       "      <td>0</td>\n",
       "      <td>J06.0</td>\n",
       "      <td>Острый ларингофарингит</td>\n",
       "      <td>29</td>\n",
       "      <td>2</td>\n",
       "      <td>NaN</td>\n",
       "      <td>NaN</td>\n",
       "      <td>NaN</td>\n",
       "      <td>На жевательной поверхности 2.6- кариозная поло...</td>\n",
       "      <td>1</td>\n",
       "      <td>на першение, осиплость | на периодическое затр...</td>\n",
       "      <td>Прием врача-оториноларинголога повторный, амбу...</td>\n",
       "      <td>Другое | Рекомендации знакомых</td>\n",
       "    </tr>\n",
       "    <tr>\n",
       "      <th>1</th>\n",
       "      <td>1</td>\n",
       "      <td>1</td>\n",
       "      <td>N76.1</td>\n",
       "      <td>Подострый и хронический вагинит</td>\n",
       "      <td>45</td>\n",
       "      <td>2</td>\n",
       "      <td>NaN</td>\n",
       "      <td>NaN</td>\n",
       "      <td>считает себя больной на протяжении многих лет....</td>\n",
       "      <td>NaN</td>\n",
       "      <td>1</td>\n",
       "      <td>на выделения из половых путей ,периодические т...</td>\n",
       "      <td>Прием врача-акушера-гинеколога повторный, амбу...</td>\n",
       "      <td>Другое | Рекомендации знакомых | Интернет</td>\n",
       "    </tr>\n",
       "    <tr>\n",
       "      <th>2</th>\n",
       "      <td>2</td>\n",
       "      <td>2</td>\n",
       "      <td>L23.9</td>\n",
       "      <td>Аллергический контактный дерматит, причина не ...</td>\n",
       "      <td>63</td>\n",
       "      <td>2</td>\n",
       "      <td>NaN</td>\n",
       "      <td>NaN</td>\n",
       "      <td>Болен около 2-х дней, когда появились описанны...</td>\n",
       "      <td>NaN</td>\n",
       "      <td>1</td>\n",
       "      <td>NaN</td>\n",
       "      <td>NaN</td>\n",
       "      <td>NaN</td>\n",
       "    </tr>\n",
       "  </tbody>\n",
       "</table>\n",
       "</div>"
      ],
      "text/plain": [
       "   Unnamed: 0  ID Код_диагноза  \\\n",
       "0           0   0        J06.0   \n",
       "1           1   1        N76.1   \n",
       "2           2   2        L23.9   \n",
       "\n",
       "                                             Диагноз  Возраст  Пол  \\\n",
       "0                             Острый ларингофарингит       29    2   \n",
       "1                    Подострый и хронический вагинит       45    2   \n",
       "2  Аллергический контактный дерматит, причина не ...       63    2   \n",
       "\n",
       "  Общее состояние аллергия                                Анамнез заболевания  \\\n",
       "0             NaN      NaN                                                NaN   \n",
       "1             NaN      NaN  считает себя больной на протяжении многих лет....   \n",
       "2             NaN      NaN  Болен около 2-х дней, когда появились описанны...   \n",
       "\n",
       "                                      Внешний осмотр  Revisit  \\\n",
       "0  На жевательной поверхности 2.6- кариозная поло...        1   \n",
       "1                                                NaN        1   \n",
       "2                                                NaN        1   \n",
       "\n",
       "                                     Типичные_жалобы  \\\n",
       "0  на першение, осиплость | на периодическое затр...   \n",
       "1  на выделения из половых путей ,периодические т...   \n",
       "2                                                NaN   \n",
       "\n",
       "                                     Типичные_услуги  \\\n",
       "0  Прием врача-оториноларинголога повторный, амбу...   \n",
       "1  Прием врача-акушера-гинеколога повторный, амбу...   \n",
       "2                                                NaN   \n",
       "\n",
       "                  Типичные_источники_рекламы  \n",
       "0             Другое | Рекомендации знакомых  \n",
       "1  Другое | Рекомендации знакомых | Интернет  \n",
       "2                                        NaN  "
      ]
     },
     "execution_count": 3,
     "metadata": {},
     "output_type": "execute_result"
    }
   ],
   "source": [
    "train_df.head(3)"
   ]
  },
  {
   "cell_type": "code",
   "execution_count": 4,
   "metadata": {},
   "outputs": [],
   "source": [
    "def preprocess_text_feature(feature):\n",
    "    return feature.str.lower() \\\n",
    "                  .str.replace('\\n', '') \\\n",
    "                  .apply(lambda string: re.sub(r\"([.\\!?,'/()\\-№:;])\", ' \\\\1 ', string))"
   ]
  },
  {
   "cell_type": "code",
   "execution_count": 5,
   "metadata": {},
   "outputs": [],
   "source": [
    "def preprocess_dataset(df):\n",
    "    df['Состояние_неизвестно'] = df['Общее состояние'].isna()\n",
    "    df['Аллергия_неизвестна'] = df['аллергия'].isna()\n",
    "    df['Общее_состояние_неизвестно'] = df['Общее состояние'].isna()\n",
    "    df['Анамнез_заболевания_неизвестен'] = df['Анамнез заболевания'].isna()\n",
    "    df['Внешний_осмотр_неизвестен'] = df['Внешний осмотр'].isna()\n",
    "    df['Типичные_жалобы_неизвестны'] = df['Типичные_жалобы'].isna()\n",
    "    df['Типичные_услуги_неизвестны'] = df['Типичные_услуги'].isna()\n",
    "    df['Типичные_источники_рекламы_неизвестны'] = df['Типичные_источники_рекламы'].isna()\n",
    "    \n",
    "    df['Общее состояние'].fillna('общее_состояние_неизвестно', inplace=True)\n",
    "    df['аллергия'].fillna('аллергии_неизвестны', inplace=True)\n",
    "    df['Анамнез заболевания'].fillna('нет_анамнеза', inplace=True)\n",
    "    df['Внешний осмотр'].fillna('нет_осмотра', inplace=True)\n",
    "    df['Типичные_жалобы'].fillna('типичные_жалобы_неизвестны', inplace=True)\n",
    "    df['Типичные_услуги'].fillna('типичные_услги_неизвестны', inplace=True)\n",
    "    df['Типичные_источники_рекламы'].fillna('типичные_источники_рекламы_неизвестны', inplace=True)\n",
    "    \n",
    "    df['Анамнез заболевания'] = preprocess_text_feature(df['Анамнез заболевания'])\n",
    "    df['Внешний осмотр'] = preprocess_text_feature(df['Внешний осмотр'])\n",
    "    df['Диагноз'] = preprocess_text_feature(df['Диагноз'])\n",
    "    df['Общее состояние'] = preprocess_text_feature(df['Общее состояние'])\n",
    "    df['Типичные_услуги'] = preprocess_text_feature(df['Типичные_услуги'])\n",
    "    df['Типичные_жалобы'] = preprocess_text_feature(df['Типичные_жалобы'])\n",
    "    df['Типичные_источники_рекламы'] = preprocess_text_feature(df['Типичные_источники_рекламы'])\n",
    "    df['аллергия'] = preprocess_text_feature(df['аллергия'])\n",
    "    \n",
    "    df['Возраст_7'] = np.round(df['Возраст'] / 7).astype('category')\n",
    "    df['Возраст_5'] = np.round(df['Возраст'] / 5).astype('category')\n",
    "    df['Возраст_3'] = np.round(df['Возраст'] / 3).astype('category')\n",
    "    df['Возраст_2'] = np.round(df['Возраст'] / 2).astype('category')   \n",
    "    df['Возраст'] = df['Возраст'].astype('category')\n",
    "    \n",
    "    df['Пол'] = df['Пол'].astype('category')\n",
    "    df['ID'] = df['ID'].astype('category')\n",
    "    df['Код_диагноза'] = df['Код_диагноза'].astype('category')\n",
    "    df['аллергия'] = df['аллергия'].astype('category')\n",
    "    df['Анамнез заболевания'] = df['Анамнез заболевания'].astype('category')\n",
    "    df['Внешний осмотр'] = df['Внешний осмотр'].astype('category')\n",
    "    return df"
   ]
  },
  {
   "cell_type": "code",
   "execution_count": null,
   "metadata": {},
   "outputs": [],
   "source": [
    "train_df = preprocess_dataset(train_df)\n",
    "test_df = preprocess_dataset(test_df)"
   ]
  },
  {
   "cell_type": "code",
   "execution_count": null,
   "metadata": {},
   "outputs": [],
   "source": [
    "y_train = train_df.Revisit\n",
    "train_df = train_df.drop('Revisit', axis='columns')"
   ]
  },
  {
   "cell_type": "code",
   "execution_count": null,
   "metadata": {},
   "outputs": [],
   "source": [
    "whole_df = pd.concat([train_df, test_df])"
   ]
  },
  {
   "cell_type": "code",
   "execution_count": null,
   "metadata": {},
   "outputs": [],
   "source": [
    "def label_with_pos(text):\n",
    "    analyzer = MorphAnalyzer()\n",
    "    tokens = re.compile('[\\W+]').sub(' ', text).lower().strip().split()\n",
    "    tokens = [x for x in tokens if len(x) > 1]\n",
    "    result = []\n",
    "    for token in tokens:\n",
    "        parsed_result = analyzer.parse(token)\n",
    "        pos = parsed_result[0].tag.POS\n",
    "        pos_token = token + ('' if pos is None else '_' + pos)\n",
    "        result.append(pos_token)\n",
    "    return ' '.join(result)"
   ]
  },
  {
   "cell_type": "code",
   "execution_count": null,
   "metadata": {},
   "outputs": [],
   "source": [
    "def one_hot_texts(text_feature):\n",
    "    wb = wordbatch.WordBatch(extractor=(WordBag, {\"hash_ngrams\": 2, \"hash_ngrams_weights\": [1.0, 1.0],\n",
    "                                                  \"hash_size\": 2 ** 22, \"norm\": None,\n",
    "                                                  \"tf\": 5.0, \"idf\": 5.0,}), procs=32)\n",
    "    wb.dictionary_freeze = True\n",
    "    transformed_feature = wb.fit_transform(text_feature)\n",
    "    nnz_features_mask = np.clip(transformed_feature.getnnz(axis=0) - 1, 0, 1).astype(bool)\n",
    "    transformed_feature = transformed_feature[:, nnz_features_mask]\n",
    "    return transformed_feature"
   ]
  },
  {
   "cell_type": "code",
   "execution_count": null,
   "metadata": {},
   "outputs": [],
   "source": [
    "text_feature_names = ['Общее состояние', 'аллергия', 'Анамнез заболевания', 'Внешний осмотр',\n",
    "                      'Диагноз', 'Типичные_жалобы', 'Типичные_услуги', 'Типичные_источники_рекламы']\n",
    "transformed_matrices = [one_hot_texts(whole_df[feature_name])\n",
    "                        for feature_name in tqdm(text_feature_names)]\n",
    "text_features_matrix = sparse.hstack(transformed_matrices)"
   ]
  },
  {
   "cell_type": "code",
   "execution_count": null,
   "metadata": {},
   "outputs": [],
   "source": [
    "patient_dummies = sparse.csr_matrix(\n",
    "    pd.get_dummies(whole_df[['Возраст', 'Код_диагноза', 'Пол']], sparse=True).values)\n",
    "age_dummies = sparse.csr_matrix(\n",
    "    pd.get_dummies(whole_df[['Возраст_2', 'Возраст_3', 'Возраст_5', 'Возраст_7']], sparse=True).values)"
   ]
  },
  {
   "cell_type": "code",
   "execution_count": null,
   "metadata": {},
   "outputs": [],
   "source": [
    "nan_feature_names = ['Состояние_неизвестно', 'Аллергия_неизвестна', 'Общее_состояние_неизвестно',\n",
    "                     'Анамнез_заболевания_неизвестен', 'Внешний_осмотр_неизвестен',\n",
    "                     'Типичные_жалобы_неизвестны', 'Типичные_услуги_неизвестны',\n",
    "                     'Типичные_источники_рекламы_неизвестны']\n",
    "nan_dummies = sparse.csr_matrix(pd.get_dummies(whole_df[nan_feature_names], sparse=True).values)"
   ]
  },
  {
   "cell_type": "code",
   "execution_count": null,
   "metadata": {},
   "outputs": [],
   "source": [
    "vectorizer = CountVectorizer()\n",
    "diagnosis_counts = vectorizer.fit_transform(whole_df['Код_диагноза'].apply(str))\n",
    "\n",
    "vectorizer = CountVectorizer(analyzer='char', ngram_range=(1, 2))\n",
    "diagnosis_counts_char = vectorizer.fit_transform(whole_df['Код_диагноза'].apply(str))"
   ]
  },
  {
   "cell_type": "code",
   "execution_count": null,
   "metadata": {},
   "outputs": [],
   "source": [
    "nnz_patient_dummies_mask = np.clip(patient_dummies.getnnz(axis=0) - 1, 0, 1).astype(bool)\n",
    "patient_dummies = patient_dummies[:, nnz_patient_dummies_mask]\n",
    "\n",
    "nnz_nan_dummies_mask = np.clip(nan_dummies.getnnz(axis=0) - 1, 0, 1).astype(bool)\n",
    "nan_dummies = nan_dummies[:, nnz_nan_dummies_mask]\n",
    "\n",
    "nnz_age_dummies_mask = np.clip(age_dummies.getnnz(axis=0) - 1, 0, 1).astype(bool)\n",
    "age_dummies = age_dummies[:, nnz_age_dummies_mask]"
   ]
  },
  {
   "cell_type": "code",
   "execution_count": null,
   "metadata": {},
   "outputs": [],
   "source": [
    "whole_features_matrix = sparse.hstack([\n",
    "    text_features_matrix, patient_dummies, age_dummies,\n",
    "    nan_dummies, diagnosis_counts, diagnosis_counts_char\n",
    "]).tocsr()"
   ]
  },
  {
   "cell_type": "code",
   "execution_count": null,
   "metadata": {},
   "outputs": [],
   "source": [
    "features_train = whole_features_matrix[:len(train_df)]\n",
    "features_test = whole_features_matrix[len(train_df):]"
   ]
  },
  {
   "cell_type": "code",
   "execution_count": null,
   "metadata": {},
   "outputs": [],
   "source": [
    "print('Done preprocessing!')"
   ]
  },
  {
   "cell_type": "code",
   "execution_count": 27,
   "metadata": {},
   "outputs": [
    {
     "name": "stderr",
     "output_type": "stream",
     "text": [
      "\n",
      "  0%|          | 0/10 [00:00<?, ?it/s]\u001b[A"
     ]
    },
    {
     "name": "stdout",
     "output_type": "stream",
     "text": [
      "Training until validation scores don't improve for 30 rounds.\n"
     ]
    },
    {
     "name": "stderr",
     "output_type": "stream",
     "text": [
      "\n",
      "Exception in thread Thread-56:\n",
      "Traceback (most recent call last):\n",
      "  File \"/root/miniconda3/lib/python3.6/threading.py\", line 916, in _bootstrap_inner\n",
      "    self.run()\n",
      "  File \"/root/miniconda3/lib/python3.6/site-packages/tqdm/_tqdm.py\", line 148, in run\n",
      "    for instance in self.tqdm_cls._instances:\n",
      "  File \"/root/miniconda3/lib/python3.6/_weakrefset.py\", line 60, in __iter__\n",
      "    for itemref in self.data:\n",
      "RuntimeError: Set changed size during iteration\n",
      "\n"
     ]
    },
    {
     "name": "stdout",
     "output_type": "stream",
     "text": [
      "Early stopping, best iteration is:\n",
      "[172]\ttraining's auc: 0.717086\tvalid_1's auc: 0.698855\n",
      "roc_auc_score:  0.6988551115505431\n",
      "Training until validation scores don't improve for 30 rounds.\n",
      "Early stopping, best iteration is:\n",
      "[188]\ttraining's auc: 0.719313\tvalid_1's auc: 0.689454\n",
      "roc_auc_score:  0.689454252998775\n",
      "Training until validation scores don't improve for 30 rounds.\n",
      "Early stopping, best iteration is:\n",
      "[140]\ttraining's auc: 0.71374\tvalid_1's auc: 0.691911\n",
      "roc_auc_score:  0.6919110938796764\n",
      "Training until validation scores don't improve for 30 rounds.\n",
      "Early stopping, best iteration is:\n",
      "[230]\ttraining's auc: 0.722107\tvalid_1's auc: 0.697193\n",
      "roc_auc_score:  0.6971925149006019\n",
      "Training until validation scores don't improve for 30 rounds.\n",
      "Early stopping, best iteration is:\n",
      "[150]\ttraining's auc: 0.71469\tvalid_1's auc: 0.69664\n",
      "roc_auc_score:  0.6966396604918168\n",
      "Training until validation scores don't improve for 30 rounds.\n",
      "Early stopping, best iteration is:\n",
      "[178]\ttraining's auc: 0.717834\tvalid_1's auc: 0.694128\n",
      "roc_auc_score:  0.694128278415955\n",
      "Training until validation scores don't improve for 30 rounds.\n",
      "Early stopping, best iteration is:\n",
      "[130]\ttraining's auc: 0.711986\tvalid_1's auc: 0.701156\n",
      "roc_auc_score:  0.7011555859269868\n",
      "Training until validation scores don't improve for 30 rounds.\n",
      "Early stopping, best iteration is:\n",
      "[150]\ttraining's auc: 0.714676\tvalid_1's auc: 0.691786\n",
      "roc_auc_score:  0.6917861845157106\n",
      "Training until validation scores don't improve for 30 rounds.\n",
      "Early stopping, best iteration is:\n",
      "[174]\ttraining's auc: 0.716531\tvalid_1's auc: 0.702096\n",
      "roc_auc_score:  0.7020956024896627\n",
      "Training until validation scores don't improve for 30 rounds.\n",
      "Early stopping, best iteration is:\n",
      "[205]\ttraining's auc: 0.720269\tvalid_1's auc: 0.696641\n",
      "roc_auc_score:  0.6966412189954647\n"
     ]
    },
    {
     "name": "stderr",
     "output_type": "stream",
     "text": [
      " 10%|█         | 1/10 [01:25<12:49, 85.51s/it]"
     ]
    },
    {
     "name": "stdout",
     "output_type": "stream",
     "text": [
      "Training until validation scores don't improve for 30 rounds.\n",
      "Early stopping, best iteration is:\n",
      "[157]\ttraining's auc: 0.71564\tvalid_1's auc: 0.697658\n",
      "roc_auc_score:  0.6976580157809318\n",
      "Training until validation scores don't improve for 30 rounds.\n",
      "Early stopping, best iteration is:\n",
      "[187]\ttraining's auc: 0.71819\tvalid_1's auc: 0.699267\n",
      "roc_auc_score:  0.6992673161753\n",
      "Training until validation scores don't improve for 30 rounds.\n",
      "Early stopping, best iteration is:\n",
      "[171]\ttraining's auc: 0.71765\tvalid_1's auc: 0.689123\n",
      "roc_auc_score:  0.6891232837342443\n",
      "Training until validation scores don't improve for 30 rounds.\n",
      "Early stopping, best iteration is:\n",
      "[108]\ttraining's auc: 0.710698\tvalid_1's auc: 0.686567\n",
      "roc_auc_score:  0.6865670725931968\n",
      "Training until validation scores don't improve for 30 rounds.\n",
      "Early stopping, best iteration is:\n",
      "[184]\ttraining's auc: 0.717851\tvalid_1's auc: 0.699661\n",
      "roc_auc_score:  0.6996608053848924\n",
      "Training until validation scores don't improve for 30 rounds.\n",
      "Early stopping, best iteration is:\n",
      "[105]\ttraining's auc: 0.709011\tvalid_1's auc: 0.697816\n",
      "roc_auc_score:  0.6978158641266556\n",
      "Training until validation scores don't improve for 30 rounds.\n",
      "Early stopping, best iteration is:\n",
      "[174]\ttraining's auc: 0.716409\tvalid_1's auc: 0.701566\n",
      "roc_auc_score:  0.701566112182372\n",
      "Training until validation scores don't improve for 30 rounds.\n",
      "Early stopping, best iteration is:\n",
      "[125]\ttraining's auc: 0.712209\tvalid_1's auc: 0.689671\n",
      "roc_auc_score:  0.6896705272428504\n",
      "Training until validation scores don't improve for 30 rounds.\n",
      "Early stopping, best iteration is:\n",
      "[240]\ttraining's auc: 0.72286\tvalid_1's auc: 0.698042\n",
      "roc_auc_score:  0.6980417513484636\n",
      "Training until validation scores don't improve for 30 rounds.\n",
      "Early stopping, best iteration is:\n",
      "[187]\ttraining's auc: 0.718223\tvalid_1's auc: 0.696815\n",
      "roc_auc_score:  0.6968147303339001\n"
     ]
    },
    {
     "name": "stderr",
     "output_type": "stream",
     "text": [
      " 20%|██        | 2/10 [02:53<11:35, 86.90s/it]"
     ]
    },
    {
     "name": "stdout",
     "output_type": "stream",
     "text": [
      "Training until validation scores don't improve for 30 rounds.\n",
      "Early stopping, best iteration is:\n",
      "[223]\ttraining's auc: 0.721903\tvalid_1's auc: 0.696323\n",
      "roc_auc_score:  0.6963233423273333\n",
      "Training until validation scores don't improve for 30 rounds.\n",
      "Early stopping, best iteration is:\n",
      "[151]\ttraining's auc: 0.714782\tvalid_1's auc: 0.695008\n",
      "roc_auc_score:  0.695007985021346\n",
      "Training until validation scores don't improve for 30 rounds.\n",
      "Early stopping, best iteration is:\n",
      "[114]\ttraining's auc: 0.710488\tvalid_1's auc: 0.697404\n",
      "roc_auc_score:  0.6974036709583177\n",
      "Training until validation scores don't improve for 30 rounds.\n",
      "Early stopping, best iteration is:\n",
      "[242]\ttraining's auc: 0.723366\tvalid_1's auc: 0.694233\n",
      "roc_auc_score:  0.6942333394859024\n",
      "Training until validation scores don't improve for 30 rounds.\n",
      "Early stopping, best iteration is:\n",
      "[130]\ttraining's auc: 0.71236\tvalid_1's auc: 0.695774\n",
      "roc_auc_score:  0.6957741028832083\n",
      "Training until validation scores don't improve for 30 rounds.\n",
      "Early stopping, best iteration is:\n",
      "[157]\ttraining's auc: 0.715346\tvalid_1's auc: 0.695317\n",
      "roc_auc_score:  0.6953170297590621\n",
      "Training until validation scores don't improve for 30 rounds.\n",
      "Early stopping, best iteration is:\n",
      "[113]\ttraining's auc: 0.71017\tvalid_1's auc: 0.693785\n",
      "roc_auc_score:  0.6937853426991472\n",
      "Training until validation scores don't improve for 30 rounds.\n",
      "Early stopping, best iteration is:\n",
      "[148]\ttraining's auc: 0.714333\tvalid_1's auc: 0.695257\n",
      "roc_auc_score:  0.6952568239605824\n",
      "Training until validation scores don't improve for 30 rounds.\n",
      "Early stopping, best iteration is:\n",
      "[146]\ttraining's auc: 0.714499\tvalid_1's auc: 0.69503\n",
      "roc_auc_score:  0.695030499302105\n",
      "Training until validation scores don't improve for 30 rounds.\n",
      "Early stopping, best iteration is:\n",
      "[175]\ttraining's auc: 0.716658\tvalid_1's auc: 0.701039\n",
      "roc_auc_score:  0.7010388896975076\n"
     ]
    },
    {
     "name": "stderr",
     "output_type": "stream",
     "text": [
      " 30%|███       | 3/10 [04:16<09:58, 85.48s/it]"
     ]
    },
    {
     "name": "stdout",
     "output_type": "stream",
     "text": [
      "Training until validation scores don't improve for 30 rounds.\n",
      "Early stopping, best iteration is:\n",
      "[230]\ttraining's auc: 0.721937\tvalid_1's auc: 0.699031\n",
      "roc_auc_score:  0.6990305562264686\n",
      "Training until validation scores don't improve for 30 rounds.\n",
      "Early stopping, best iteration is:\n",
      "[193]\ttraining's auc: 0.71871\tvalid_1's auc: 0.698183\n",
      "roc_auc_score:  0.6981828670156899\n",
      "Training until validation scores don't improve for 30 rounds.\n",
      "Early stopping, best iteration is:\n",
      "[161]\ttraining's auc: 0.716497\tvalid_1's auc: 0.691679\n",
      "roc_auc_score:  0.6916790742960777\n",
      "Training until validation scores don't improve for 30 rounds.\n",
      "Early stopping, best iteration is:\n",
      "[155]\ttraining's auc: 0.71517\tvalid_1's auc: 0.696215\n",
      "roc_auc_score:  0.696214707591456\n",
      "Training until validation scores don't improve for 30 rounds.\n",
      "Early stopping, best iteration is:\n",
      "[176]\ttraining's auc: 0.717911\tvalid_1's auc: 0.693624\n",
      "roc_auc_score:  0.6936242146096948\n",
      "Training until validation scores don't improve for 30 rounds.\n",
      "Early stopping, best iteration is:\n",
      "[164]\ttraining's auc: 0.715263\tvalid_1's auc: 0.702175\n",
      "roc_auc_score:  0.7021745310062902\n",
      "Training until validation scores don't improve for 30 rounds.\n",
      "Early stopping, best iteration is:\n",
      "[171]\ttraining's auc: 0.71725\tvalid_1's auc: 0.69545\n",
      "roc_auc_score:  0.6954503354453387\n",
      "Training until validation scores don't improve for 30 rounds.\n",
      "Early stopping, best iteration is:\n",
      "[104]\ttraining's auc: 0.709049\tvalid_1's auc: 0.694371\n",
      "roc_auc_score:  0.6943707942952664\n",
      "Training until validation scores don't improve for 30 rounds.\n",
      "Early stopping, best iteration is:\n",
      "[153]\ttraining's auc: 0.714708\tvalid_1's auc: 0.69853\n",
      "roc_auc_score:  0.6985300225709312\n",
      "Training until validation scores don't improve for 30 rounds.\n"
     ]
    },
    {
     "name": "stderr",
     "output_type": "stream",
     "text": [
      "\n"
     ]
    },
    {
     "ename": "KeyboardInterrupt",
     "evalue": "",
     "output_type": "error",
     "traceback": [
      "\u001b[0;31m---------------------------------------------------------------------------\u001b[0m",
      "\u001b[0;31mKeyboardInterrupt\u001b[0m                         Traceback (most recent call last)",
      "\u001b[0;32m<ipython-input-27-780b74bc0050>\u001b[0m in \u001b[0;36m<module>\u001b[0;34m()\u001b[0m\n\u001b[1;32m     19\u001b[0m \u001b[0;34m\u001b[0m\u001b[0m\n\u001b[1;32m     20\u001b[0m         model = lgbm.train(params, train_set=dataset_train, valid_sets=watchlist,\n\u001b[0;32m---> 21\u001b[0;31m                           num_boost_round=400, early_stopping_rounds=30, verbose_eval=1000)\n\u001b[0m\u001b[1;32m     22\u001b[0m         \u001b[0mpreds\u001b[0m \u001b[0;34m=\u001b[0m \u001b[0mmodel\u001b[0m\u001b[0;34m.\u001b[0m\u001b[0mpredict\u001b[0m\u001b[0;34m(\u001b[0m\u001b[0mx_v\u001b[0m\u001b[0;34m)\u001b[0m\u001b[0;34m\u001b[0m\u001b[0m\n\u001b[1;32m     23\u001b[0m         \u001b[0mprint\u001b[0m\u001b[0;34m(\u001b[0m\u001b[0;34m\"roc_auc_score: \"\u001b[0m\u001b[0;34m,\u001b[0m \u001b[0mroc_auc_score\u001b[0m\u001b[0;34m(\u001b[0m\u001b[0my_v\u001b[0m\u001b[0;34m,\u001b[0m \u001b[0mpreds\u001b[0m\u001b[0;34m)\u001b[0m\u001b[0;34m)\u001b[0m\u001b[0;34m\u001b[0m\u001b[0m\n",
      "\u001b[0;32m~/miniconda3/lib/python3.6/site-packages/lightgbm/engine.py\u001b[0m in \u001b[0;36mtrain\u001b[0;34m(params, train_set, num_boost_round, valid_sets, valid_names, fobj, feval, init_model, feature_name, categorical_feature, early_stopping_rounds, evals_result, verbose_eval, learning_rates, keep_training_booster, callbacks)\u001b[0m\n\u001b[1;32m    205\u001b[0m         \u001b[0;32mif\u001b[0m \u001b[0mvalid_sets\u001b[0m \u001b[0;32mis\u001b[0m \u001b[0;32mnot\u001b[0m \u001b[0;32mNone\u001b[0m\u001b[0;34m:\u001b[0m\u001b[0;34m\u001b[0m\u001b[0m\n\u001b[1;32m    206\u001b[0m             \u001b[0;32mif\u001b[0m \u001b[0mis_valid_contain_train\u001b[0m\u001b[0;34m:\u001b[0m\u001b[0;34m\u001b[0m\u001b[0m\n\u001b[0;32m--> 207\u001b[0;31m                 \u001b[0mevaluation_result_list\u001b[0m\u001b[0;34m.\u001b[0m\u001b[0mextend\u001b[0m\u001b[0;34m(\u001b[0m\u001b[0mbooster\u001b[0m\u001b[0;34m.\u001b[0m\u001b[0meval_train\u001b[0m\u001b[0;34m(\u001b[0m\u001b[0mfeval\u001b[0m\u001b[0;34m)\u001b[0m\u001b[0;34m)\u001b[0m\u001b[0;34m\u001b[0m\u001b[0m\n\u001b[0m\u001b[1;32m    208\u001b[0m             \u001b[0mevaluation_result_list\u001b[0m\u001b[0;34m.\u001b[0m\u001b[0mextend\u001b[0m\u001b[0;34m(\u001b[0m\u001b[0mbooster\u001b[0m\u001b[0;34m.\u001b[0m\u001b[0meval_valid\u001b[0m\u001b[0;34m(\u001b[0m\u001b[0mfeval\u001b[0m\u001b[0;34m)\u001b[0m\u001b[0;34m)\u001b[0m\u001b[0;34m\u001b[0m\u001b[0m\n\u001b[1;32m    209\u001b[0m         \u001b[0;32mtry\u001b[0m\u001b[0;34m:\u001b[0m\u001b[0;34m\u001b[0m\u001b[0m\n",
      "\u001b[0;32m~/miniconda3/lib/python3.6/site-packages/lightgbm/basic.py\u001b[0m in \u001b[0;36meval_train\u001b[0;34m(self, feval)\u001b[0m\n\u001b[1;32m   1626\u001b[0m             \u001b[0mList\u001b[0m \u001b[0;32mwith\u001b[0m \u001b[0mevaluation\u001b[0m \u001b[0mresults\u001b[0m\u001b[0;34m.\u001b[0m\u001b[0;34m\u001b[0m\u001b[0m\n\u001b[1;32m   1627\u001b[0m         \"\"\"\n\u001b[0;32m-> 1628\u001b[0;31m         \u001b[0;32mreturn\u001b[0m \u001b[0mself\u001b[0m\u001b[0;34m.\u001b[0m\u001b[0m__inner_eval\u001b[0m\u001b[0;34m(\u001b[0m\u001b[0mself\u001b[0m\u001b[0;34m.\u001b[0m\u001b[0m__train_data_name\u001b[0m\u001b[0;34m,\u001b[0m \u001b[0;36m0\u001b[0m\u001b[0;34m,\u001b[0m \u001b[0mfeval\u001b[0m\u001b[0;34m)\u001b[0m\u001b[0;34m\u001b[0m\u001b[0m\n\u001b[0m\u001b[1;32m   1629\u001b[0m \u001b[0;34m\u001b[0m\u001b[0m\n\u001b[1;32m   1630\u001b[0m     \u001b[0;32mdef\u001b[0m \u001b[0meval_valid\u001b[0m\u001b[0;34m(\u001b[0m\u001b[0mself\u001b[0m\u001b[0;34m,\u001b[0m \u001b[0mfeval\u001b[0m\u001b[0;34m=\u001b[0m\u001b[0;32mNone\u001b[0m\u001b[0;34m)\u001b[0m\u001b[0;34m:\u001b[0m\u001b[0;34m\u001b[0m\u001b[0m\n",
      "\u001b[0;32m~/miniconda3/lib/python3.6/site-packages/lightgbm/basic.py\u001b[0m in \u001b[0;36m__inner_eval\u001b[0;34m(self, data_name, data_idx, feval)\u001b[0m\n\u001b[1;32m   1896\u001b[0m                 \u001b[0mctypes\u001b[0m\u001b[0;34m.\u001b[0m\u001b[0mc_int\u001b[0m\u001b[0;34m(\u001b[0m\u001b[0mdata_idx\u001b[0m\u001b[0;34m)\u001b[0m\u001b[0;34m,\u001b[0m\u001b[0;34m\u001b[0m\u001b[0m\n\u001b[1;32m   1897\u001b[0m                 \u001b[0mctypes\u001b[0m\u001b[0;34m.\u001b[0m\u001b[0mbyref\u001b[0m\u001b[0;34m(\u001b[0m\u001b[0mtmp_out_len\u001b[0m\u001b[0;34m)\u001b[0m\u001b[0;34m,\u001b[0m\u001b[0;34m\u001b[0m\u001b[0m\n\u001b[0;32m-> 1898\u001b[0;31m                 result.ctypes.data_as(ctypes.POINTER(ctypes.c_double))))\n\u001b[0m\u001b[1;32m   1899\u001b[0m             \u001b[0;32mif\u001b[0m \u001b[0mtmp_out_len\u001b[0m\u001b[0;34m.\u001b[0m\u001b[0mvalue\u001b[0m \u001b[0;34m!=\u001b[0m \u001b[0mself\u001b[0m\u001b[0;34m.\u001b[0m\u001b[0m__num_inner_eval\u001b[0m\u001b[0;34m:\u001b[0m\u001b[0;34m\u001b[0m\u001b[0m\n\u001b[1;32m   1900\u001b[0m                 \u001b[0;32mraise\u001b[0m \u001b[0mValueError\u001b[0m\u001b[0;34m(\u001b[0m\u001b[0;34m\"Wrong length of eval results\"\u001b[0m\u001b[0;34m)\u001b[0m\u001b[0;34m\u001b[0m\u001b[0m\n",
      "\u001b[0;31mKeyboardInterrupt\u001b[0m: "
     ]
    }
   ],
   "source": [
    "predictions = []\n",
    "\n",
    "for random_state in tqdm(range(0, 100, 10)):\n",
    "    params = {\n",
    "        'application': 'binary',\n",
    "        'verbosity': -1,\n",
    "        'metric': 'auc',\n",
    "        'feature_fraction_seed' : random_state + 10,\n",
    "        'bagging_seed' : random_state + 20\n",
    "    }\n",
    "    stratified = KFold(n_splits=10, shuffle=True, random_state=random_state)\n",
    "    for train_index, test_index in stratified.split(features_train, y_train):\n",
    "        x_t, x_v = features_train[train_index], features_train[test_index]\n",
    "        y_t, y_v = y_train[train_index], y_train[test_index]\n",
    "\n",
    "        dataset_train = lgbm.Dataset(x_t, label=y_t)\n",
    "        dataset_valid = lgbm.Dataset(x_v, label=y_v)\n",
    "        watchlist = [dataset_train, dataset_valid]\n",
    "        \n",
    "        model = lgbm.train(params, train_set=dataset_train, valid_sets=watchlist,\n",
    "                          num_boost_round=400, early_stopping_rounds=30, verbose_eval=1000)\n",
    "        preds = model.predict(x_v)\n",
    "        print(\"roc_auc_score: \", roc_auc_score(y_v, preds))\n",
    "        predictions.append(model.predict(features_test))\n",
    "        \n",
    "preds = gmean(np.array(predictions), axis=0)"
   ]
  },
  {
   "cell_type": "code",
   "execution_count": null,
   "metadata": {},
   "outputs": [],
   "source": []
  }
 ],
 "metadata": {
  "kernelspec": {
   "display_name": "Python 3",
   "language": "python",
   "name": "python3"
  },
  "language_info": {
   "codemirror_mode": {
    "name": "ipython",
    "version": 3
   },
   "file_extension": ".py",
   "mimetype": "text/x-python",
   "name": "python",
   "nbconvert_exporter": "python",
   "pygments_lexer": "ipython3",
   "version": "3.6.4"
  }
 },
 "nbformat": 4,
 "nbformat_minor": 2
}

{
 "cells": [
  {
   "cell_type": "code",
   "execution_count": 1,
   "metadata": {},
   "outputs": [],
   "source": [
    "import lightgbm as lgbm\n",
    "import pandas as pd\n",
    "import numpy as np\n",
    "import re\n",
    "\n",
    "from pymorphy2 import MorphAnalyzer\n",
    "\n",
    "from sklearn.model_selection import train_test_split\n",
    "from sklearn.metrics import roc_auc_score\n",
    "from sklearn.model_selection import KFold\n",
    "from sklearn.feature_extraction.text import CountVectorizer\n",
    "\n",
    "from matplotlib import pyplot as plt\n",
    "from tqdm import tqdm\n",
    "from scipy import sparse\n",
    "from scipy.stats.mstats import gmean\n",
    "\n",
    "import wordbatch\n",
    "from wordbatch.extractors import WordBag\n",
    "\n",
    "%matplotlib inline"
   ]
  },
  {
   "cell_type": "code",
   "execution_count": 2,
   "metadata": {},
   "outputs": [],
   "source": [
    "train_df = pd.read_csv('../dataset/RoboMed/new_train.csv')\n",
    "test_df = pd.read_csv('../dataset/RoboMed/new_test.csv')"
   ]
  },
  {
   "cell_type": "code",
   "execution_count": 3,
   "metadata": {},
   "outputs": [
    {
     "data": {
      "text/html": [
       "<div>\n",
       "<style scoped>\n",
       "    .dataframe tbody tr th:only-of-type {\n",
       "        vertical-align: middle;\n",
       "    }\n",
       "\n",
       "    .dataframe tbody tr th {\n",
       "        vertical-align: top;\n",
       "    }\n",
       "\n",
       "    .dataframe thead th {\n",
       "        text-align: right;\n",
       "    }\n",
       "</style>\n",
       "<table border=\"1\" class=\"dataframe\">\n",
       "  <thead>\n",
       "    <tr style=\"text-align: right;\">\n",
       "      <th></th>\n",
       "      <th>Unnamed: 0</th>\n",
       "      <th>ID</th>\n",
       "      <th>Код_диагноза</th>\n",
       "      <th>Диагноз</th>\n",
       "      <th>Возраст</th>\n",
       "      <th>Пол</th>\n",
       "      <th>Общее состояние</th>\n",
       "      <th>аллергия</th>\n",
       "      <th>Анамнез заболевания</th>\n",
       "      <th>Внешний осмотр</th>\n",
       "      <th>Revisit</th>\n",
       "      <th>Типичные_жалобы</th>\n",
       "      <th>Типичные_услуги</th>\n",
       "      <th>Типичные_источники_рекламы</th>\n",
       "    </tr>\n",
       "  </thead>\n",
       "  <tbody>\n",
       "    <tr>\n",
       "      <th>0</th>\n",
       "      <td>0</td>\n",
       "      <td>0</td>\n",
       "      <td>J06.0</td>\n",
       "      <td>Острый ларингофарингит</td>\n",
       "      <td>29</td>\n",
       "      <td>2</td>\n",
       "      <td>NaN</td>\n",
       "      <td>NaN</td>\n",
       "      <td>NaN</td>\n",
       "      <td>На жевательной поверхности 2.6- кариозная поло...</td>\n",
       "      <td>1</td>\n",
       "      <td>на першение, осиплость | на периодическое затр...</td>\n",
       "      <td>Прием врача-оториноларинголога повторный, амбу...</td>\n",
       "      <td>Другое | Рекомендации знакомых</td>\n",
       "    </tr>\n",
       "    <tr>\n",
       "      <th>1</th>\n",
       "      <td>1</td>\n",
       "      <td>1</td>\n",
       "      <td>N76.1</td>\n",
       "      <td>Подострый и хронический вагинит</td>\n",
       "      <td>45</td>\n",
       "      <td>2</td>\n",
       "      <td>NaN</td>\n",
       "      <td>NaN</td>\n",
       "      <td>считает себя больной на протяжении многих лет....</td>\n",
       "      <td>NaN</td>\n",
       "      <td>1</td>\n",
       "      <td>на выделения из половых путей ,периодические т...</td>\n",
       "      <td>Прием врача-акушера-гинеколога повторный, амбу...</td>\n",
       "      <td>Другое | Рекомендации знакомых | Интернет</td>\n",
       "    </tr>\n",
       "    <tr>\n",
       "      <th>2</th>\n",
       "      <td>2</td>\n",
       "      <td>2</td>\n",
       "      <td>L23.9</td>\n",
       "      <td>Аллергический контактный дерматит, причина не ...</td>\n",
       "      <td>63</td>\n",
       "      <td>2</td>\n",
       "      <td>NaN</td>\n",
       "      <td>NaN</td>\n",
       "      <td>Болен около 2-х дней, когда появились описанны...</td>\n",
       "      <td>NaN</td>\n",
       "      <td>1</td>\n",
       "      <td>NaN</td>\n",
       "      <td>NaN</td>\n",
       "      <td>NaN</td>\n",
       "    </tr>\n",
       "  </tbody>\n",
       "</table>\n",
       "</div>"
      ],
      "text/plain": [
       "   Unnamed: 0  ID Код_диагноза  \\\n",
       "0           0   0        J06.0   \n",
       "1           1   1        N76.1   \n",
       "2           2   2        L23.9   \n",
       "\n",
       "                                             Диагноз  Возраст  Пол  \\\n",
       "0                             Острый ларингофарингит       29    2   \n",
       "1                    Подострый и хронический вагинит       45    2   \n",
       "2  Аллергический контактный дерматит, причина не ...       63    2   \n",
       "\n",
       "  Общее состояние аллергия                                Анамнез заболевания  \\\n",
       "0             NaN      NaN                                                NaN   \n",
       "1             NaN      NaN  считает себя больной на протяжении многих лет....   \n",
       "2             NaN      NaN  Болен около 2-х дней, когда появились описанны...   \n",
       "\n",
       "                                      Внешний осмотр  Revisit  \\\n",
       "0  На жевательной поверхности 2.6- кариозная поло...        1   \n",
       "1                                                NaN        1   \n",
       "2                                                NaN        1   \n",
       "\n",
       "                                     Типичные_жалобы  \\\n",
       "0  на першение, осиплость | на периодическое затр...   \n",
       "1  на выделения из половых путей ,периодические т...   \n",
       "2                                                NaN   \n",
       "\n",
       "                                     Типичные_услуги  \\\n",
       "0  Прием врача-оториноларинголога повторный, амбу...   \n",
       "1  Прием врача-акушера-гинеколога повторный, амбу...   \n",
       "2                                                NaN   \n",
       "\n",
       "                  Типичные_источники_рекламы  \n",
       "0             Другое | Рекомендации знакомых  \n",
       "1  Другое | Рекомендации знакомых | Интернет  \n",
       "2                                        NaN  "
      ]
     },
     "execution_count": 3,
     "metadata": {},
     "output_type": "execute_result"
    }
   ],
   "source": [
    "train_df.head(3)"
   ]
  },
  {
   "cell_type": "code",
   "execution_count": 4,
   "metadata": {},
   "outputs": [],
   "source": [
    "def preprocess_text_feature(feature):\n",
    "    return feature.str.lower() \\\n",
    "                  .str.replace('\\n', '') \\\n",
    "                  .apply(lambda string: re.sub(r\"([.\\!?,'/()\\-№:;])\", ' \\\\1 ', string))"
   ]
  },
  {
   "cell_type": "code",
   "execution_count": 5,
   "metadata": {},
   "outputs": [],
   "source": [
    "def preprocess_dataset(df):\n",
    "    df['Состояние_неизвестно'] = df['Общее состояние'].isna()\n",
    "    df['Аллергия_неизвестна'] = df['аллергия'].isna()\n",
    "    df['Общее_состояние_неизвестно'] = df['Общее состояние'].isna()\n",
    "    df['Анамнез_заболевания_неизвестен'] = df['Анамнез заболевания'].isna()\n",
    "    df['Внешний_осмотр_неизвестен'] = df['Внешний осмотр'].isna()\n",
    "    df['Типичные_жалобы_неизвестны'] = df['Типичные_жалобы'].isna()\n",
    "    df['Типичные_услуги_неизвестны'] = df['Типичные_услуги'].isna()\n",
    "    df['Типичные_источники_рекламы_неизвестны'] = df['Типичные_источники_рекламы'].isna()\n",
    "    \n",
    "    df['Общее состояние'].fillna('общее_состояние_неизвестно', inplace=True)\n",
    "    df['аллергия'].fillna('аллергии_неизвестны', inplace=True)\n",
    "    df['Анамнез заболевания'].fillna('нет_анамнеза', inplace=True)\n",
    "    df['Внешний осмотр'].fillna('нет_осмотра', inplace=True)\n",
    "    df['Типичные_жалобы'].fillna('типичные_жалобы_неизвестны', inplace=True)\n",
    "    df['Типичные_услуги'].fillna('типичные_услги_неизвестны', inplace=True)\n",
    "    df['Типичные_источники_рекламы'].fillna('типичные_источники_рекламы_неизвестны', inplace=True)\n",
    "    \n",
    "    df['Анамнез заболевания'] = preprocess_text_feature(df['Анамнез заболевания'])\n",
    "    df['Внешний осмотр'] = preprocess_text_feature(df['Внешний осмотр'])\n",
    "    df['Диагноз'] = preprocess_text_feature(df['Диагноз'])\n",
    "    df['Общее состояние'] = preprocess_text_feature(df['Общее состояние'])\n",
    "    df['Типичные_услуги'] = preprocess_text_feature(df['Типичные_услуги'])\n",
    "    df['Типичные_жалобы'] = preprocess_text_feature(df['Типичные_жалобы'])\n",
    "    df['Типичные_источники_рекламы'] = preprocess_text_feature(df['Типичные_источники_рекламы'])\n",
    "    df['аллергия'] = preprocess_text_feature(df['аллергия'])\n",
    "    \n",
    "    df['Возраст_7'] = np.round(df['Возраст'] / 7).astype('category')\n",
    "    df['Возраст_5'] = np.round(df['Возраст'] / 5).astype('category')\n",
    "    df['Возраст_3'] = np.round(df['Возраст'] / 3).astype('category')\n",
    "    df['Возраст_2'] = np.round(df['Возраст'] / 2).astype('category')   \n",
    "    df['Возраст'] = df['Возраст'].astype('category')\n",
    "    \n",
    "    df['Пол'] = df['Пол'].astype('category')\n",
    "    df['ID'] = df['ID'].astype('category')\n",
    "    df['Код_диагноза'] = df['Код_диагноза'].astype('category')\n",
    "    df['аллергия'] = df['аллергия'].astype('category')\n",
    "    df['Анамнез заболевания'] = df['Анамнез заболевания'].astype('category')\n",
    "    df['Внешний осмотр'] = df['Внешний осмотр'].astype('category')\n",
    "    return df"
   ]
  },
  {
   "cell_type": "code",
   "execution_count": 6,
   "metadata": {},
   "outputs": [],
   "source": [
    "train_df = preprocess_dataset(train_df)\n",
    "test_df = preprocess_dataset(test_df)"
   ]
  },
  {
   "cell_type": "code",
   "execution_count": 7,
   "metadata": {},
   "outputs": [],
   "source": [
    "y_train = train_df.Revisit\n",
    "train_df = train_df.drop('Revisit', axis='columns')"
   ]
  },
  {
   "cell_type": "code",
   "execution_count": 8,
   "metadata": {},
   "outputs": [],
   "source": [
    "whole_df = pd.concat([train_df, test_df])"
   ]
  },
  {
   "cell_type": "code",
   "execution_count": 9,
   "metadata": {},
   "outputs": [],
   "source": [
    "def label_with_pos(text):\n",
    "    analyzer = MorphAnalyzer()\n",
    "    tokens = re.compile('[\\W+]').sub(' ', text).lower().strip().split()\n",
    "    tokens = [x for x in tokens if len(x) > 1]\n",
    "    result = []\n",
    "    for token in tokens:\n",
    "        parsed_result = analyzer.parse(token)\n",
    "        pos = parsed_result[0].tag.POS\n",
    "        pos_token = token + ('' if pos is None else '_' + pos)\n",
    "        result.append(pos_token)\n",
    "    return ' '.join(result)"
   ]
  },
  {
   "cell_type": "code",
   "execution_count": 10,
   "metadata": {},
   "outputs": [],
   "source": [
    "def one_hot_texts(text_feature):\n",
    "    wb = wordbatch.WordBatch(extractor=(WordBag, {\"hash_ngrams\": 2, \"hash_ngrams_weights\": [1.0, 1.0],\n",
    "                                                  \"hash_size\": 2 ** 22, \"norm\": None,\n",
    "                                                  \"tf\": 5.0, \"idf\": 5.0,}), procs=32)\n",
    "    wb.dictionary_freeze = True\n",
    "    transformed_feature = wb.fit_transform(text_feature)\n",
    "    nnz_features_mask = np.clip(transformed_feature.getnnz(axis=0) - 1, 0, 1).astype(bool)\n",
    "    transformed_feature = transformed_feature[:, nnz_features_mask]\n",
    "    return transformed_feature"
   ]
  },
  {
   "cell_type": "code",
   "execution_count": 11,
   "metadata": {},
   "outputs": [
    {
     "name": "stderr",
     "output_type": "stream",
     "text": [
      "  0%|          | 0/8 [00:00<?, ?it/s]"
     ]
    },
    {
     "name": "stdout",
     "output_type": "stream",
     "text": [
      "Normalize text\n",
      "Extract wordbags\n"
     ]
    },
    {
     "name": "stderr",
     "output_type": "stream",
     "text": [
      " 12%|█▎        | 1/8 [00:12<01:27, 12.55s/it]"
     ]
    },
    {
     "name": "stdout",
     "output_type": "stream",
     "text": [
      "Normalize text\n",
      "Extract wordbags\n"
     ]
    },
    {
     "name": "stderr",
     "output_type": "stream",
     "text": [
      " 25%|██▌       | 2/8 [00:25<01:15, 12.59s/it]"
     ]
    },
    {
     "name": "stdout",
     "output_type": "stream",
     "text": [
      "Normalize text\n",
      "Extract wordbags\n"
     ]
    },
    {
     "name": "stderr",
     "output_type": "stream",
     "text": [
      " 38%|███▊      | 3/8 [00:38<01:03, 12.75s/it]"
     ]
    },
    {
     "name": "stdout",
     "output_type": "stream",
     "text": [
      "Normalize text\n",
      "Extract wordbags\n"
     ]
    },
    {
     "name": "stderr",
     "output_type": "stream",
     "text": [
      " 50%|█████     | 4/8 [00:50<00:50, 12.70s/it]"
     ]
    },
    {
     "name": "stdout",
     "output_type": "stream",
     "text": [
      "Normalize text\n",
      "Extract wordbags\n"
     ]
    },
    {
     "name": "stderr",
     "output_type": "stream",
     "text": [
      " 62%|██████▎   | 5/8 [01:03<00:38, 12.75s/it]"
     ]
    },
    {
     "name": "stdout",
     "output_type": "stream",
     "text": [
      "Normalize text\n",
      "Extract wordbags\n"
     ]
    },
    {
     "name": "stderr",
     "output_type": "stream",
     "text": [
      " 75%|███████▌  | 6/8 [01:19<00:26, 13.32s/it]"
     ]
    },
    {
     "name": "stdout",
     "output_type": "stream",
     "text": [
      "Normalize text\n",
      "Extract wordbags\n"
     ]
    },
    {
     "name": "stderr",
     "output_type": "stream",
     "text": [
      " 88%|████████▊ | 7/8 [01:33<00:13, 13.32s/it]"
     ]
    },
    {
     "name": "stdout",
     "output_type": "stream",
     "text": [
      "Normalize text\n",
      "Extract wordbags\n"
     ]
    },
    {
     "name": "stderr",
     "output_type": "stream",
     "text": [
      "100%|██████████| 8/8 [01:46<00:00, 13.33s/it]\n"
     ]
    }
   ],
   "source": [
    "text_feature_names = ['Общее состояние', 'аллергия', 'Анамнез заболевания', 'Внешний осмотр',\n",
    "                      'Диагноз', 'Типичные_жалобы', 'Типичные_услуги', 'Типичные_источники_рекламы']\n",
    "transformed_matrices = [one_hot_texts(whole_df[feature_name])\n",
    "                        for feature_name in tqdm(text_feature_names)]\n",
    "text_features_matrix = sparse.hstack(transformed_matrices)"
   ]
  },
  {
   "cell_type": "code",
   "execution_count": 12,
   "metadata": {},
   "outputs": [],
   "source": [
    "patient_dummies = sparse.csr_matrix(\n",
    "    pd.get_dummies(whole_df[['Возраст', 'Код_диагноза', 'Пол']], sparse=True).values)\n",
    "\n",
    "age_dummies = sparse.csr_matrix(\n",
    "    pd.get_dummies(whole_df[['Возраст_2', 'Возраст_3', 'Возраст_5', 'Возраст_7']], sparse=True).values)"
   ]
  },
  {
   "cell_type": "code",
   "execution_count": 13,
   "metadata": {},
   "outputs": [],
   "source": [
    "nan_feature_names = ['Состояние_неизвестно', 'Аллергия_неизвестна', 'Общее_состояние_неизвестно',\n",
    "                     'Анамнез_заболевания_неизвестен', 'Внешний_осмотр_неизвестен',\n",
    "                     'Типичные_жалобы_неизвестны', 'Типичные_услуги_неизвестны',\n",
    "                     'Типичные_источники_рекламы_неизвестны']\n",
    "nan_dummies = sparse.csr_matrix(pd.get_dummies(whole_df[nan_feature_names], sparse=True).values)"
   ]
  },
  {
   "cell_type": "code",
   "execution_count": 14,
   "metadata": {},
   "outputs": [],
   "source": [
    "vectorizer = CountVectorizer()\n",
    "diagnosis_counts = vectorizer.fit_transform(whole_df['Код_диагноза'].apply(str))\n",
    "\n",
    "vectorizer = CountVectorizer(analyzer='char', ngram_range=(1, 2))\n",
    "diagnosis_counts_char = vectorizer.fit_transform(whole_df['Код_диагноза'].apply(str))"
   ]
  },
  {
   "cell_type": "code",
   "execution_count": 15,
   "metadata": {},
   "outputs": [],
   "source": [
    "def remove_unsued_features(mat):\n",
    "    nnz_mask = np.clip(mat.getnnz(axis=0) - 1, 0, 1).astype(bool)\n",
    "    mat = mat[:, nnz_mask]\n",
    "    return mat"
   ]
  },
  {
   "cell_type": "code",
   "execution_count": null,
   "metadata": {},
   "outputs": [],
   "source": [
    "patient_dummies = remove_unsued_features(patient_dummies)\n",
    "nan_dummies = remove_unsued_features(nan_dummies)\n",
    "age_dummies = remove_unsued_features(age_dummies)"
   ]
  },
  {
   "cell_type": "code",
   "execution_count": 46,
   "metadata": {},
   "outputs": [],
   "source": [
    "whole_features_matrix = sparse.hstack([\n",
    "    text_features_matrix, patient_dummies, age_dummies,\n",
    "    nan_dummies, diagnosis_counts, diagnosis_counts_char,\n",
    "    sparse.csr_matrix(whole_df.Возраст).T,\n",
    "    sparse.csr_matrix(whole_df.Пол.astype('category').cat.codes).T,\n",
    "    sparse.csr_matrix(whole_df.Диагноз.astype('category').cat.codes).T\n",
    "]).tocsr()"
   ]
  },
  {
   "cell_type": "code",
   "execution_count": 47,
   "metadata": {},
   "outputs": [],
   "source": [
    "features_train = whole_features_matrix[:len(train_df)]\n",
    "features_test = whole_features_matrix[len(train_df):]"
   ]
  },
  {
   "cell_type": "code",
   "execution_count": 49,
   "metadata": {},
   "outputs": [
    {
     "name": "stderr",
     "output_type": "stream",
     "text": [
      "\n",
      "  0%|          | 0/10 [00:00<?, ?it/s]\u001b[A"
     ]
    },
    {
     "name": "stdout",
     "output_type": "stream",
     "text": [
      "Training until validation scores don't improve for 200 rounds.\n"
     ]
    },
    {
     "name": "stderr",
     "output_type": "stream",
     "text": [
      "\n",
      "Exception in thread Thread-56:\n",
      "Traceback (most recent call last):\n",
      "  File \"/root/miniconda3/lib/python3.6/threading.py\", line 916, in _bootstrap_inner\n",
      "    self.run()\n",
      "  File \"/root/miniconda3/lib/python3.6/site-packages/tqdm/_tqdm.py\", line 148, in run\n",
      "    for instance in self.tqdm_cls._instances:\n",
      "  File \"/root/miniconda3/lib/python3.6/_weakrefset.py\", line 60, in __iter__\n",
      "    for itemref in self.data:\n",
      "RuntimeError: Set changed size during iteration\n",
      "\n"
     ]
    },
    {
     "name": "stdout",
     "output_type": "stream",
     "text": [
      "Early stopping, best iteration is:\n",
      "[162]\ttraining's auc: 0.743659\tvalid_1's auc: 0.7233\n",
      "Training until validation scores don't improve for 200 rounds.\n",
      "Early stopping, best iteration is:\n",
      "[115]\ttraining's auc: 0.738321\tvalid_1's auc: 0.718954\n",
      "Training until validation scores don't improve for 200 rounds.\n",
      "Early stopping, best iteration is:\n",
      "[147]\ttraining's auc: 0.74172\tvalid_1's auc: 0.722478\n",
      "Training until validation scores don't improve for 200 rounds.\n",
      "Early stopping, best iteration is:\n",
      "[192]\ttraining's auc: 0.745824\tvalid_1's auc: 0.725325\n",
      "Training until validation scores don't improve for 200 rounds.\n",
      "Did not meet early stopping. Best iteration is:\n",
      "[400]\ttraining's auc: 0.761671\tvalid_1's auc: 0.720972\n",
      "Training until validation scores don't improve for 200 rounds.\n",
      "Early stopping, best iteration is:\n",
      "[150]\ttraining's auc: 0.741815\tvalid_1's auc: 0.721358\n",
      "Training until validation scores don't improve for 200 rounds.\n",
      "Early stopping, best iteration is:\n",
      "[168]\ttraining's auc: 0.742928\tvalid_1's auc: 0.729946\n",
      "Training until validation scores don't improve for 200 rounds.\n",
      "Early stopping, best iteration is:\n",
      "[129]\ttraining's auc: 0.740204\tvalid_1's auc: 0.716283\n",
      "Training until validation scores don't improve for 200 rounds.\n",
      "Early stopping, best iteration is:\n",
      "[117]\ttraining's auc: 0.737079\tvalid_1's auc: 0.730829\n",
      "Training until validation scores don't improve for 200 rounds.\n",
      "Did not meet early stopping. Best iteration is:\n",
      "[400]\ttraining's auc: 0.761531\tvalid_1's auc: 0.724342\n"
     ]
    },
    {
     "name": "stderr",
     "output_type": "stream",
     "text": [
      " 10%|█         | 1/10 [02:37<23:33, 157.06s/it]"
     ]
    },
    {
     "name": "stdout",
     "output_type": "stream",
     "text": [
      "Training until validation scores don't improve for 200 rounds.\n",
      "Early stopping, best iteration is:\n",
      "[84]\ttraining's auc: 0.733475\tvalid_1's auc: 0.725883\n",
      "Training until validation scores don't improve for 200 rounds.\n",
      "Early stopping, best iteration is:\n",
      "[165]\ttraining's auc: 0.742679\tvalid_1's auc: 0.727408\n",
      "Training until validation scores don't improve for 200 rounds.\n",
      "Early stopping, best iteration is:\n",
      "[149]\ttraining's auc: 0.742366\tvalid_1's auc: 0.71498\n",
      "Training until validation scores don't improve for 200 rounds.\n",
      "Did not meet early stopping. Best iteration is:\n",
      "[400]\ttraining's auc: 0.762227\tvalid_1's auc: 0.715756\n",
      "Training until validation scores don't improve for 200 rounds.\n",
      "Early stopping, best iteration is:\n",
      "[195]\ttraining's auc: 0.745912\tvalid_1's auc: 0.727227\n",
      "Training until validation scores don't improve for 200 rounds.\n",
      "Early stopping, best iteration is:\n",
      "[100]\ttraining's auc: 0.735866\tvalid_1's auc: 0.723741\n",
      "Training until validation scores don't improve for 200 rounds.\n",
      "Early stopping, best iteration is:\n",
      "[195]\ttraining's auc: 0.745763\tvalid_1's auc: 0.730015\n",
      "Training until validation scores don't improve for 200 rounds.\n",
      "Early stopping, best iteration is:\n",
      "[110]\ttraining's auc: 0.737574\tvalid_1's auc: 0.716479\n",
      "Training until validation scores don't improve for 200 rounds.\n",
      "Did not meet early stopping. Best iteration is:\n",
      "[400]\ttraining's auc: 0.761621\tvalid_1's auc: 0.721293\n",
      "Training until validation scores don't improve for 200 rounds.\n",
      "Early stopping, best iteration is:\n",
      "[122]\ttraining's auc: 0.738306\tvalid_1's auc: 0.725215\n"
     ]
    },
    {
     "name": "stderr",
     "output_type": "stream",
     "text": [
      " 20%|██        | 2/10 [05:08<20:35, 154.45s/it]"
     ]
    },
    {
     "name": "stdout",
     "output_type": "stream",
     "text": [
      "Training until validation scores don't improve for 200 rounds.\n",
      "Early stopping, best iteration is:\n",
      "[176]\ttraining's auc: 0.744422\tvalid_1's auc: 0.725389\n",
      "Training until validation scores don't improve for 200 rounds.\n",
      "Early stopping, best iteration is:\n",
      "[137]\ttraining's auc: 0.740626\tvalid_1's auc: 0.722122\n",
      "Training until validation scores don't improve for 200 rounds.\n",
      "Early stopping, best iteration is:\n",
      "[109]\ttraining's auc: 0.736736\tvalid_1's auc: 0.722186\n",
      "Training until validation scores don't improve for 200 rounds.\n",
      "Did not meet early stopping. Best iteration is:\n",
      "[400]\ttraining's auc: 0.761388\tvalid_1's auc: 0.720571\n",
      "Training until validation scores don't improve for 200 rounds.\n",
      "Early stopping, best iteration is:\n",
      "[124]\ttraining's auc: 0.738509\tvalid_1's auc: 0.722789\n",
      "Training until validation scores don't improve for 200 rounds.\n",
      "Early stopping, best iteration is:\n",
      "[154]\ttraining's auc: 0.742544\tvalid_1's auc: 0.72128\n",
      "Training until validation scores don't improve for 200 rounds.\n",
      "Early stopping, best iteration is:\n",
      "[81]\ttraining's auc: 0.73263\tvalid_1's auc: 0.725494\n",
      "Training until validation scores don't improve for 200 rounds.\n",
      "Early stopping, best iteration is:\n",
      "[129]\ttraining's auc: 0.739608\tvalid_1's auc: 0.723589\n",
      "Training until validation scores don't improve for 200 rounds.\n",
      "Early stopping, best iteration is:\n",
      "[154]\ttraining's auc: 0.741771\tvalid_1's auc: 0.725226\n",
      "Training until validation scores don't improve for 200 rounds.\n",
      "Early stopping, best iteration is:\n",
      "[143]\ttraining's auc: 0.740958\tvalid_1's auc: 0.723947\n"
     ]
    },
    {
     "name": "stderr",
     "output_type": "stream",
     "text": [
      " 30%|███       | 3/10 [07:39<17:51, 153.11s/it]"
     ]
    },
    {
     "name": "stdout",
     "output_type": "stream",
     "text": [
      "Training until validation scores don't improve for 200 rounds.\n",
      "Early stopping, best iteration is:\n",
      "[167]\ttraining's auc: 0.743966\tvalid_1's auc: 0.724016\n",
      "Training until validation scores don't improve for 200 rounds.\n",
      "Early stopping, best iteration is:\n",
      "[190]\ttraining's auc: 0.745518\tvalid_1's auc: 0.725545\n",
      "Training until validation scores don't improve for 200 rounds.\n",
      "Early stopping, best iteration is:\n",
      "[173]\ttraining's auc: 0.744359\tvalid_1's auc: 0.721767\n",
      "Training until validation scores don't improve for 200 rounds.\n",
      "Early stopping, best iteration is:\n",
      "[186]\ttraining's auc: 0.745748\tvalid_1's auc: 0.722578\n",
      "Training until validation scores don't improve for 200 rounds.\n",
      "Early stopping, best iteration is:\n",
      "[156]\ttraining's auc: 0.742651\tvalid_1's auc: 0.723012\n",
      "Training until validation scores don't improve for 200 rounds.\n",
      "Early stopping, best iteration is:\n",
      "[121]\ttraining's auc: 0.737705\tvalid_1's auc: 0.730979\n",
      "Training until validation scores don't improve for 200 rounds.\n",
      "Did not meet early stopping. Best iteration is:\n",
      "[400]\ttraining's auc: 0.762205\tvalid_1's auc: 0.723017\n",
      "Training until validation scores don't improve for 200 rounds.\n",
      "Early stopping, best iteration is:\n",
      "[92]\ttraining's auc: 0.73491\tvalid_1's auc: 0.720684\n",
      "Training until validation scores don't improve for 200 rounds.\n",
      "Did not meet early stopping. Best iteration is:\n",
      "[400]\ttraining's auc: 0.761018\tvalid_1's auc: 0.725575\n",
      "Training until validation scores don't improve for 200 rounds.\n",
      "Early stopping, best iteration is:\n",
      "[155]\ttraining's auc: 0.742953\tvalid_1's auc: 0.718445\n"
     ]
    },
    {
     "name": "stderr",
     "output_type": "stream",
     "text": [
      " 40%|████      | 4/10 [10:15<15:22, 153.79s/it]"
     ]
    },
    {
     "name": "stdout",
     "output_type": "stream",
     "text": [
      "Training until validation scores don't improve for 200 rounds.\n",
      "Early stopping, best iteration is:\n",
      "[103]\ttraining's auc: 0.736384\tvalid_1's auc: 0.720628\n",
      "Training until validation scores don't improve for 200 rounds.\n",
      "Early stopping, best iteration is:\n",
      "[151]\ttraining's auc: 0.741721\tvalid_1's auc: 0.724871\n",
      "Training until validation scores don't improve for 200 rounds.\n",
      "Early stopping, best iteration is:\n",
      "[199]\ttraining's auc: 0.746403\tvalid_1's auc: 0.726844\n",
      "Training until validation scores don't improve for 200 rounds.\n",
      "Early stopping, best iteration is:\n",
      "[167]\ttraining's auc: 0.74321\tvalid_1's auc: 0.727405\n",
      "Training until validation scores don't improve for 200 rounds.\n",
      "Early stopping, best iteration is:\n",
      "[173]\ttraining's auc: 0.744888\tvalid_1's auc: 0.717292\n",
      "Training until validation scores don't improve for 200 rounds.\n",
      "Early stopping, best iteration is:\n",
      "[154]\ttraining's auc: 0.742135\tvalid_1's auc: 0.724797\n",
      "Training until validation scores don't improve for 200 rounds.\n",
      "Early stopping, best iteration is:\n",
      "[178]\ttraining's auc: 0.744867\tvalid_1's auc: 0.721343\n",
      "Training until validation scores don't improve for 200 rounds.\n",
      "Early stopping, best iteration is:\n",
      "[196]\ttraining's auc: 0.746493\tvalid_1's auc: 0.724657\n",
      "Training until validation scores don't improve for 200 rounds.\n",
      "Did not meet early stopping. Best iteration is:\n",
      "[400]\ttraining's auc: 0.761822\tvalid_1's auc: 0.722328\n",
      "Training until validation scores don't improve for 200 rounds.\n",
      "Did not meet early stopping. Best iteration is:\n",
      "[400]\ttraining's auc: 0.761797\tvalid_1's auc: 0.723847\n"
     ]
    },
    {
     "name": "stderr",
     "output_type": "stream",
     "text": [
      " 50%|█████     | 5/10 [12:55<12:55, 155.14s/it]"
     ]
    },
    {
     "name": "stdout",
     "output_type": "stream",
     "text": [
      "Training until validation scores don't improve for 200 rounds.\n",
      "Early stopping, best iteration is:\n",
      "[147]\ttraining's auc: 0.741453\tvalid_1's auc: 0.721118\n",
      "Training until validation scores don't improve for 200 rounds.\n",
      "Early stopping, best iteration is:\n",
      "[161]\ttraining's auc: 0.742898\tvalid_1's auc: 0.722733\n",
      "Training until validation scores don't improve for 200 rounds.\n",
      "Early stopping, best iteration is:\n",
      "[145]\ttraining's auc: 0.741387\tvalid_1's auc: 0.723819\n",
      "Training until validation scores don't improve for 200 rounds.\n",
      "Early stopping, best iteration is:\n",
      "[170]\ttraining's auc: 0.743783\tvalid_1's auc: 0.724885\n",
      "Training until validation scores don't improve for 200 rounds.\n",
      "Early stopping, best iteration is:\n",
      "[168]\ttraining's auc: 0.743019\tvalid_1's auc: 0.72918\n",
      "Training until validation scores don't improve for 200 rounds.\n",
      "Early stopping, best iteration is:\n",
      "[159]\ttraining's auc: 0.743255\tvalid_1's auc: 0.720375\n",
      "Training until validation scores don't improve for 200 rounds.\n",
      "Early stopping, best iteration is:\n",
      "[147]\ttraining's auc: 0.741709\tvalid_1's auc: 0.719522\n",
      "Training until validation scores don't improve for 200 rounds.\n",
      "Early stopping, best iteration is:\n",
      "[149]\ttraining's auc: 0.741691\tvalid_1's auc: 0.7239\n",
      "Training until validation scores don't improve for 200 rounds.\n",
      "Early stopping, best iteration is:\n",
      "[177]\ttraining's auc: 0.744216\tvalid_1's auc: 0.72496\n",
      "Training until validation scores don't improve for 200 rounds.\n",
      "Early stopping, best iteration is:\n",
      "[193]\ttraining's auc: 0.746184\tvalid_1's auc: 0.72259\n"
     ]
    },
    {
     "name": "stderr",
     "output_type": "stream",
     "text": [
      " 60%|██████    | 6/10 [15:29<10:19, 154.94s/it]"
     ]
    },
    {
     "name": "stdout",
     "output_type": "stream",
     "text": [
      "Training until validation scores don't improve for 200 rounds.\n",
      "Did not meet early stopping. Best iteration is:\n",
      "[400]\ttraining's auc: 0.76222\tvalid_1's auc: 0.720062\n",
      "Training until validation scores don't improve for 200 rounds.\n",
      "Early stopping, best iteration is:\n",
      "[142]\ttraining's auc: 0.740462\tvalid_1's auc: 0.727546\n",
      "Training until validation scores don't improve for 200 rounds.\n",
      "Early stopping, best iteration is:\n",
      "[168]\ttraining's auc: 0.743477\tvalid_1's auc: 0.723327\n",
      "Training until validation scores don't improve for 200 rounds.\n",
      "Early stopping, best iteration is:\n",
      "[119]\ttraining's auc: 0.738074\tvalid_1's auc: 0.723307\n",
      "Training until validation scores don't improve for 200 rounds.\n",
      "Early stopping, best iteration is:\n",
      "[96]\ttraining's auc: 0.735327\tvalid_1's auc: 0.721204\n",
      "Training until validation scores don't improve for 200 rounds.\n",
      "Early stopping, best iteration is:\n",
      "[141]\ttraining's auc: 0.740672\tvalid_1's auc: 0.725735\n",
      "Training until validation scores don't improve for 200 rounds.\n",
      "Early stopping, best iteration is:\n",
      "[110]\ttraining's auc: 0.737387\tvalid_1's auc: 0.720596\n",
      "Training until validation scores don't improve for 200 rounds.\n",
      "Early stopping, best iteration is:\n",
      "[135]\ttraining's auc: 0.740473\tvalid_1's auc: 0.72335\n",
      "Training until validation scores don't improve for 200 rounds.\n",
      "Early stopping, best iteration is:\n",
      "[142]\ttraining's auc: 0.741243\tvalid_1's auc: 0.722334\n",
      "Training until validation scores don't improve for 200 rounds.\n",
      "Did not meet early stopping. Best iteration is:\n",
      "[400]\ttraining's auc: 0.76152\tvalid_1's auc: 0.724086\n"
     ]
    },
    {
     "name": "stderr",
     "output_type": "stream",
     "text": [
      " 70%|███████   | 7/10 [17:58<07:42, 154.05s/it]"
     ]
    },
    {
     "name": "stdout",
     "output_type": "stream",
     "text": [
      "Training until validation scores don't improve for 200 rounds.\n",
      "Early stopping, best iteration is:\n",
      "[176]\ttraining's auc: 0.745278\tvalid_1's auc: 0.714819\n",
      "Training until validation scores don't improve for 200 rounds.\n",
      "Early stopping, best iteration is:\n",
      "[150]\ttraining's auc: 0.741432\tvalid_1's auc: 0.726041\n",
      "Training until validation scores don't improve for 200 rounds.\n",
      "Did not meet early stopping. Best iteration is:\n",
      "[400]\ttraining's auc: 0.761699\tvalid_1's auc: 0.72491\n",
      "Training until validation scores don't improve for 200 rounds.\n",
      "Early stopping, best iteration is:\n",
      "[142]\ttraining's auc: 0.740529\tvalid_1's auc: 0.726737\n",
      "Training until validation scores don't improve for 200 rounds.\n",
      "Early stopping, best iteration is:\n",
      "[149]\ttraining's auc: 0.741411\tvalid_1's auc: 0.725027\n",
      "Training until validation scores don't improve for 200 rounds.\n",
      "Did not meet early stopping. Best iteration is:\n",
      "[400]\ttraining's auc: 0.760836\tvalid_1's auc: 0.728283\n",
      "Training until validation scores don't improve for 200 rounds.\n",
      "Early stopping, best iteration is:\n",
      "[137]\ttraining's auc: 0.740843\tvalid_1's auc: 0.719425\n",
      "Training until validation scores don't improve for 200 rounds.\n",
      "Early stopping, best iteration is:\n",
      "[123]\ttraining's auc: 0.738916\tvalid_1's auc: 0.722863\n",
      "Training until validation scores don't improve for 200 rounds.\n",
      "Early stopping, best iteration is:\n",
      "[164]\ttraining's auc: 0.743456\tvalid_1's auc: 0.720797\n",
      "Training until validation scores don't improve for 200 rounds.\n",
      "Did not meet early stopping. Best iteration is:\n",
      "[400]\ttraining's auc: 0.761844\tvalid_1's auc: 0.719375\n"
     ]
    },
    {
     "name": "stderr",
     "output_type": "stream",
     "text": [
      " 80%|████████  | 8/10 [21:33<05:23, 161.69s/it]"
     ]
    },
    {
     "name": "stdout",
     "output_type": "stream",
     "text": [
      "Training until validation scores don't improve for 200 rounds.\n",
      "Early stopping, best iteration is:\n",
      "[172]\ttraining's auc: 0.7437\tvalid_1's auc: 0.724808\n",
      "Training until validation scores don't improve for 200 rounds.\n",
      "Early stopping, best iteration is:\n",
      "[150]\ttraining's auc: 0.741965\tvalid_1's auc: 0.722684\n",
      "Training until validation scores don't improve for 200 rounds.\n",
      "Early stopping, best iteration is:\n",
      "[113]\ttraining's auc: 0.737911\tvalid_1's auc: 0.719409\n",
      "Training until validation scores don't improve for 200 rounds.\n",
      "Did not meet early stopping. Best iteration is:\n",
      "[400]\ttraining's auc: 0.761483\tvalid_1's auc: 0.723084\n",
      "Training until validation scores don't improve for 200 rounds.\n",
      "Early stopping, best iteration is:\n",
      "[166]\ttraining's auc: 0.743391\tvalid_1's auc: 0.726133\n",
      "Training until validation scores don't improve for 200 rounds.\n",
      "Did not meet early stopping. Best iteration is:\n",
      "[400]\ttraining's auc: 0.761975\tvalid_1's auc: 0.719901\n",
      "Training until validation scores don't improve for 200 rounds.\n",
      "Early stopping, best iteration is:\n",
      "[155]\ttraining's auc: 0.742506\tvalid_1's auc: 0.723296\n",
      "Training until validation scores don't improve for 200 rounds.\n",
      "Did not meet early stopping. Best iteration is:\n",
      "[400]\ttraining's auc: 0.761312\tvalid_1's auc: 0.725249\n",
      "Training until validation scores don't improve for 200 rounds.\n",
      "Early stopping, best iteration is:\n",
      "[155]\ttraining's auc: 0.742721\tvalid_1's auc: 0.716897\n",
      "Training until validation scores don't improve for 200 rounds.\n",
      "Early stopping, best iteration is:\n",
      "[187]\ttraining's auc: 0.74481\tvalid_1's auc: 0.730115\n"
     ]
    },
    {
     "name": "stderr",
     "output_type": "stream",
     "text": [
      " 90%|█████████ | 9/10 [25:14<02:48, 168.30s/it]"
     ]
    },
    {
     "name": "stdout",
     "output_type": "stream",
     "text": [
      "Training until validation scores don't improve for 200 rounds.\n",
      "Early stopping, best iteration is:\n",
      "[127]\ttraining's auc: 0.739213\tvalid_1's auc: 0.721857\n",
      "Training until validation scores don't improve for 200 rounds.\n",
      "Did not meet early stopping. Best iteration is:\n",
      "[400]\ttraining's auc: 0.761981\tvalid_1's auc: 0.721772\n",
      "Training until validation scores don't improve for 200 rounds.\n",
      "Early stopping, best iteration is:\n",
      "[121]\ttraining's auc: 0.7387\tvalid_1's auc: 0.724256\n",
      "Training until validation scores don't improve for 200 rounds.\n",
      "Early stopping, best iteration is:\n",
      "[120]\ttraining's auc: 0.738439\tvalid_1's auc: 0.723397\n",
      "Training until validation scores don't improve for 200 rounds.\n",
      "Did not meet early stopping. Best iteration is:\n",
      "[400]\ttraining's auc: 0.761904\tvalid_1's auc: 0.722686\n",
      "Training until validation scores don't improve for 200 rounds.\n",
      "Early stopping, best iteration is:\n",
      "[145]\ttraining's auc: 0.741435\tvalid_1's auc: 0.724107\n",
      "Training until validation scores don't improve for 200 rounds.\n",
      "Early stopping, best iteration is:\n",
      "[155]\ttraining's auc: 0.741936\tvalid_1's auc: 0.726121\n",
      "Training until validation scores don't improve for 200 rounds.\n",
      "Early stopping, best iteration is:\n",
      "[157]\ttraining's auc: 0.742594\tvalid_1's auc: 0.726053\n",
      "Training until validation scores don't improve for 200 rounds.\n",
      "Early stopping, best iteration is:\n",
      "[143]\ttraining's auc: 0.741009\tvalid_1's auc: 0.723108\n",
      "Training until validation scores don't improve for 200 rounds.\n",
      "Early stopping, best iteration is:\n",
      "[149]\ttraining's auc: 0.742136\tvalid_1's auc: 0.721107\n"
     ]
    },
    {
     "name": "stderr",
     "output_type": "stream",
     "text": [
      "100%|██████████| 10/10 [27:49<00:00, 166.99s/it]\n"
     ]
    }
   ],
   "source": [
    "predictions = []\n",
    "\n",
    "for random_state in tqdm(range(0, 100, 10)):\n",
    "    params = {\n",
    "        'application': 'binary',\n",
    "        'verbosity': -1,\n",
    "        'metric': 'auc',\n",
    "        'feature_fraction_seed' : random_state + 10,\n",
    "        'bagging_seed' : random_state + 20\n",
    "    }\n",
    "    stratified = KFold(n_splits=10, shuffle=True, random_state=random_state)\n",
    "    for train_index, test_index in stratified.split(features_train, y_train):\n",
    "        x_t, x_v = features_train[train_index], features_train[test_index]\n",
    "        y_t, y_v = y_train[train_index], y_train[test_index]\n",
    "\n",
    "        dataset_train = lgbm.Dataset(x_t, label=y_t)\n",
    "        dataset_valid = lgbm.Dataset(x_v, label=y_v)\n",
    "        watchlist = [dataset_train, dataset_valid]\n",
    "        \n",
    "        model = lgbm.train(params, train_set=dataset_train, valid_sets=watchlist,\n",
    "                          num_boost_round=400, early_stopping_rounds=200, verbose_eval=1000)\n",
    "        preds = model.predict(x_v)\n",
    "#         print(\"roc_auc_score: \", roc_auc_score(y_v, preds))\n",
    "        predictions.append(model.predict(features_test))\n",
    "        \n",
    "preds = gmean(np.array(predictions), axis=0)"
   ]
  },
  {
   "cell_type": "code",
   "execution_count": 53,
   "metadata": {},
   "outputs": [],
   "source": [
    "submission = pd.read_csv('/root/dataset/RoboMed/sample_submission.csv')\n",
    "submission.proba = preds\n",
    "submission.to_csv('submission_boosting.csv', index=False)"
   ]
  },
  {
   "cell_type": "code",
   "execution_count": 50,
   "metadata": {},
   "outputs": [
    {
     "data": {
      "text/plain": [
       "[<matplotlib.lines.Line2D at 0x7fb93431bc50>]"
      ]
     },
     "execution_count": 50,
     "metadata": {},
     "output_type": "execute_result"
    },
    {
     "data": {
      "image/png": "[encoded data removed]",
      "text/plain": [
       "<Figure size 432x288 with 1 Axes>"
      ]
     },
     "metadata": {},
     "output_type": "display_data"
    }
   ],
   "source": [
    "plt.plot(model.feature_importance())"
   ]
  },
  {
   "cell_type": "code",
   "execution_count": 52,
   "metadata": {},
   "outputs": [
    {
     "data": {
      "text/plain": [
       "array([  3,   0,   0, ...,   0,   0, 167])"
      ]
     },
     "execution_count": 52,
     "metadata": {},
     "output_type": "execute_result"
    }
   ],
   "source": [
    "model.feature_importance()"
   ]
  },
  {
   "cell_type": "code",
   "execution_count": null,
   "metadata": {},
   "outputs": [],
   "source": []
  }
 ],
 "metadata": {
  "kernelspec": {
   "display_name": "Python 3",
   "language": "python",
   "name": "python3"
  },
  "language_info": {
   "codemirror_mode": {
    "name": "ipython",
    "version": 3
   },
   "file_extension": ".py",
   "mimetype": "text/x-python",
   "name": "python",
   "nbconvert_exporter": "python",
   "pygments_lexer": "ipython3",
   "version": "3.6.4"
  }
 },
 "nbformat": 4,
 "nbformat_minor": 2
}

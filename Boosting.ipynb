{
 "cells": [
  {
   "cell_type": "code",
   "execution_count": 1,
   "metadata": {},
   "outputs": [],
   "source": [
    "import lightgbm as lgbm\n",
    "import pandas as pd\n",
    "import numpy as np\n",
    "import re\n",
    "\n",
    "from pymorphy2 import MorphAnalyzer\n",
    "\n",
    "from sklearn.model_selection import train_test_split\n",
    "from sklearn.metrics import roc_auc_score\n",
    "from sklearn.model_selection import KFold\n",
    "from sklearn.feature_extraction.text import CountVectorizer\n",
    "\n",
    "from matplotlib import pyplot as plt\n",
    "from tqdm import tqdm\n",
    "from scipy import sparse\n",
    "from scipy.stats.mstats import gmean\n",
    "\n",
    "import wordbatch\n",
    "from wordbatch.extractors import WordBag\n",
    "\n",
    "%matplotlib inline"
   ]
  },
  {
   "cell_type": "code",
   "execution_count": 2,
   "metadata": {},
   "outputs": [],
   "source": [
    "train_df = pd.read_csv('../dataset/RoboMed/new_train.csv')\n",
    "test_df = pd.read_csv('../dataset/RoboMed/new_test.csv')"
   ]
  },
  {
   "cell_type": "code",
   "execution_count": 3,
   "metadata": {},
   "outputs": [
    {
     "data": {
      "text/html": [
       "<div>\n",
       "<style scoped>\n",
       "    .dataframe tbody tr th:only-of-type {\n",
       "        vertical-align: middle;\n",
       "    }\n",
       "\n",
       "    .dataframe tbody tr th {\n",
       "        vertical-align: top;\n",
       "    }\n",
       "\n",
       "    .dataframe thead th {\n",
       "        text-align: right;\n",
       "    }\n",
       "</style>\n",
       "<table border=\"1\" class=\"dataframe\">\n",
       "  <thead>\n",
       "    <tr style=\"text-align: right;\">\n",
       "      <th></th>\n",
       "      <th>Unnamed: 0</th>\n",
       "      <th>ID</th>\n",
       "      <th>Код_диагноза</th>\n",
       "      <th>Диагноз</th>\n",
       "      <th>Возраст</th>\n",
       "      <th>Пол</th>\n",
       "      <th>Общее состояние</th>\n",
       "      <th>аллергия</th>\n",
       "      <th>Анамнез заболевания</th>\n",
       "      <th>Внешний осмотр</th>\n",
       "      <th>Revisit</th>\n",
       "      <th>Типичные_жалобы</th>\n",
       "      <th>Типичные_услуги</th>\n",
       "      <th>Типичные_источники_рекламы</th>\n",
       "    </tr>\n",
       "  </thead>\n",
       "  <tbody>\n",
       "    <tr>\n",
       "      <th>0</th>\n",
       "      <td>0</td>\n",
       "      <td>0</td>\n",
       "      <td>J06.0</td>\n",
       "      <td>Острый ларингофарингит</td>\n",
       "      <td>29</td>\n",
       "      <td>2</td>\n",
       "      <td>NaN</td>\n",
       "      <td>NaN</td>\n",
       "      <td>NaN</td>\n",
       "      <td>На жевательной поверхности 2.6- кариозная поло...</td>\n",
       "      <td>1</td>\n",
       "      <td>на першение, осиплость | на периодическое затр...</td>\n",
       "      <td>Прием врача-оториноларинголога повторный, амбу...</td>\n",
       "      <td>Другое | Рекомендации знакомых</td>\n",
       "    </tr>\n",
       "    <tr>\n",
       "      <th>1</th>\n",
       "      <td>1</td>\n",
       "      <td>1</td>\n",
       "      <td>N76.1</td>\n",
       "      <td>Подострый и хронический вагинит</td>\n",
       "      <td>45</td>\n",
       "      <td>2</td>\n",
       "      <td>NaN</td>\n",
       "      <td>NaN</td>\n",
       "      <td>считает себя больной на протяжении многих лет....</td>\n",
       "      <td>NaN</td>\n",
       "      <td>1</td>\n",
       "      <td>на выделения из половых путей ,периодические т...</td>\n",
       "      <td>Прием врача-акушера-гинеколога повторный, амбу...</td>\n",
       "      <td>Другое | Рекомендации знакомых | Интернет</td>\n",
       "    </tr>\n",
       "    <tr>\n",
       "      <th>2</th>\n",
       "      <td>2</td>\n",
       "      <td>2</td>\n",
       "      <td>L23.9</td>\n",
       "      <td>Аллергический контактный дерматит, причина не ...</td>\n",
       "      <td>63</td>\n",
       "      <td>2</td>\n",
       "      <td>NaN</td>\n",
       "      <td>NaN</td>\n",
       "      <td>Болен около 2-х дней, когда появились описанны...</td>\n",
       "      <td>NaN</td>\n",
       "      <td>1</td>\n",
       "      <td>NaN</td>\n",
       "      <td>NaN</td>\n",
       "      <td>NaN</td>\n",
       "    </tr>\n",
       "  </tbody>\n",
       "</table>\n",
       "</div>"
      ],
      "text/plain": [
       "   Unnamed: 0  ID Код_диагноза  \\\n",
       "0           0   0        J06.0   \n",
       "1           1   1        N76.1   \n",
       "2           2   2        L23.9   \n",
       "\n",
       "                                             Диагноз  Возраст  Пол  \\\n",
       "0                             Острый ларингофарингит       29    2   \n",
       "1                    Подострый и хронический вагинит       45    2   \n",
       "2  Аллергический контактный дерматит, причина не ...       63    2   \n",
       "\n",
       "  Общее состояние аллергия                                Анамнез заболевания  \\\n",
       "0             NaN      NaN                                                NaN   \n",
       "1             NaN      NaN  считает себя больной на протяжении многих лет....   \n",
       "2             NaN      NaN  Болен около 2-х дней, когда появились описанны...   \n",
       "\n",
       "                                      Внешний осмотр  Revisit  \\\n",
       "0  На жевательной поверхности 2.6- кариозная поло...        1   \n",
       "1                                                NaN        1   \n",
       "2                                                NaN        1   \n",
       "\n",
       "                                     Типичные_жалобы  \\\n",
       "0  на першение, осиплость | на периодическое затр...   \n",
       "1  на выделения из половых путей ,периодические т...   \n",
       "2                                                NaN   \n",
       "\n",
       "                                     Типичные_услуги  \\\n",
       "0  Прием врача-оториноларинголога повторный, амбу...   \n",
       "1  Прием врача-акушера-гинеколога повторный, амбу...   \n",
       "2                                                NaN   \n",
       "\n",
       "                  Типичные_источники_рекламы  \n",
       "0             Другое | Рекомендации знакомых  \n",
       "1  Другое | Рекомендации знакомых | Интернет  \n",
       "2                                        NaN  "
      ]
     },
     "execution_count": 3,
     "metadata": {},
     "output_type": "execute_result"
    }
   ],
   "source": [
    "train_df.head(3)"
   ]
  },
  {
   "cell_type": "code",
   "execution_count": 4,
   "metadata": {},
   "outputs": [],
   "source": [
    "def preprocess_text_feature(feature):\n",
    "    return feature.str.lower() \\\n",
    "                  .str.replace('\\n', '') \\\n",
    "                  .apply(lambda string: re.sub(r\"([.\\!?,'/()\\-№:;])\", ' \\\\1 ', string))"
   ]
  },
  {
   "cell_type": "code",
   "execution_count": 5,
   "metadata": {},
   "outputs": [],
   "source": [
    "def preprocess_dataset(df):\n",
    "    df['Состояние_неизвестно'] = df['Общее состояние'].isna()\n",
    "    df['Аллергия_неизвестна'] = df['аллергия'].isna()\n",
    "    df['Общее_состояние_неизвестно'] = df['Общее состояние'].isna()\n",
    "    df['Анамнез_заболевания_неизвестен'] = df['Анамнез заболевания'].isna()\n",
    "    df['Внешний_осмотр_неизвестен'] = df['Внешний осмотр'].isna()\n",
    "    df['Типичные_жалобы_неизвестны'] = df['Типичные_жалобы'].isna()\n",
    "    df['Типичные_услуги_неизвестны'] = df['Типичные_услуги'].isna()\n",
    "    df['Типичные_источники_рекламы_неизвестны'] = df['Типичные_источники_рекламы'].isna()\n",
    "    \n",
    "    df['Общее состояние'].fillna('общее_состояние_неизвестно', inplace=True)\n",
    "    df['аллергия'].fillna('аллергии_неизвестны', inplace=True)\n",
    "    df['Анамнез заболевания'].fillna('нет_анамнеза', inplace=True)\n",
    "    df['Внешний осмотр'].fillna('нет_осмотра', inplace=True)\n",
    "    df['Типичные_жалобы'].fillna('типичные_жалобы_неизвестны', inplace=True)\n",
    "    df['Типичные_услуги'].fillna('типичные_услги_неизвестны', inplace=True)\n",
    "    df['Типичные_источники_рекламы'].fillna('типичные_источники_рекламы_неизвестны', inplace=True)\n",
    "    \n",
    "    df['Анамнез заболевания'] = preprocess_text_feature(df['Анамнез заболевания'])\n",
    "    df['Внешний осмотр'] = preprocess_text_feature(df['Внешний осмотр'])\n",
    "    df['Диагноз'] = preprocess_text_feature(df['Диагноз'])\n",
    "    df['Общее состояние'] = preprocess_text_feature(df['Общее состояние'])\n",
    "    df['Типичные_услуги'] = preprocess_text_feature(df['Типичные_услуги'])\n",
    "    df['Типичные_жалобы'] = preprocess_text_feature(df['Типичные_жалобы'])\n",
    "    df['Типичные_источники_рекламы'] = preprocess_text_feature(df['Типичные_источники_рекламы'])\n",
    "    df['аллергия'] = preprocess_text_feature(df['аллергия'])\n",
    "    \n",
    "    df['Возраст_7'] = np.round(df['Возраст'] / 7).astype('category')\n",
    "    df['Возраст_5'] = np.round(df['Возраст'] / 5).astype('category')\n",
    "    df['Возраст_3'] = np.round(df['Возраст'] / 3).astype('category')\n",
    "    df['Возраст_2'] = np.round(df['Возраст'] / 2).astype('category')   \n",
    "    df['Возраст'] = df['Возраст'].astype('category')\n",
    "    \n",
    "    df['Пол'] = df['Пол'].astype('category')\n",
    "    df['ID'] = df['ID'].astype('category')\n",
    "    df['Код_диагноза'] = df['Код_диагноза'].astype('category')\n",
    "    df['аллергия'] = df['аллергия'].astype('category')\n",
    "    df['Анамнез заболевания'] = df['Анамнез заболевания'].astype('category')\n",
    "    df['Внешний осмотр'] = df['Внешний осмотр'].astype('category')\n",
    "    return df"
   ]
  },
  {
   "cell_type": "code",
   "execution_count": 6,
   "metadata": {},
   "outputs": [],
   "source": [
    "train_df = preprocess_dataset(train_df)\n",
    "test_df = preprocess_dataset(test_df)"
   ]
  },
  {
   "cell_type": "code",
   "execution_count": 7,
   "metadata": {},
   "outputs": [],
   "source": [
    "y_train = train_df.Revisit\n",
    "train_df = train_df.drop('Revisit', axis='columns')"
   ]
  },
  {
   "cell_type": "code",
   "execution_count": 8,
   "metadata": {},
   "outputs": [],
   "source": [
    "whole_df = pd.concat([train_df, test_df])"
   ]
  },
  {
   "cell_type": "code",
   "execution_count": 9,
   "metadata": {},
   "outputs": [],
   "source": [
    "def label_with_pos(text):\n",
    "    analyzer = MorphAnalyzer()\n",
    "    tokens = re.compile('[\\W+]').sub(' ', text).lower().strip().split()\n",
    "    tokens = [x for x in tokens if len(x) > 1]\n",
    "    result = []\n",
    "    for token in tokens:\n",
    "        parsed_result = analyzer.parse(token)\n",
    "        pos = parsed_result[0].tag.POS\n",
    "        pos_token = token + ('' if pos is None else '_' + pos)\n",
    "        result.append(pos_token)\n",
    "    return ' '.join(result)"
   ]
  },
  {
   "cell_type": "code",
   "execution_count": 10,
   "metadata": {},
   "outputs": [],
   "source": [
    "def one_hot_texts(text_feature):\n",
    "    wb = wordbatch.WordBatch(extractor=(WordBag, {\"hash_ngrams\": 2, \"hash_ngrams_weights\": [1.0, 1.0],\n",
    "                                                  \"hash_size\": 2 ** 22, \"norm\": None,\n",
    "                                                  \"tf\": 5.0, \"idf\": 5.0,}), procs=32)\n",
    "    wb.dictionary_freeze = True\n",
    "    transformed_feature = wb.fit_transform(text_feature)\n",
    "    nnz_features_mask = np.clip(transformed_feature.getnnz(axis=0) - 1, 0, 1).astype(bool)\n",
    "    transformed_feature = transformed_feature[:, nnz_features_mask]\n",
    "    return transformed_feature"
   ]
  },
  {
   "cell_type": "code",
   "execution_count": 11,
   "metadata": {},
   "outputs": [
    {
     "name": "stderr",
     "output_type": "stream",
     "text": [
      "  0%|          | 0/8 [00:00<?, ?it/s]"
     ]
    },
    {
     "name": "stdout",
     "output_type": "stream",
     "text": [
      "Normalize text\n",
      "Extract wordbags\n"
     ]
    },
    {
     "name": "stderr",
     "output_type": "stream",
     "text": [
      " 12%|█▎        | 1/8 [00:12<01:25, 12.26s/it]"
     ]
    },
    {
     "name": "stdout",
     "output_type": "stream",
     "text": [
      "Normalize text\n",
      "Extract wordbags\n"
     ]
    },
    {
     "name": "stderr",
     "output_type": "stream",
     "text": [
      " 25%|██▌       | 2/8 [00:25<01:15, 12.63s/it]"
     ]
    },
    {
     "name": "stdout",
     "output_type": "stream",
     "text": [
      "Normalize text\n",
      "Extract wordbags\n"
     ]
    },
    {
     "name": "stderr",
     "output_type": "stream",
     "text": [
      " 38%|███▊      | 3/8 [00:37<01:02, 12.53s/it]"
     ]
    },
    {
     "name": "stdout",
     "output_type": "stream",
     "text": [
      "Normalize text\n",
      "Extract wordbags\n"
     ]
    },
    {
     "name": "stderr",
     "output_type": "stream",
     "text": [
      " 50%|█████     | 4/8 [00:49<00:49, 12.29s/it]"
     ]
    },
    {
     "name": "stdout",
     "output_type": "stream",
     "text": [
      "Normalize text\n",
      "Extract wordbags\n"
     ]
    },
    {
     "name": "stderr",
     "output_type": "stream",
     "text": [
      " 62%|██████▎   | 5/8 [01:01<00:37, 12.33s/it]"
     ]
    },
    {
     "name": "stdout",
     "output_type": "stream",
     "text": [
      "Normalize text\n",
      "Extract wordbags\n"
     ]
    },
    {
     "name": "stderr",
     "output_type": "stream",
     "text": [
      " 75%|███████▌  | 6/8 [01:16<00:25, 12.72s/it]"
     ]
    },
    {
     "name": "stdout",
     "output_type": "stream",
     "text": [
      "Normalize text\n",
      "Extract wordbags\n"
     ]
    },
    {
     "name": "stderr",
     "output_type": "stream",
     "text": [
      " 88%|████████▊ | 7/8 [01:29<00:12, 12.72s/it]"
     ]
    },
    {
     "name": "stdout",
     "output_type": "stream",
     "text": [
      "Normalize text\n",
      "Extract wordbags\n"
     ]
    },
    {
     "name": "stderr",
     "output_type": "stream",
     "text": [
      "100%|██████████| 8/8 [01:42<00:00, 12.77s/it]\n"
     ]
    }
   ],
   "source": [
    "text_feature_names = ['Общее состояние', 'аллергия', 'Анамнез заболевания', 'Внешний осмотр',\n",
    "                      'Диагноз', 'Типичные_жалобы', 'Типичные_услуги', 'Типичные_источники_рекламы']\n",
    "transformed_matrices = [one_hot_texts(whole_df[feature_name])\n",
    "                        for feature_name in tqdm(text_feature_names)]\n",
    "text_features_matrix = sparse.hstack(transformed_matrices)"
   ]
  },
  {
   "cell_type": "code",
   "execution_count": 12,
   "metadata": {},
   "outputs": [],
   "source": [
    "patient_dummies = sparse.csr_matrix(\n",
    "    pd.get_dummies(whole_df[['Возраст', 'Код_диагноза', 'Пол']], sparse=True).values)\n",
    "age_dummies = sparse.csr_matrix(\n",
    "    pd.get_dummies(whole_df[['Возраст_2', 'Возраст_3', 'Возраст_5', 'Возраст_7']], sparse=True).values)"
   ]
  },
  {
   "cell_type": "code",
   "execution_count": 13,
   "metadata": {},
   "outputs": [],
   "source": [
    "nan_feature_names = ['Состояние_неизвестно', 'Аллергия_неизвестна', 'Общее_состояние_неизвестно',\n",
    "                     'Анамнез_заболевания_неизвестен', 'Внешний_осмотр_неизвестен',\n",
    "                     'Типичные_жалобы_неизвестны', 'Типичные_услуги_неизвестны',\n",
    "                     'Типичные_источники_рекламы_неизвестны']\n",
    "nan_dummies = sparse.csr_matrix(pd.get_dummies(whole_df[nan_feature_names], sparse=True).values)"
   ]
  },
  {
   "cell_type": "code",
   "execution_count": 14,
   "metadata": {},
   "outputs": [],
   "source": [
    "vectorizer = CountVectorizer()\n",
    "diagnosis_counts = vectorizer.fit_transform(whole_df['Код_диагноза'].apply(str))\n",
    "\n",
    "vectorizer = CountVectorizer(analyzer='char', ngram_range=(1, 2))\n",
    "diagnosis_counts_char = vectorizer.fit_transform(whole_df['Код_диагноза'].apply(str))"
   ]
  },
  {
   "cell_type": "code",
   "execution_count": 15,
   "metadata": {},
   "outputs": [],
   "source": [
    "nnz_patient_dummies_mask = np.clip(patient_dummies.getnnz(axis=0) - 1, 0, 1).astype(bool)\n",
    "patient_dummies = patient_dummies[:, nnz_patient_dummies_mask]\n",
    "\n",
    "nnz_nan_dummies_mask = np.clip(nan_dummies.getnnz(axis=0) - 1, 0, 1).astype(bool)\n",
    "nan_dummies = nan_dummies[:, nnz_nan_dummies_mask]\n",
    "\n",
    "nnz_age_dummies_mask = np.clip(age_dummies.getnnz(axis=0) - 1, 0, 1).astype(bool)\n",
    "age_dummies = age_dummies[:, nnz_age_dummies_mask]"
   ]
  },
  {
   "cell_type": "code",
   "execution_count": 16,
   "metadata": {},
   "outputs": [],
   "source": [
    "whole_features_matrix = sparse.hstack([\n",
    "    text_features_matrix, patient_dummies, age_dummies,\n",
    "    nan_dummies, diagnosis_counts, diagnosis_counts_char\n",
    "]).tocsr()"
   ]
  },
  {
   "cell_type": "code",
   "execution_count": 17,
   "metadata": {},
   "outputs": [],
   "source": [
    "features_train = whole_features_matrix[:len(train_df)]\n",
    "features_test = whole_features_matrix[len(train_df):]"
   ]
  },
  {
   "cell_type": "code",
   "execution_count": 20,
   "metadata": {},
   "outputs": [
    {
     "name": "stderr",
     "output_type": "stream",
     "text": [
      "  0%|          | 0/10 [00:00<?, ?it/s]"
     ]
    },
    {
     "name": "stdout",
     "output_type": "stream",
     "text": [
      "Training until validation scores don't improve for 30 rounds.\n",
      "Early stopping, best iteration is:\n",
      "[130]\ttraining's auc: 0.739225\tvalid_1's auc: 0.723141\n",
      "roc_auc_score:  0.7231408746208969\n",
      "Training until validation scores don't improve for 30 rounds.\n",
      "Early stopping, best iteration is:\n",
      "[139]\ttraining's auc: 0.74055\tvalid_1's auc: 0.718682\n",
      "roc_auc_score:  0.7186824811572663\n",
      "Training until validation scores don't improve for 30 rounds.\n",
      "Early stopping, best iteration is:\n",
      "[121]\ttraining's auc: 0.738223\tvalid_1's auc: 0.72236\n",
      "roc_auc_score:  0.7223599665820786\n",
      "Training until validation scores don't improve for 30 rounds.\n",
      "Early stopping, best iteration is:\n",
      "[162]\ttraining's auc: 0.742155\tvalid_1's auc: 0.724649\n",
      "roc_auc_score:  0.7246485371636582\n",
      "Training until validation scores don't improve for 30 rounds.\n",
      "Early stopping, best iteration is:\n",
      "[166]\ttraining's auc: 0.74282\tvalid_1's auc: 0.721735\n",
      "roc_auc_score:  0.7217351725704735\n",
      "Training until validation scores don't improve for 30 rounds.\n",
      "Early stopping, best iteration is:\n",
      "[87]\ttraining's auc: 0.733831\tvalid_1's auc: 0.720548\n",
      "roc_auc_score:  0.7205475192759546\n",
      "Training until validation scores don't improve for 30 rounds.\n",
      "Early stopping, best iteration is:\n",
      "[156]\ttraining's auc: 0.741157\tvalid_1's auc: 0.729683\n",
      "roc_auc_score:  0.7296828685967154\n",
      "Training until validation scores don't improve for 30 rounds.\n",
      "Early stopping, best iteration is:\n",
      "[129]\ttraining's auc: 0.739871\tvalid_1's auc: 0.716364\n",
      "roc_auc_score:  0.7163642481300219\n",
      "Training until validation scores don't improve for 30 rounds.\n",
      "Early stopping, best iteration is:\n",
      "[152]\ttraining's auc: 0.740638\tvalid_1's auc: 0.730805\n",
      "roc_auc_score:  0.7308054337821986\n",
      "Training until validation scores don't improve for 30 rounds.\n",
      "Early stopping, best iteration is:\n",
      "[193]\ttraining's auc: 0.745685\tvalid_1's auc: 0.724281\n",
      "roc_auc_score:  0.7242809500939572\n"
     ]
    },
    {
     "name": "stderr",
     "output_type": "stream",
     "text": [
      " 10%|█         | 1/10 [01:44<15:37, 104.20s/it]"
     ]
    },
    {
     "name": "stdout",
     "output_type": "stream",
     "text": [
      "Training until validation scores don't improve for 30 rounds.\n",
      "Early stopping, best iteration is:\n",
      "[75]\ttraining's auc: 0.731086\tvalid_1's auc: 0.726152\n",
      "roc_auc_score:  0.7261515276424817\n",
      "Training until validation scores don't improve for 30 rounds.\n",
      "Early stopping, best iteration is:\n",
      "[118]\ttraining's auc: 0.737028\tvalid_1's auc: 0.727124\n",
      "roc_auc_score:  0.7271237380051813\n",
      "Training until validation scores don't improve for 30 rounds.\n",
      "Early stopping, best iteration is:\n",
      "[182]\ttraining's auc: 0.744791\tvalid_1's auc: 0.715802\n",
      "roc_auc_score:  0.7158018933006086\n",
      "Training until validation scores don't improve for 30 rounds.\n",
      "Early stopping, best iteration is:\n",
      "[124]\ttraining's auc: 0.739206\tvalid_1's auc: 0.71637\n",
      "roc_auc_score:  0.7163702824794401\n",
      "Training until validation scores don't improve for 30 rounds.\n",
      "Early stopping, best iteration is:\n",
      "[196]\ttraining's auc: 0.745204\tvalid_1's auc: 0.7282\n",
      "roc_auc_score:  0.7282000750858241\n",
      "Training until validation scores don't improve for 30 rounds.\n",
      "Early stopping, best iteration is:\n",
      "[146]\ttraining's auc: 0.740961\tvalid_1's auc: 0.72403\n",
      "roc_auc_score:  0.7240299637665684\n",
      "Training until validation scores don't improve for 30 rounds.\n",
      "Early stopping, best iteration is:\n",
      "[113]\ttraining's auc: 0.736582\tvalid_1's auc: 0.729749\n",
      "roc_auc_score:  0.7297488784805071\n",
      "Training until validation scores don't improve for 30 rounds.\n",
      "Early stopping, best iteration is:\n",
      "[148]\ttraining's auc: 0.74165\tvalid_1's auc: 0.716585\n",
      "roc_auc_score:  0.7165845109130828\n",
      "Training until validation scores don't improve for 30 rounds.\n",
      "Early stopping, best iteration is:\n",
      "[162]\ttraining's auc: 0.742344\tvalid_1's auc: 0.722442\n",
      "roc_auc_score:  0.7224423948943143\n",
      "Training until validation scores don't improve for 30 rounds.\n",
      "Early stopping, best iteration is:\n",
      "[193]\ttraining's auc: 0.745268\tvalid_1's auc: 0.725218\n",
      "roc_auc_score:  0.72521770208838\n"
     ]
    },
    {
     "name": "stderr",
     "output_type": "stream",
     "text": [
      " 20%|██        | 2/10 [03:34<14:19, 107.39s/it]"
     ]
    },
    {
     "name": "stdout",
     "output_type": "stream",
     "text": [
      "Training until validation scores don't improve for 30 rounds.\n",
      "Early stopping, best iteration is:\n",
      "[182]\ttraining's auc: 0.744503\tvalid_1's auc: 0.72586\n",
      "roc_auc_score:  0.7258603407626247\n",
      "Training until validation scores don't improve for 30 rounds.\n",
      "Early stopping, best iteration is:\n",
      "[115]\ttraining's auc: 0.737335\tvalid_1's auc: 0.721904\n",
      "roc_auc_score:  0.7219044411302655\n",
      "Training until validation scores don't improve for 30 rounds.\n",
      "Early stopping, best iteration is:\n",
      "[164]\ttraining's auc: 0.742675\tvalid_1's auc: 0.722453\n",
      "roc_auc_score:  0.7224528956434901\n",
      "Training until validation scores don't improve for 30 rounds.\n",
      "Early stopping, best iteration is:\n",
      "[166]\ttraining's auc: 0.743062\tvalid_1's auc: 0.720982\n",
      "roc_auc_score:  0.7209815555015612\n",
      "Training until validation scores don't improve for 30 rounds.\n",
      "Early stopping, best iteration is:\n",
      "[168]\ttraining's auc: 0.742944\tvalid_1's auc: 0.723052\n",
      "roc_auc_score:  0.72305170655123\n",
      "Training until validation scores don't improve for 30 rounds.\n",
      "Early stopping, best iteration is:\n",
      "[105]\ttraining's auc: 0.73641\tvalid_1's auc: 0.720625\n",
      "roc_auc_score:  0.7206252399210318\n",
      "Training until validation scores don't improve for 30 rounds.\n",
      "Early stopping, best iteration is:\n",
      "[100]\ttraining's auc: 0.735138\tvalid_1's auc: 0.724995\n",
      "roc_auc_score:  0.724995415984351\n",
      "Training until validation scores don't improve for 30 rounds.\n",
      "Early stopping, best iteration is:\n",
      "[95]\ttraining's auc: 0.734538\tvalid_1's auc: 0.723347\n",
      "roc_auc_score:  0.7233466527489153\n",
      "Training until validation scores don't improve for 30 rounds.\n",
      "Early stopping, best iteration is:\n",
      "[150]\ttraining's auc: 0.741294\tvalid_1's auc: 0.725883\n",
      "roc_auc_score:  0.7258831656318521\n",
      "Training until validation scores don't improve for 30 rounds.\n",
      "Early stopping, best iteration is:\n",
      "[163]\ttraining's auc: 0.742737\tvalid_1's auc: 0.724001\n",
      "roc_auc_score:  0.7240005672458817\n"
     ]
    },
    {
     "name": "stderr",
     "output_type": "stream",
     "text": [
      " 30%|███       | 3/10 [05:22<12:31, 107.40s/it]"
     ]
    },
    {
     "name": "stdout",
     "output_type": "stream",
     "text": [
      "Training until validation scores don't improve for 30 rounds.\n",
      "Early stopping, best iteration is:\n",
      "[226]\ttraining's auc: 0.748149\tvalid_1's auc: 0.723399\n",
      "roc_auc_score:  0.7233990708372898\n",
      "Training until validation scores don't improve for 30 rounds.\n",
      "Early stopping, best iteration is:\n",
      "[121]\ttraining's auc: 0.737664\tvalid_1's auc: 0.725093\n",
      "roc_auc_score:  0.7250926446067238\n",
      "Training until validation scores don't improve for 30 rounds.\n",
      "Early stopping, best iteration is:\n",
      "[148]\ttraining's auc: 0.740944\tvalid_1's auc: 0.722125\n",
      "roc_auc_score:  0.7221248960400357\n",
      "Training until validation scores don't improve for 30 rounds.\n",
      "Early stopping, best iteration is:\n",
      "[105]\ttraining's auc: 0.735983\tvalid_1's auc: 0.722382\n",
      "roc_auc_score:  0.7223817298195662\n",
      "Training until validation scores don't improve for 30 rounds.\n",
      "Early stopping, best iteration is:\n",
      "[104]\ttraining's auc: 0.736023\tvalid_1's auc: 0.722774\n",
      "roc_auc_score:  0.7227735518600291\n",
      "Training until validation scores don't improve for 30 rounds.\n",
      "Early stopping, best iteration is:\n",
      "[101]\ttraining's auc: 0.734624\tvalid_1's auc: 0.731953\n",
      "roc_auc_score:  0.7319525203331481\n",
      "Training until validation scores don't improve for 30 rounds.\n",
      "Early stopping, best iteration is:\n",
      "[171]\ttraining's auc: 0.743673\tvalid_1's auc: 0.723137\n",
      "roc_auc_score:  0.723136549674561\n",
      "Training until validation scores don't improve for 30 rounds.\n",
      "Early stopping, best iteration is:\n",
      "[109]\ttraining's auc: 0.737014\tvalid_1's auc: 0.720593\n",
      "roc_auc_score:  0.7205931162378504\n",
      "Training until validation scores don't improve for 30 rounds.\n",
      "Early stopping, best iteration is:\n",
      "[233]\ttraining's auc: 0.748469\tvalid_1's auc: 0.726412\n",
      "roc_auc_score:  0.7264118421890791\n",
      "Training until validation scores don't improve for 30 rounds.\n",
      "Early stopping, best iteration is:\n",
      "[168]\ttraining's auc: 0.743701\tvalid_1's auc: 0.719177\n",
      "roc_auc_score:  0.7191767059416323\n"
     ]
    },
    {
     "name": "stderr",
     "output_type": "stream",
     "text": [
      " 40%|████      | 4/10 [07:13<10:50, 108.39s/it]"
     ]
    },
    {
     "name": "stdout",
     "output_type": "stream",
     "text": [
      "Training until validation scores don't improve for 30 rounds.\n",
      "Early stopping, best iteration is:\n",
      "[129]\ttraining's auc: 0.739426\tvalid_1's auc: 0.72102\n",
      "roc_auc_score:  0.7210196143672641\n",
      "Training until validation scores don't improve for 30 rounds.\n",
      "Early stopping, best iteration is:\n",
      "[150]\ttraining's auc: 0.741258\tvalid_1's auc: 0.724891\n",
      "roc_auc_score:  0.7248910367526303\n",
      "Training until validation scores don't improve for 30 rounds.\n",
      "Early stopping, best iteration is:\n",
      "[142]\ttraining's auc: 0.740029\tvalid_1's auc: 0.726844\n",
      "roc_auc_score:  0.7268443999244492\n",
      "Training until validation scores don't improve for 30 rounds.\n",
      "Early stopping, best iteration is:\n",
      "[141]\ttraining's auc: 0.739939\tvalid_1's auc: 0.726478\n",
      "roc_auc_score:  0.7264777354217622\n",
      "Training until validation scores don't improve for 30 rounds.\n",
      "Early stopping, best iteration is:\n",
      "[211]\ttraining's auc: 0.747591\tvalid_1's auc: 0.717351\n",
      "roc_auc_score:  0.7173506825566577\n",
      "Training until validation scores don't improve for 30 rounds.\n",
      "Early stopping, best iteration is:\n",
      "[147]\ttraining's auc: 0.74073\tvalid_1's auc: 0.724998\n",
      "roc_auc_score:  0.7249983348138822\n",
      "Training until validation scores don't improve for 30 rounds.\n",
      "Early stopping, best iteration is:\n",
      "[227]\ttraining's auc: 0.74881\tvalid_1's auc: 0.721514\n",
      "roc_auc_score:  0.7215136772074449\n",
      "Training until validation scores don't improve for 30 rounds.\n",
      "Early stopping, best iteration is:\n",
      "[163]\ttraining's auc: 0.742373\tvalid_1's auc: 0.724324\n",
      "roc_auc_score:  0.7243238826928307\n",
      "Training until validation scores don't improve for 30 rounds.\n",
      "Early stopping, best iteration is:\n",
      "[154]\ttraining's auc: 0.741521\tvalid_1's auc: 0.723143\n",
      "roc_auc_score:  0.7231430386014701\n",
      "Training until validation scores don't improve for 30 rounds.\n",
      "Early stopping, best iteration is:\n",
      "[218]\ttraining's auc: 0.747568\tvalid_1's auc: 0.725577\n",
      "roc_auc_score:  0.7255767734036919\n"
     ]
    },
    {
     "name": "stderr",
     "output_type": "stream",
     "text": [
      " 50%|█████     | 5/10 [09:15<09:15, 111.12s/it]"
     ]
    },
    {
     "name": "stdout",
     "output_type": "stream",
     "text": [
      "Training until validation scores don't improve for 30 rounds.\n",
      "Early stopping, best iteration is:\n",
      "[155]\ttraining's auc: 0.742099\tvalid_1's auc: 0.721094\n",
      "roc_auc_score:  0.7210938298422984\n",
      "Training until validation scores don't improve for 30 rounds.\n",
      "Early stopping, best iteration is:\n",
      "[131]\ttraining's auc: 0.739563\tvalid_1's auc: 0.722869\n",
      "roc_auc_score:  0.7228689986626126\n",
      "Training until validation scores don't improve for 30 rounds.\n",
      "Early stopping, best iteration is:\n",
      "[124]\ttraining's auc: 0.738349\tvalid_1's auc: 0.723494\n",
      "roc_auc_score:  0.7234944888150361\n",
      "Training until validation scores don't improve for 30 rounds.\n",
      "Early stopping, best iteration is:\n",
      "[154]\ttraining's auc: 0.74167\tvalid_1's auc: 0.725496\n",
      "roc_auc_score:  0.7254962892319533\n",
      "Training until validation scores don't improve for 30 rounds.\n",
      "Early stopping, best iteration is:\n",
      "[140]\ttraining's auc: 0.739769\tvalid_1's auc: 0.72843\n",
      "roc_auc_score:  0.7284301233476563\n",
      "Training until validation scores don't improve for 30 rounds.\n",
      "Early stopping, best iteration is:\n",
      "[137]\ttraining's auc: 0.740141\tvalid_1's auc: 0.719631\n",
      "roc_auc_score:  0.7196314068385339\n",
      "Training until validation scores don't improve for 30 rounds.\n",
      "Early stopping, best iteration is:\n",
      "[92]\ttraining's auc: 0.734204\tvalid_1's auc: 0.720197\n",
      "roc_auc_score:  0.7201971952271811\n",
      "Training until validation scores don't improve for 30 rounds.\n",
      "Early stopping, best iteration is:\n",
      "[117]\ttraining's auc: 0.737808\tvalid_1's auc: 0.723989\n",
      "roc_auc_score:  0.7239885230295422\n",
      "Training until validation scores don't improve for 30 rounds.\n",
      "Early stopping, best iteration is:\n",
      "[125]\ttraining's auc: 0.738335\tvalid_1's auc: 0.724781\n",
      "roc_auc_score:  0.7247812711714847\n",
      "Training until validation scores don't improve for 30 rounds.\n",
      "Early stopping, best iteration is:\n",
      "[185]\ttraining's auc: 0.744493\tvalid_1's auc: 0.722157\n",
      "roc_auc_score:  0.7221568772917988\n"
     ]
    },
    {
     "name": "stderr",
     "output_type": "stream",
     "text": [
      " 60%|██████    | 6/10 [10:59<07:19, 109.96s/it]"
     ]
    },
    {
     "name": "stdout",
     "output_type": "stream",
     "text": [
      "Training until validation scores don't improve for 30 rounds.\n",
      "Early stopping, best iteration is:\n",
      "[145]\ttraining's auc: 0.741451\tvalid_1's auc: 0.720307\n",
      "roc_auc_score:  0.720306770885514\n",
      "Training until validation scores don't improve for 30 rounds.\n",
      "Early stopping, best iteration is:\n",
      "[126]\ttraining's auc: 0.73841\tvalid_1's auc: 0.727286\n",
      "roc_auc_score:  0.7272860723783866\n",
      "Training until validation scores don't improve for 30 rounds.\n",
      "Early stopping, best iteration is:\n",
      "[130]\ttraining's auc: 0.739015\tvalid_1's auc: 0.723582\n",
      "roc_auc_score:  0.7235819824719804\n",
      "Training until validation scores don't improve for 30 rounds.\n",
      "Early stopping, best iteration is:\n",
      "[119]\ttraining's auc: 0.737967\tvalid_1's auc: 0.723141\n",
      "roc_auc_score:  0.7231409097291361\n",
      "Training until validation scores don't improve for 30 rounds.\n",
      "Early stopping, best iteration is:\n",
      "[108]\ttraining's auc: 0.736378\tvalid_1's auc: 0.720639\n",
      "roc_auc_score:  0.7206387164083923\n",
      "Training until validation scores don't improve for 30 rounds.\n",
      "Early stopping, best iteration is:\n",
      "[144]\ttraining's auc: 0.740394\tvalid_1's auc: 0.725826\n",
      "roc_auc_score:  0.7258264711383017\n",
      "Training until validation scores don't improve for 30 rounds.\n",
      "Early stopping, best iteration is:\n",
      "[110]\ttraining's auc: 0.736585\tvalid_1's auc: 0.720533\n",
      "roc_auc_score:  0.7205332393582772\n",
      "Training until validation scores don't improve for 30 rounds.\n",
      "Early stopping, best iteration is:\n",
      "[163]\ttraining's auc: 0.742852\tvalid_1's auc: 0.723695\n",
      "roc_auc_score:  0.7236953262819248\n",
      "Training until validation scores don't improve for 30 rounds.\n",
      "Early stopping, best iteration is:\n",
      "[134]\ttraining's auc: 0.739799\tvalid_1's auc: 0.722552\n",
      "roc_auc_score:  0.7225521390418552\n",
      "Training until validation scores don't improve for 30 rounds.\n",
      "Early stopping, best iteration is:\n",
      "[144]\ttraining's auc: 0.740551\tvalid_1's auc: 0.723256\n",
      "roc_auc_score:  0.7232556978293249\n"
     ]
    },
    {
     "name": "stderr",
     "output_type": "stream",
     "text": [
      " 70%|███████   | 7/10 [12:42<05:26, 108.97s/it]"
     ]
    },
    {
     "name": "stdout",
     "output_type": "stream",
     "text": [
      "Training until validation scores don't improve for 30 rounds.\n",
      "Early stopping, best iteration is:\n",
      "[130]\ttraining's auc: 0.73986\tvalid_1's auc: 0.71506\n",
      "roc_auc_score:  0.7150599314463779\n",
      "Training until validation scores don't improve for 30 rounds.\n",
      "Early stopping, best iteration is:\n",
      "[140]\ttraining's auc: 0.739863\tvalid_1's auc: 0.726211\n",
      "roc_auc_score:  0.726210967975287\n",
      "Training until validation scores don't improve for 30 rounds.\n",
      "Early stopping, best iteration is:\n",
      "[185]\ttraining's auc: 0.744682\tvalid_1's auc: 0.72594\n",
      "roc_auc_score:  0.7259395174956931\n",
      "Training until validation scores don't improve for 30 rounds.\n",
      "Early stopping, best iteration is:\n",
      "[133]\ttraining's auc: 0.739085\tvalid_1's auc: 0.727183\n",
      "roc_auc_score:  0.7271829306981477\n",
      "Training until validation scores don't improve for 30 rounds.\n",
      "Early stopping, best iteration is:\n",
      "[184]\ttraining's auc: 0.744297\tvalid_1's auc: 0.725642\n",
      "roc_auc_score:  0.7256423108077217\n",
      "Training until validation scores don't improve for 30 rounds.\n",
      "Early stopping, best iteration is:\n",
      "[192]\ttraining's auc: 0.744769\tvalid_1's auc: 0.729823\n",
      "roc_auc_score:  0.7298228918188999\n",
      "Training until validation scores don't improve for 30 rounds.\n",
      "Early stopping, best iteration is:\n",
      "[153]\ttraining's auc: 0.74203\tvalid_1's auc: 0.719312\n",
      "roc_auc_score:  0.7193119690987818\n",
      "Training until validation scores don't improve for 30 rounds.\n",
      "Early stopping, best iteration is:\n",
      "[180]\ttraining's auc: 0.743983\tvalid_1's auc: 0.722949\n",
      "roc_auc_score:  0.7229494824561722\n",
      "Training until validation scores don't improve for 30 rounds.\n",
      "Early stopping, best iteration is:\n",
      "[163]\ttraining's auc: 0.742625\tvalid_1's auc: 0.721144\n",
      "roc_auc_score:  0.7211440349179357\n",
      "Training until validation scores don't improve for 30 rounds.\n",
      "Early stopping, best iteration is:\n",
      "[226]\ttraining's auc: 0.748844\tvalid_1's auc: 0.720793\n",
      "roc_auc_score:  0.7207929320745374\n"
     ]
    },
    {
     "name": "stderr",
     "output_type": "stream",
     "text": [
      " 80%|████████  | 8/10 [14:42<03:40, 110.37s/it]"
     ]
    },
    {
     "name": "stdout",
     "output_type": "stream",
     "text": [
      "Training until validation scores don't improve for 30 rounds.\n",
      "Early stopping, best iteration is:\n",
      "[160]\ttraining's auc: 0.742248\tvalid_1's auc: 0.724959\n",
      "roc_auc_score:  0.7249594130250968\n",
      "Training until validation scores don't improve for 30 rounds.\n",
      "Early stopping, best iteration is:\n",
      "[218]\ttraining's auc: 0.74789\tvalid_1's auc: 0.72296\n",
      "roc_auc_score:  0.7229599496206427\n",
      "Training until validation scores don't improve for 30 rounds.\n",
      "Early stopping, best iteration is:\n",
      "[113]\ttraining's auc: 0.737221\tvalid_1's auc: 0.719427\n",
      "roc_auc_score:  0.7194271302535483\n",
      "Training until validation scores don't improve for 30 rounds.\n",
      "Early stopping, best iteration is:\n",
      "[141]\ttraining's auc: 0.740203\tvalid_1's auc: 0.724689\n",
      "roc_auc_score:  0.7246887002166993\n",
      "Training until validation scores don't improve for 30 rounds.\n",
      "Early stopping, best iteration is:\n",
      "[151]\ttraining's auc: 0.741156\tvalid_1's auc: 0.726683\n",
      "roc_auc_score:  0.7266834002614209\n",
      "Training until validation scores don't improve for 30 rounds.\n",
      "Early stopping, best iteration is:\n",
      "[287]\ttraining's auc: 0.753238\tvalid_1's auc: 0.720297\n",
      "roc_auc_score:  0.7202966737761574\n",
      "Training until validation scores don't improve for 30 rounds.\n",
      "Early stopping, best iteration is:\n",
      "[181]\ttraining's auc: 0.744352\tvalid_1's auc: 0.722975\n",
      "roc_auc_score:  0.7229745682786433\n",
      "Training until validation scores don't improve for 30 rounds.\n",
      "Early stopping, best iteration is:\n",
      "[142]\ttraining's auc: 0.740159\tvalid_1's auc: 0.726402\n",
      "roc_auc_score:  0.726401874669641\n",
      "Training until validation scores don't improve for 30 rounds.\n",
      "Early stopping, best iteration is:\n",
      "[95]\ttraining's auc: 0.735458\tvalid_1's auc: 0.716478\n",
      "roc_auc_score:  0.7164779685584244\n",
      "Training until validation scores don't improve for 30 rounds.\n",
      "Early stopping, best iteration is:\n",
      "[139]\ttraining's auc: 0.739537\tvalid_1's auc: 0.729434\n",
      "roc_auc_score:  0.7294336163633306\n"
     ]
    },
    {
     "name": "stderr",
     "output_type": "stream",
     "text": [
      " 90%|█████████ | 9/10 [16:40<01:51, 111.15s/it]"
     ]
    },
    {
     "name": "stdout",
     "output_type": "stream",
     "text": [
      "Training until validation scores don't improve for 30 rounds.\n",
      "Early stopping, best iteration is:\n",
      "[205]\ttraining's auc: 0.746647\tvalid_1's auc: 0.722154\n",
      "roc_auc_score:  0.7221543498601839\n",
      "Training until validation scores don't improve for 30 rounds.\n",
      "Early stopping, best iteration is:\n",
      "[118]\ttraining's auc: 0.737419\tvalid_1's auc: 0.722929\n",
      "roc_auc_score:  0.7229294631281878\n",
      "Training until validation scores don't improve for 30 rounds.\n",
      "Early stopping, best iteration is:\n",
      "[137]\ttraining's auc: 0.739751\tvalid_1's auc: 0.723692\n",
      "roc_auc_score:  0.7236915342812741\n",
      "Training until validation scores don't improve for 30 rounds.\n",
      "Early stopping, best iteration is:\n",
      "[151]\ttraining's auc: 0.741435\tvalid_1's auc: 0.723277\n",
      "roc_auc_score:  0.7232772761680731\n",
      "Training until validation scores don't improve for 30 rounds.\n",
      "Early stopping, best iteration is:\n",
      "[162]\ttraining's auc: 0.742124\tvalid_1's auc: 0.724547\n",
      "roc_auc_score:  0.7245474761497128\n",
      "Training until validation scores don't improve for 30 rounds.\n",
      "Early stopping, best iteration is:\n",
      "[169]\ttraining's auc: 0.74333\tvalid_1's auc: 0.724203\n",
      "roc_auc_score:  0.7242033840441165\n",
      "Training until validation scores don't improve for 30 rounds.\n",
      "Early stopping, best iteration is:\n",
      "[128]\ttraining's auc: 0.73835\tvalid_1's auc: 0.725811\n",
      "roc_auc_score:  0.7258107181828541\n",
      "Training until validation scores don't improve for 30 rounds.\n",
      "Early stopping, best iteration is:\n",
      "[122]\ttraining's auc: 0.73802\tvalid_1's auc: 0.725893\n",
      "roc_auc_score:  0.7258929640680943\n",
      "Training until validation scores don't improve for 30 rounds.\n",
      "Early stopping, best iteration is:\n",
      "[143]\ttraining's auc: 0.740532\tvalid_1's auc: 0.723345\n",
      "roc_auc_score:  0.7233453320916836\n",
      "Training until validation scores don't improve for 30 rounds.\n",
      "Early stopping, best iteration is:\n",
      "[114]\ttraining's auc: 0.737214\tvalid_1's auc: 0.72046\n",
      "roc_auc_score:  0.7204595231208631\n"
     ]
    },
    {
     "name": "stderr",
     "output_type": "stream",
     "text": [
      "100%|██████████| 10/10 [18:29<00:00, 110.94s/it]\n"
     ]
    }
   ],
   "source": [
    "predictions = []\n",
    "\n",
    "for random_state in tqdm(range(0, 100, 10)):\n",
    "    params = {\n",
    "        'application': 'binary',\n",
    "        'verbosity': -1,\n",
    "        'metric': 'auc',\n",
    "        'feature_fraction_seed' : random_state + 10,\n",
    "        'bagging_seed' : random_state + 20\n",
    "    }\n",
    "    stratified = KFold(n_splits=10, shuffle=True, random_state=random_state)\n",
    "    for train_index, test_index in stratified.split(features_train, y_train):\n",
    "        x_t, x_v = features_train[train_index], features_train[test_index]\n",
    "        y_t, y_v = y_train[train_index], y_train[test_index]\n",
    "\n",
    "        dataset_train = lgbm.Dataset(x_t, label=y_t)\n",
    "        dataset_valid = lgbm.Dataset(x_v, label=y_v)\n",
    "        watchlist = [dataset_train, dataset_valid]\n",
    "        \n",
    "        model = lgbm.train(params, train_set=dataset_train, valid_sets=watchlist,\n",
    "                          num_boost_round=400, early_stopping_rounds=30, verbose_eval=1000)\n",
    "        preds = model.predict(x_v)\n",
    "        print(\"roc_auc_score: \", roc_auc_score(y_v, preds))\n",
    "        predictions.append(model.predict(features_test))\n",
    "        \n",
    "preds = gmean(np.array(predictions), axis=0)"
   ]
  },
  {
   "cell_type": "code",
   "execution_count": 21,
   "metadata": {},
   "outputs": [],
   "source": [
    "submission = pd.read_csv('/root/dataset/RoboMed/sample_submission.csv')\n",
    "submission.proba = preds\n",
    "submission.to_csv('submission_boosting.csv', index=False)"
   ]
  },
  {
   "cell_type": "code",
   "execution_count": null,
   "metadata": {},
   "outputs": [],
   "source": []
  }
 ],
 "metadata": {
  "kernelspec": {
   "display_name": "Python 3",
   "language": "python",
   "name": "python3"
  },
  "language_info": {
   "codemirror_mode": {
    "name": "ipython",
    "version": 3
   },
   "file_extension": ".py",
   "mimetype": "text/x-python",
   "name": "python",
   "nbconvert_exporter": "python",
   "pygments_lexer": "ipython3",
   "version": "3.6.4"
  }
 },
 "nbformat": 4,
 "nbformat_minor": 2
}

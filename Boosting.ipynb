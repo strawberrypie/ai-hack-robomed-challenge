{
 "cells": [
  {
   "cell_type": "code",
   "execution_count": 1,
   "metadata": {},
   "outputs": [],
   "source": [
    "import lightgbm as lgbm\n",
    "import pandas as pd\n",
    "import numpy as np\n",
    "import re\n",
    "\n",
    "from pymorphy2 import MorphAnalyzer\n",
    "\n",
    "from sklearn.model_selection import train_test_split\n",
    "from sklearn.metrics import roc_auc_score\n",
    "from sklearn.model_selection import KFold\n",
    "from sklearn.feature_extraction.text import CountVectorizer\n",
    "\n",
    "from matplotlib import pyplot as plt\n",
    "from tqdm import tqdm\n",
    "from scipy import sparse\n",
    "from scipy.stats.mstats import gmean\n",
    "\n",
    "import wordbatch\n",
    "from wordbatch.extractors import WordBag\n",
    "\n",
    "%matplotlib inline"
   ]
  },
  {
   "cell_type": "code",
   "execution_count": 2,
   "metadata": {},
   "outputs": [],
   "source": [
    "train_df = pd.read_csv('../dataset/RoboMed/new_train.csv')\n",
    "test_df = pd.read_csv('../dataset/RoboMed/new_test.csv')"
   ]
  },
  {
   "cell_type": "code",
   "execution_count": 3,
   "metadata": {},
   "outputs": [
    {
     "data": {
      "text/html": [
       "<div>\n",
       "<style scoped>\n",
       "    .dataframe tbody tr th:only-of-type {\n",
       "        vertical-align: middle;\n",
       "    }\n",
       "\n",
       "    .dataframe tbody tr th {\n",
       "        vertical-align: top;\n",
       "    }\n",
       "\n",
       "    .dataframe thead th {\n",
       "        text-align: right;\n",
       "    }\n",
       "</style>\n",
       "<table border=\"1\" class=\"dataframe\">\n",
       "  <thead>\n",
       "    <tr style=\"text-align: right;\">\n",
       "      <th></th>\n",
       "      <th>Unnamed: 0</th>\n",
       "      <th>ID</th>\n",
       "      <th>Код_диагноза</th>\n",
       "      <th>Диагноз</th>\n",
       "      <th>Возраст</th>\n",
       "      <th>Пол</th>\n",
       "      <th>Общее состояние</th>\n",
       "      <th>аллергия</th>\n",
       "      <th>Анамнез заболевания</th>\n",
       "      <th>Внешний осмотр</th>\n",
       "      <th>Revisit</th>\n",
       "      <th>Типичные_жалобы</th>\n",
       "      <th>Типичные_услуги</th>\n",
       "      <th>Типичные_источники_рекламы</th>\n",
       "    </tr>\n",
       "  </thead>\n",
       "  <tbody>\n",
       "    <tr>\n",
       "      <th>0</th>\n",
       "      <td>0</td>\n",
       "      <td>0</td>\n",
       "      <td>J06.0</td>\n",
       "      <td>Острый ларингофарингит</td>\n",
       "      <td>29</td>\n",
       "      <td>2</td>\n",
       "      <td>NaN</td>\n",
       "      <td>NaN</td>\n",
       "      <td>NaN</td>\n",
       "      <td>На жевательной поверхности 2.6- кариозная поло...</td>\n",
       "      <td>1</td>\n",
       "      <td>на першение, осиплость | на периодическое затр...</td>\n",
       "      <td>Прием врача-оториноларинголога повторный, амбу...</td>\n",
       "      <td>Другое | Рекомендации знакомых</td>\n",
       "    </tr>\n",
       "    <tr>\n",
       "      <th>1</th>\n",
       "      <td>1</td>\n",
       "      <td>1</td>\n",
       "      <td>N76.1</td>\n",
       "      <td>Подострый и хронический вагинит</td>\n",
       "      <td>45</td>\n",
       "      <td>2</td>\n",
       "      <td>NaN</td>\n",
       "      <td>NaN</td>\n",
       "      <td>считает себя больной на протяжении многих лет....</td>\n",
       "      <td>NaN</td>\n",
       "      <td>1</td>\n",
       "      <td>на выделения из половых путей ,периодические т...</td>\n",
       "      <td>Прием врача-акушера-гинеколога повторный, амбу...</td>\n",
       "      <td>Другое | Рекомендации знакомых | Интернет</td>\n",
       "    </tr>\n",
       "    <tr>\n",
       "      <th>2</th>\n",
       "      <td>2</td>\n",
       "      <td>2</td>\n",
       "      <td>L23.9</td>\n",
       "      <td>Аллергический контактный дерматит, причина не ...</td>\n",
       "      <td>63</td>\n",
       "      <td>2</td>\n",
       "      <td>NaN</td>\n",
       "      <td>NaN</td>\n",
       "      <td>Болен около 2-х дней, когда появились описанны...</td>\n",
       "      <td>NaN</td>\n",
       "      <td>1</td>\n",
       "      <td>NaN</td>\n",
       "      <td>NaN</td>\n",
       "      <td>NaN</td>\n",
       "    </tr>\n",
       "  </tbody>\n",
       "</table>\n",
       "</div>"
      ],
      "text/plain": [
       "   Unnamed: 0  ID Код_диагноза  \\\n",
       "0           0   0        J06.0   \n",
       "1           1   1        N76.1   \n",
       "2           2   2        L23.9   \n",
       "\n",
       "                                             Диагноз  Возраст  Пол  \\\n",
       "0                             Острый ларингофарингит       29    2   \n",
       "1                    Подострый и хронический вагинит       45    2   \n",
       "2  Аллергический контактный дерматит, причина не ...       63    2   \n",
       "\n",
       "  Общее состояние аллергия                                Анамнез заболевания  \\\n",
       "0             NaN      NaN                                                NaN   \n",
       "1             NaN      NaN  считает себя больной на протяжении многих лет....   \n",
       "2             NaN      NaN  Болен около 2-х дней, когда появились описанны...   \n",
       "\n",
       "                                      Внешний осмотр  Revisit  \\\n",
       "0  На жевательной поверхности 2.6- кариозная поло...        1   \n",
       "1                                                NaN        1   \n",
       "2                                                NaN        1   \n",
       "\n",
       "                                     Типичные_жалобы  \\\n",
       "0  на першение, осиплость | на периодическое затр...   \n",
       "1  на выделения из половых путей ,периодические т...   \n",
       "2                                                NaN   \n",
       "\n",
       "                                     Типичные_услуги  \\\n",
       "0  Прием врача-оториноларинголога повторный, амбу...   \n",
       "1  Прием врача-акушера-гинеколога повторный, амбу...   \n",
       "2                                                NaN   \n",
       "\n",
       "                  Типичные_источники_рекламы  \n",
       "0             Другое | Рекомендации знакомых  \n",
       "1  Другое | Рекомендации знакомых | Интернет  \n",
       "2                                        NaN  "
      ]
     },
     "execution_count": 3,
     "metadata": {},
     "output_type": "execute_result"
    }
   ],
   "source": [
    "train_df.head(3)"
   ]
  },
  {
   "cell_type": "code",
   "execution_count": 4,
   "metadata": {},
   "outputs": [],
   "source": [
    "def preprocess_text_feature(feature):\n",
    "    return feature.str.lower() \\\n",
    "                  .str.replace('\\n', '') \\\n",
    "                  .apply(lambda string: re.sub(r\"([.\\!?,'/()\\-№:;])\", ' \\\\1 ', string))"
   ]
  },
  {
   "cell_type": "code",
   "execution_count": 5,
   "metadata": {},
   "outputs": [],
   "source": [
    "def preprocess_dataset(df):\n",
    "    df['Состояние_неизвестно'] = df['Общее состояние'].isna()\n",
    "    df['Аллергия_неизвестна'] = df['аллергия'].isna()\n",
    "    df['Общее_состояние_неизвестно'] = df['Общее состояние'].isna()\n",
    "    df['Анамнез_заболевания_неизвестен'] = df['Анамнез заболевания'].isna()\n",
    "    df['Внешний_осмотр_неизвестен'] = df['Внешний осмотр'].isna()\n",
    "    df['Типичные_жалобы_неизвестны'] = df['Типичные_жалобы'].isna()\n",
    "    df['Типичные_услуги_неизвестны'] = df['Типичные_услуги'].isna()\n",
    "    df['Типичные_источники_рекламы_неизвестны'] = df['Типичные_источники_рекламы'].isna()\n",
    "    \n",
    "    df['Общее состояние'].fillna('общее_состояние_неизвестно', inplace=True)\n",
    "    df['аллергия'].fillna('аллергии_неизвестны', inplace=True)\n",
    "    df['Анамнез заболевания'].fillna('нет_анамнеза', inplace=True)\n",
    "    df['Внешний осмотр'].fillna('нет_осмотра', inplace=True)\n",
    "    df['Типичные_жалобы'].fillna('типичные_жалобы_неизвестны', inplace=True)\n",
    "    df['Типичные_услуги'].fillna('типичные_услги_неизвестны', inplace=True)\n",
    "    df['Типичные_источники_рекламы'].fillna('типичные_источники_рекламы_неизвестны', inplace=True)\n",
    "    \n",
    "    df['Анамнез заболевания'] = preprocess_text_feature(df['Анамнез заболевания'])\n",
    "    df['Внешний осмотр'] = preprocess_text_feature(df['Внешний осмотр'])\n",
    "    df['Диагноз'] = preprocess_text_feature(df['Диагноз'])\n",
    "    df['Общее состояние'] = preprocess_text_feature(df['Общее состояние'])\n",
    "    df['Типичные_услуги'] = preprocess_text_feature(df['Типичные_услуги'])\n",
    "    df['Типичные_жалобы'] = preprocess_text_feature(df['Типичные_жалобы'])\n",
    "    df['Типичные_источники_рекламы'] = preprocess_text_feature(df['Типичные_источники_рекламы'])\n",
    "    df['аллергия'] = preprocess_text_feature(df['аллергия'])\n",
    "    \n",
    "    df['Возраст_7'] = np.round(df['Возраст'] / 7).astype('category')\n",
    "    df['Возраст_5'] = np.round(df['Возраст'] / 5).astype('category')\n",
    "    df['Возраст_3'] = np.round(df['Возраст'] / 3).astype('category')\n",
    "    df['Возраст_2'] = np.round(df['Возраст'] / 2).astype('category')   \n",
    "    df['Возраст'] = df['Возраст'].astype('category')\n",
    "    \n",
    "    df['Пол'] = df['Пол'].astype('category')\n",
    "    df['ID'] = df['ID'].astype('category')\n",
    "    df['Код_диагноза'] = df['Код_диагноза'].astype('category')\n",
    "    df['аллергия'] = df['аллергия'].astype('category')\n",
    "    df['Анамнез заболевания'] = df['Анамнез заболевания'].astype('category')\n",
    "    df['Внешний осмотр'] = df['Внешний осмотр'].astype('category')\n",
    "    return df"
   ]
  },
  {
   "cell_type": "code",
   "execution_count": 6,
   "metadata": {},
   "outputs": [],
   "source": [
    "train_df = preprocess_dataset(train_df)\n",
    "test_df = preprocess_dataset(test_df)"
   ]
  },
  {
   "cell_type": "code",
   "execution_count": 7,
   "metadata": {},
   "outputs": [],
   "source": [
    "y_train = train_df.Revisit\n",
    "train_df = train_df.drop('Revisit', axis='columns')"
   ]
  },
  {
   "cell_type": "code",
   "execution_count": 8,
   "metadata": {},
   "outputs": [],
   "source": [
    "whole_df = pd.concat([train_df, test_df])"
   ]
  },
  {
   "cell_type": "code",
   "execution_count": 9,
   "metadata": {},
   "outputs": [],
   "source": [
    "def label_with_pos(text):\n",
    "    analyzer = MorphAnalyzer()\n",
    "    tokens = re.compile('[\\W+]').sub(' ', text).lower().strip().split()\n",
    "    tokens = [x for x in tokens if len(x) > 1]\n",
    "    result = []\n",
    "    for token in tokens:\n",
    "        parsed_result = analyzer.parse(token)\n",
    "        pos = parsed_result[0].tag.POS\n",
    "        pos_token = token + ('' if pos is None else '_' + pos)\n",
    "        result.append(pos_token)\n",
    "    return ' '.join(result)"
   ]
  },
  {
   "cell_type": "code",
   "execution_count": 10,
   "metadata": {},
   "outputs": [],
   "source": [
    "def one_hot_texts(text_feature):\n",
    "    wb = wordbatch.WordBatch(extractor=(WordBag, {\"hash_ngrams\": 2, \"hash_ngrams_weights\": [1.0, 1.0],\n",
    "                                                  \"hash_size\": 2 ** 22, \"norm\": None,\n",
    "                                                  \"tf\": 5.0, \"idf\": 5.0,}), procs=32)\n",
    "    wb.dictionary_freeze = True\n",
    "    transformed_feature = wb.fit_transform(text_feature)\n",
    "    nnz_features_mask = np.clip(transformed_feature.getnnz(axis=0) - 1, 0, 1).astype(bool)\n",
    "    transformed_feature = transformed_feature[:, nnz_features_mask]\n",
    "    return transformed_feature"
   ]
  },
  {
   "cell_type": "code",
   "execution_count": 11,
   "metadata": {},
   "outputs": [
    {
     "name": "stderr",
     "output_type": "stream",
     "text": [
      "  0%|          | 0/8 [00:00<?, ?it/s]"
     ]
    },
    {
     "name": "stdout",
     "output_type": "stream",
     "text": [
      "Normalize text\n",
      "Extract wordbags\n"
     ]
    },
    {
     "name": "stderr",
     "output_type": "stream",
     "text": [
      " 12%|█▎        | 1/8 [00:12<01:27, 12.55s/it]"
     ]
    },
    {
     "name": "stdout",
     "output_type": "stream",
     "text": [
      "Normalize text\n",
      "Extract wordbags\n"
     ]
    },
    {
     "name": "stderr",
     "output_type": "stream",
     "text": [
      " 25%|██▌       | 2/8 [00:25<01:15, 12.59s/it]"
     ]
    },
    {
     "name": "stdout",
     "output_type": "stream",
     "text": [
      "Normalize text\n",
      "Extract wordbags\n"
     ]
    },
    {
     "name": "stderr",
     "output_type": "stream",
     "text": [
      " 38%|███▊      | 3/8 [00:38<01:03, 12.75s/it]"
     ]
    },
    {
     "name": "stdout",
     "output_type": "stream",
     "text": [
      "Normalize text\n",
      "Extract wordbags\n"
     ]
    },
    {
     "name": "stderr",
     "output_type": "stream",
     "text": [
      " 50%|█████     | 4/8 [00:50<00:50, 12.70s/it]"
     ]
    },
    {
     "name": "stdout",
     "output_type": "stream",
     "text": [
      "Normalize text\n",
      "Extract wordbags\n"
     ]
    },
    {
     "name": "stderr",
     "output_type": "stream",
     "text": [
      " 62%|██████▎   | 5/8 [01:03<00:38, 12.75s/it]"
     ]
    },
    {
     "name": "stdout",
     "output_type": "stream",
     "text": [
      "Normalize text\n",
      "Extract wordbags\n"
     ]
    },
    {
     "name": "stderr",
     "output_type": "stream",
     "text": [
      " 75%|███████▌  | 6/8 [01:19<00:26, 13.32s/it]"
     ]
    },
    {
     "name": "stdout",
     "output_type": "stream",
     "text": [
      "Normalize text\n",
      "Extract wordbags\n"
     ]
    },
    {
     "name": "stderr",
     "output_type": "stream",
     "text": [
      " 88%|████████▊ | 7/8 [01:33<00:13, 13.32s/it]"
     ]
    },
    {
     "name": "stdout",
     "output_type": "stream",
     "text": [
      "Normalize text\n",
      "Extract wordbags\n"
     ]
    },
    {
     "name": "stderr",
     "output_type": "stream",
     "text": [
      "100%|██████████| 8/8 [01:46<00:00, 13.33s/it]\n"
     ]
    }
   ],
   "source": [
    "text_feature_names = ['Общее состояние', 'аллергия', 'Анамнез заболевания', 'Внешний осмотр',\n",
    "                      'Диагноз', 'Типичные_жалобы', 'Типичные_услуги', 'Типичные_источники_рекламы']\n",
    "transformed_matrices = [one_hot_texts(whole_df[feature_name])\n",
    "                        for feature_name in tqdm(text_feature_names)]\n",
    "text_features_matrix = sparse.hstack(transformed_matrices)"
   ]
  },
  {
   "cell_type": "code",
   "execution_count": 12,
   "metadata": {},
   "outputs": [],
   "source": [
    "patient_dummies = sparse.csr_matrix(\n",
    "    pd.get_dummies(whole_df[['Возраст', 'Код_диагноза', 'Пол']], sparse=True).values)\n",
    "\n",
    "patient_dummies_agebucket_2 = sparse.csr_matrix(\n",
    "    pd.get_dummies(whole_df[['Возраст_2', 'Код_диагноза', 'Пол']], sparse=True).values)\n",
    "\n",
    "patient_dummies_agebucket_3 = sparse.csr_matrix(\n",
    "    pd.get_dummies(whole_df[['Возраст_3', 'Код_диагноза', 'Пол']], sparse=True).values)\n",
    "\n",
    "patient_dummies_agebucket_5 = sparse.csr_matrix(\n",
    "    pd.get_dummies(whole_df[['Возраст_5', 'Код_диагноза', 'Пол']], sparse=True).values)\n",
    "\n",
    "patient_dummies_agebucket_7 = sparse.csr_matrix(\n",
    "    pd.get_dummies(whole_df[['Возраст_7', 'Код_диагноза', 'Пол']], sparse=True).values)\n",
    "\n",
    "age_dummies = sparse.csr_matrix(\n",
    "    pd.get_dummies(whole_df[['Возраст_2', 'Возраст_3', 'Возраст_5', 'Возраст_7']], sparse=True).values)"
   ]
  },
  {
   "cell_type": "code",
   "execution_count": 13,
   "metadata": {},
   "outputs": [],
   "source": [
    "nan_feature_names = ['Состояние_неизвестно', 'Аллергия_неизвестна', 'Общее_состояние_неизвестно',\n",
    "                     'Анамнез_заболевания_неизвестен', 'Внешний_осмотр_неизвестен',\n",
    "                     'Типичные_жалобы_неизвестны', 'Типичные_услуги_неизвестны',\n",
    "                     'Типичные_источники_рекламы_неизвестны']\n",
    "nan_dummies = sparse.csr_matrix(pd.get_dummies(whole_df[nan_feature_names], sparse=True).values)"
   ]
  },
  {
   "cell_type": "code",
   "execution_count": 14,
   "metadata": {},
   "outputs": [],
   "source": [
    "vectorizer = CountVectorizer()\n",
    "diagnosis_counts = vectorizer.fit_transform(whole_df['Код_диагноза'].apply(str))\n",
    "\n",
    "vectorizer = CountVectorizer(analyzer='char', ngram_range=(1, 2))\n",
    "diagnosis_counts_char = vectorizer.fit_transform(whole_df['Код_диагноза'].apply(str))"
   ]
  },
  {
   "cell_type": "code",
   "execution_count": 15,
   "metadata": {},
   "outputs": [],
   "source": [
    "def remove_unsued_features(mat):\n",
    "    nnz_mask = np.clip(mat.getnnz(axis=0) - 1, 0, 1).astype(bool)\n",
    "    mat = mat[:, nnz_mask]\n",
    "    return mat"
   ]
  },
  {
   "cell_type": "code",
   "execution_count": 16,
   "metadata": {},
   "outputs": [],
   "source": [
    "patient_dummies = remove_unsued_features(patient_dummies)\n",
    "patient_dummies_agebucket_2 = remove_unsued_features(patient_dummies_agebucket_2)\n",
    "patient_dummies_agebucket_3 = remove_unsued_features(patient_dummies_agebucket_3)\n",
    "patient_dummies_agebucket_5 = remove_unsued_features(patient_dummies_agebucket_5)\n",
    "patient_dummies_agebucket_7 = remove_unsued_features(patient_dummies_agebucket_7)\n",
    "nan_dummies = remove_unsued_features(nan_dummies)\n",
    "age_dummies = remove_unsued_features(age_dummies)"
   ]
  },
  {
   "cell_type": "code",
   "execution_count": 18,
   "metadata": {},
   "outputs": [],
   "source": [
    "whole_features_matrix = sparse.hstack([\n",
    "    text_features_matrix, patient_dummies, age_dummies,\n",
    "    patient_dummies_agebucket_2,\n",
    "    patient_dummies_agebucket_3,\n",
    "    patient_dummies_agebucket_5,\n",
    "    patient_dummies_agebucket_7,\n",
    "    nan_dummies, diagnosis_counts, diagnosis_counts_char\n",
    "]).tocsr()"
   ]
  },
  {
   "cell_type": "code",
   "execution_count": 19,
   "metadata": {},
   "outputs": [],
   "source": [
    "features_train = whole_features_matrix[:len(train_df)]\n",
    "features_test = whole_features_matrix[len(train_df):]"
   ]
  },
  {
   "cell_type": "code",
   "execution_count": 25,
   "metadata": {},
   "outputs": [
    {
     "name": "stderr",
     "output_type": "stream",
     "text": [
      "  0%|          | 0/10 [00:00<?, ?it/s]"
     ]
    },
    {
     "name": "stdout",
     "output_type": "stream",
     "text": [
      "Training until validation scores don't improve for 4 rounds.\n",
      "Early stopping, best iteration is:\n",
      "[73]\ttraining's auc: 0.732349\tvalid_1's auc: 0.720286\n",
      "Training until validation scores don't improve for 4 rounds.\n",
      "Early stopping, best iteration is:\n",
      "[94]\ttraining's auc: 0.735559\tvalid_1's auc: 0.722835\n",
      "Training until validation scores don't improve for 4 rounds.\n",
      "Early stopping, best iteration is:\n",
      "[103]\ttraining's auc: 0.737521\tvalid_1's auc: 0.720745\n",
      "Training until validation scores don't improve for 4 rounds.\n",
      "Early stopping, best iteration is:\n",
      "[90]\ttraining's auc: 0.734955\tvalid_1's auc: 0.722344\n",
      "Training until validation scores don't improve for 4 rounds.\n",
      "Early stopping, best iteration is:\n",
      "[127]\ttraining's auc: 0.739066\tvalid_1's auc: 0.727712\n"
     ]
    },
    {
     "name": "stderr",
     "output_type": "stream",
     "text": [
      " 10%|█         | 1/10 [00:30<04:34, 30.55s/it]"
     ]
    },
    {
     "name": "stdout",
     "output_type": "stream",
     "text": [
      "Training until validation scores don't improve for 4 rounds.\n",
      "Early stopping, best iteration is:\n",
      "[88]\ttraining's auc: 0.733824\tvalid_1's auc: 0.726665\n",
      "Training until validation scores don't improve for 4 rounds.\n",
      "Early stopping, best iteration is:\n",
      "[102]\ttraining's auc: 0.738689\tvalid_1's auc: 0.715498\n",
      "Training until validation scores don't improve for 4 rounds.\n",
      "Early stopping, best iteration is:\n",
      "[71]\ttraining's auc: 0.730861\tvalid_1's auc: 0.724034\n",
      "Training until validation scores don't improve for 4 rounds.\n",
      "Early stopping, best iteration is:\n",
      "[74]\ttraining's auc: 0.732099\tvalid_1's auc: 0.722446\n",
      "Training until validation scores don't improve for 4 rounds.\n",
      "Early stopping, best iteration is:\n",
      "[119]\ttraining's auc: 0.738812\tvalid_1's auc: 0.723487\n"
     ]
    },
    {
     "name": "stderr",
     "output_type": "stream",
     "text": [
      " 20%|██        | 2/10 [00:58<03:53, 29.25s/it]"
     ]
    },
    {
     "name": "stdout",
     "output_type": "stream",
     "text": [
      "Training until validation scores don't improve for 4 rounds.\n",
      "Early stopping, best iteration is:\n",
      "[84]\ttraining's auc: 0.73377\tvalid_1's auc: 0.722943\n",
      "Training until validation scores don't improve for 4 rounds.\n",
      "Early stopping, best iteration is:\n",
      "[103]\ttraining's auc: 0.737302\tvalid_1's auc: 0.720706\n",
      "Training until validation scores don't improve for 4 rounds.\n",
      "Early stopping, best iteration is:\n",
      "[112]\ttraining's auc: 0.738714\tvalid_1's auc: 0.72091\n",
      "Training until validation scores don't improve for 4 rounds.\n",
      "Early stopping, best iteration is:\n",
      "[87]\ttraining's auc: 0.734039\tvalid_1's auc: 0.723536\n",
      "Training until validation scores don't improve for 4 rounds.\n",
      "Early stopping, best iteration is:\n",
      "[95]\ttraining's auc: 0.735614\tvalid_1's auc: 0.723769\n"
     ]
    },
    {
     "name": "stderr",
     "output_type": "stream",
     "text": [
      " 30%|███       | 3/10 [01:28<03:27, 29.60s/it]"
     ]
    },
    {
     "name": "stdout",
     "output_type": "stream",
     "text": [
      "Training until validation scores don't improve for 4 rounds.\n",
      "Early stopping, best iteration is:\n",
      "[111]\ttraining's auc: 0.737764\tvalid_1's auc: 0.723234\n",
      "Training until validation scores don't improve for 4 rounds.\n",
      "Early stopping, best iteration is:\n",
      "[110]\ttraining's auc: 0.738288\tvalid_1's auc: 0.721484\n",
      "Training until validation scores don't improve for 4 rounds.\n",
      "Early stopping, best iteration is:\n",
      "[94]\ttraining's auc: 0.734653\tvalid_1's auc: 0.727087\n",
      "Training until validation scores don't improve for 4 rounds.\n",
      "Early stopping, best iteration is:\n",
      "[87]\ttraining's auc: 0.735159\tvalid_1's auc: 0.721573\n",
      "Training until validation scores don't improve for 4 rounds.\n",
      "Early stopping, best iteration is:\n",
      "[89]\ttraining's auc: 0.734922\tvalid_1's auc: 0.720751\n"
     ]
    },
    {
     "name": "stderr",
     "output_type": "stream",
     "text": [
      " 40%|████      | 4/10 [01:58<02:57, 29.62s/it]"
     ]
    },
    {
     "name": "stdout",
     "output_type": "stream",
     "text": [
      "Training until validation scores don't improve for 4 rounds.\n",
      "Early stopping, best iteration is:\n",
      "[94]\ttraining's auc: 0.735804\tvalid_1's auc: 0.722301\n",
      "Training until validation scores don't improve for 4 rounds.\n",
      "Early stopping, best iteration is:\n",
      "[93]\ttraining's auc: 0.734597\tvalid_1's auc: 0.726248\n",
      "Training until validation scores don't improve for 4 rounds.\n",
      "Early stopping, best iteration is:\n",
      "[77]\ttraining's auc: 0.733253\tvalid_1's auc: 0.719871\n",
      "Training until validation scores don't improve for 4 rounds.\n",
      "Early stopping, best iteration is:\n",
      "[118]\ttraining's auc: 0.739146\tvalid_1's auc: 0.722879\n",
      "Training until validation scores don't improve for 4 rounds.\n",
      "Early stopping, best iteration is:\n",
      "[92]\ttraining's auc: 0.735122\tvalid_1's auc: 0.722501\n"
     ]
    },
    {
     "name": "stderr",
     "output_type": "stream",
     "text": [
      " 50%|█████     | 5/10 [02:27<02:27, 29.51s/it]"
     ]
    },
    {
     "name": "stdout",
     "output_type": "stream",
     "text": [
      "Training until validation scores don't improve for 4 rounds.\n",
      "Early stopping, best iteration is:\n",
      "[87]\ttraining's auc: 0.73451\tvalid_1's auc: 0.721341\n",
      "Training until validation scores don't improve for 4 rounds.\n",
      "Early stopping, best iteration is:\n",
      "[79]\ttraining's auc: 0.733092\tvalid_1's auc: 0.723231\n",
      "Training until validation scores don't improve for 4 rounds.\n",
      "Early stopping, best iteration is:\n",
      "[100]\ttraining's auc: 0.736477\tvalid_1's auc: 0.723305\n",
      "Training until validation scores don't improve for 4 rounds.\n",
      "Early stopping, best iteration is:\n",
      "[87]\ttraining's auc: 0.734793\tvalid_1's auc: 0.721474\n",
      "Training until validation scores don't improve for 4 rounds.\n",
      "Early stopping, best iteration is:\n",
      "[101]\ttraining's auc: 0.736314\tvalid_1's auc: 0.722734\n"
     ]
    },
    {
     "name": "stderr",
     "output_type": "stream",
     "text": [
      " 60%|██████    | 6/10 [02:56<01:57, 29.34s/it]"
     ]
    },
    {
     "name": "stdout",
     "output_type": "stream",
     "text": [
      "Training until validation scores don't improve for 4 rounds.\n",
      "Early stopping, best iteration is:\n",
      "[96]\ttraining's auc: 0.736006\tvalid_1's auc: 0.72352\n",
      "Training until validation scores don't improve for 4 rounds.\n",
      "Early stopping, best iteration is:\n",
      "[119]\ttraining's auc: 0.738976\tvalid_1's auc: 0.723259\n",
      "Training until validation scores don't improve for 4 rounds.\n",
      "Early stopping, best iteration is:\n",
      "[92]\ttraining's auc: 0.735119\tvalid_1's auc: 0.722581\n",
      "Training until validation scores don't improve for 4 rounds.\n",
      "Early stopping, best iteration is:\n",
      "[89]\ttraining's auc: 0.735318\tvalid_1's auc: 0.721334\n",
      "Training until validation scores don't improve for 4 rounds.\n",
      "Early stopping, best iteration is:\n",
      "[92]\ttraining's auc: 0.735161\tvalid_1's auc: 0.721928\n"
     ]
    },
    {
     "name": "stderr",
     "output_type": "stream",
     "text": [
      " 70%|███████   | 7/10 [03:24<01:27, 29.23s/it]"
     ]
    },
    {
     "name": "stdout",
     "output_type": "stream",
     "text": [
      "Training until validation scores don't improve for 4 rounds.\n",
      "Early stopping, best iteration is:\n",
      "[79]\ttraining's auc: 0.733532\tvalid_1's auc: 0.719946\n",
      "Training until validation scores don't improve for 4 rounds.\n",
      "Early stopping, best iteration is:\n",
      "[90]\ttraining's auc: 0.733968\tvalid_1's auc: 0.725167\n",
      "Training until validation scores don't improve for 4 rounds.\n",
      "Early stopping, best iteration is:\n",
      "[122]\ttraining's auc: 0.738436\tvalid_1's auc: 0.726554\n",
      "Training until validation scores don't improve for 4 rounds.\n",
      "Early stopping, best iteration is:\n",
      "[88]\ttraining's auc: 0.735077\tvalid_1's auc: 0.720081\n",
      "Training until validation scores don't improve for 4 rounds.\n",
      "Early stopping, best iteration is:\n",
      "[84]\ttraining's auc: 0.734568\tvalid_1's auc: 0.720202\n"
     ]
    },
    {
     "name": "stderr",
     "output_type": "stream",
     "text": [
      " 80%|████████  | 8/10 [03:53<00:58, 29.16s/it]"
     ]
    },
    {
     "name": "stdout",
     "output_type": "stream",
     "text": [
      "Training until validation scores don't improve for 4 rounds.\n",
      "Early stopping, best iteration is:\n",
      "[79]\ttraining's auc: 0.732821\tvalid_1's auc: 0.722267\n",
      "Training until validation scores don't improve for 4 rounds.\n",
      "Early stopping, best iteration is:\n",
      "[79]\ttraining's auc: 0.733215\tvalid_1's auc: 0.721321\n",
      "Training until validation scores don't improve for 4 rounds.\n",
      "Early stopping, best iteration is:\n",
      "[112]\ttraining's auc: 0.738236\tvalid_1's auc: 0.722551\n",
      "Training until validation scores don't improve for 4 rounds.\n",
      "Early stopping, best iteration is:\n",
      "[88]\ttraining's auc: 0.734172\tvalid_1's auc: 0.722871\n",
      "Training until validation scores don't improve for 4 rounds.\n",
      "Early stopping, best iteration is:\n",
      "[72]\ttraining's auc: 0.731742\tvalid_1's auc: 0.722497\n"
     ]
    },
    {
     "name": "stderr",
     "output_type": "stream",
     "text": [
      " 90%|█████████ | 9/10 [04:21<00:29, 29.04s/it]"
     ]
    },
    {
     "name": "stdout",
     "output_type": "stream",
     "text": [
      "Training until validation scores don't improve for 4 rounds.\n",
      "Early stopping, best iteration is:\n",
      "[95]\ttraining's auc: 0.735809\tvalid_1's auc: 0.721534\n",
      "Training until validation scores don't improve for 4 rounds.\n",
      "Early stopping, best iteration is:\n",
      "[93]\ttraining's auc: 0.735415\tvalid_1's auc: 0.723207\n",
      "Training until validation scores don't improve for 4 rounds.\n",
      "Early stopping, best iteration is:\n",
      "[85]\ttraining's auc: 0.733889\tvalid_1's auc: 0.723196\n",
      "Training until validation scores don't improve for 4 rounds.\n",
      "Early stopping, best iteration is:\n",
      "[98]\ttraining's auc: 0.73556\tvalid_1's auc: 0.725095\n",
      "Training until validation scores don't improve for 4 rounds.\n",
      "Early stopping, best iteration is:\n",
      "[72]\ttraining's auc: 0.732091\tvalid_1's auc: 0.720815\n"
     ]
    },
    {
     "name": "stderr",
     "output_type": "stream",
     "text": [
      "100%|██████████| 10/10 [04:48<00:00, 28.88s/it]\n"
     ]
    }
   ],
   "source": [
    "predictions = []\n",
    "\n",
    "for random_state in tqdm(range(0, 100, 10)):\n",
    "    params = {\n",
    "        'application': 'binary',\n",
    "        'verbosity': -1,\n",
    "        'metric': 'auc',\n",
    "        'feature_fraction_seed' : random_state + 10,\n",
    "        'bagging_seed' : random_state + 20\n",
    "    }\n",
    "    stratified = KFold(n_splits=5, shuffle=True, random_state=random_state)\n",
    "    for train_index, test_index in stratified.split(features_train, y_train):\n",
    "        x_t, x_v = features_train[train_index], features_train[test_index]\n",
    "        y_t, y_v = y_train[train_index], y_train[test_index]\n",
    "\n",
    "        dataset_train = lgbm.Dataset(x_t, label=y_t)\n",
    "        dataset_valid = lgbm.Dataset(x_v, label=y_v)\n",
    "        watchlist = [dataset_train, dataset_valid]\n",
    "        \n",
    "        model = lgbm.train(params, train_set=dataset_train, valid_sets=watchlist,\n",
    "                          num_boost_round=400, early_stopping_rounds=4, verbose_eval=1000)\n",
    "        preds = model.predict(x_v)\n",
    "#         print(\"roc_auc_score: \", roc_auc_score(y_v, preds))\n",
    "        predictions.append(model.predict(features_test))\n",
    "        \n",
    "preds = gmean(np.array(predictions), axis=0)"
   ]
  },
  {
   "cell_type": "code",
   "execution_count": 29,
   "metadata": {},
   "outputs": [],
   "source": [
    "submission = pd.read_csv('/root/dataset/RoboMed/sample_submission.csv')\n",
    "submission.proba = preds\n",
    "submission.to_csv('submission_boosting.csv', index=False)"
   ]
  },
  {
   "cell_type": "code",
   "execution_count": 28,
   "metadata": {},
   "outputs": [
    {
     "data": {
      "text/plain": [
       "[<matplotlib.lines.Line2D at 0x7fb93c0e55c0>]"
      ]
     },
     "execution_count": 28,
     "metadata": {},
     "output_type": "execute_result"
    },
    {
     "data": {
      "image/png": "[encoded data removed]",
      "text/plain": [
       "<Figure size 432x288 with 1 Axes>"
      ]
     },
     "metadata": {},
     "output_type": "display_data"
    }
   ],
   "source": [
    "plt.plot(model.feature_importance())"
   ]
  },
  {
   "cell_type": "code",
   "execution_count": null,
   "metadata": {},
   "outputs": [],
   "source": []
  }
 ],
 "metadata": {
  "kernelspec": {
   "display_name": "Python 3",
   "language": "python",
   "name": "python3"
  },
  "language_info": {
   "codemirror_mode": {
    "name": "ipython",
    "version": 3
   },
   "file_extension": ".py",
   "mimetype": "text/x-python",
   "name": "python",
   "nbconvert_exporter": "python",
   "pygments_lexer": "ipython3",
   "version": "3.6.4"
  }
 },
 "nbformat": 4,
 "nbformat_minor": 2
}

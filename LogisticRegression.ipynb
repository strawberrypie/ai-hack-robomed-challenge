{
 "cells": [
  {
   "cell_type": "code",
   "execution_count": 55,
   "metadata": {},
   "outputs": [],
   "source": [
    "import pandas as pd\n",
    "import numpy as np\n",
    "import re\n",
    "\n",
    "from nltk import word_tokenize\n",
    "from nltk.stem.snowball import RussianStemmer\n",
    "from sklearn.feature_extraction.text import HashingVectorizer\n",
    "\n",
    "from scipy import sparse\n",
    "from sklearn.linear_model import LogisticRegression\n",
    "\n",
    "from sklearn.model_selection import train_test_split\n",
    "from sklearn.metrics import roc_auc_score\n",
    "\n",
    "from matplotlib import pyplot as plt\n",
    "%matplotlib inline"
   ]
  },
  {
   "cell_type": "code",
   "execution_count": 2,
   "metadata": {},
   "outputs": [],
   "source": [
    "train_df = pd.read_csv('../dataset/RoboMed/new_train.csv')\n",
    "test_df = pd.read_csv('../dataset/RoboMed/new_test.csv')"
   ]
  },
  {
   "cell_type": "code",
   "execution_count": 3,
   "metadata": {},
   "outputs": [
    {
     "data": {
      "text/plain": [
       "1    234576\n",
       "0     48510\n",
       "Name: Revisit, dtype: int64"
      ]
     },
     "execution_count": 3,
     "metadata": {},
     "output_type": "execute_result"
    }
   ],
   "source": [
    "train_df.Revisit.value_counts()"
   ]
  },
  {
   "cell_type": "code",
   "execution_count": 4,
   "metadata": {},
   "outputs": [],
   "source": [
    "def explain_diagnosis_code(series):\n",
    "    regex = '([A-Z])(\\d\\d)(?:.(\\d\\*?))?'\n",
    "    prefixes = ['группа_', 'номер_', 'подномер_']\n",
    "    def get_explanation(string):\n",
    "        matches = re.findall(regex, string)\n",
    "        if len(matches) == 0:\n",
    "            return 'неизвестный_диагноз'\n",
    "        return [prefix + token for prefix, token in zip(prefixes, matches[0])]\n",
    "    return series.apply(lambda string: ' '.join(get_explanation(string)))"
   ]
  },
  {
   "cell_type": "code",
   "execution_count": 5,
   "metadata": {},
   "outputs": [],
   "source": [
    "train_df['Общее состояние'] = train_df['Общее состояние'].fillna('общее_состояние_неизвестно')\n",
    "train_df['аллергия'] = train_df['аллергия'].fillna('аллергии_неизвестны')\n",
    "train_df['Анамнез заболевания'] = train_df['Анамнез заболевания'].fillna('нет_анамнеза')\n",
    "train_df['Внешний осмотр'] = train_df['Внешний осмотр'].fillna('нет_осмотра')\n",
    "train_df['Типичные_жалобы'] = train_df['Типичные_жалобы'].fillna('типичные_жалобы_неизвестны')\n",
    "train_df['Типичные_услуги'] = train_df['Типичные_услуги'].fillna('типичные_услги_неизвестны')\n",
    "train_df['Типичные_источники_рекламы'] = train_df['Типичные_источники_рекламы'].fillna('типичные_источники_рекламы_неизвестны')\n",
    "train_df['Код_диагноза'] = explain_diagnosis_code(train_df['Код_диагноза'])\n",
    "\n",
    "test_df['Общее состояние'] = test_df['Общее состояние'].fillna('общее_состояние_неизвестно')\n",
    "test_df['аллергия'] = test_df['аллергия'].fillna('аллергии_неизвестны')\n",
    "test_df['Анамнез заболевания'] = test_df['Анамнез заболевания'].fillna('нет_анамнеза')\n",
    "test_df['Внешний осмотр'] = test_df['Внешний осмотр'].fillna('нет_осмотра')\n",
    "test_df['Типичные_жалобы'] = test_df['Типичные_жалобы'].fillna('типичные_жалобы_неизвестны')\n",
    "test_df['Типичные_услуги'] = test_df['Типичные_услуги'].fillna('типичные_услги_неизвестны')\n",
    "test_df['Типичные_источники_рекламы'] = test_df['Типичные_источники_рекламы'].fillna('типичные_источники_рекламы_неизвестны')\n",
    "test_df['Код_диагноза'] = explain_diagnosis_code(test_df['Код_диагноза'])"
   ]
  },
  {
   "cell_type": "code",
   "execution_count": 6,
   "metadata": {},
   "outputs": [],
   "source": [
    "train_dataframe, valid_dataframe = train_test_split(train_df, test_size=0.1,\n",
    "                                                    stratify=train_df.Revisit, random_state=42)"
   ]
  },
  {
   "cell_type": "code",
   "execution_count": 7,
   "metadata": {},
   "outputs": [],
   "source": [
    "def concat_text_features(df):\n",
    "    features = (\n",
    "        df['Код_диагноза'].str.replace('.', '#') + ' • ' +\n",
    "        df['Диагноз'] + ' • ' +\n",
    "        'Возраст_' + df['Возраст'].astype(str) + ' • ' +\n",
    "        'Пол_' + df['Пол'].astype(str) + ' • ' +\n",
    "        df['Общее состояние'] + ' • ' +\n",
    "        df['аллергия'] + ' • ' +\n",
    "        df['Анамнез заболевания'] + ' • ' +\n",
    "        df['Внешний осмотр'] + ' • ' +\n",
    "        df['Типичные_жалобы'] + ' • ' +\n",
    "        df['Типичные_услуги'] + ' • ' +\n",
    "        df['Типичные_источники_рекламы']\n",
    "    )\n",
    "    return features.str.lower().str.replace('\\n', '').apply(lambda string: re.sub(r\"([.\\!?,'/()\\-№:;])\", ' \\\\1 ', string))"
   ]
  },
  {
   "cell_type": "code",
   "execution_count": 8,
   "metadata": {},
   "outputs": [],
   "source": [
    "text_train = concat_text_features(train_dataframe)\n",
    "text_valid = concat_text_features(valid_dataframe)\n",
    "text_test = concat_text_features(test_df)"
   ]
  },
  {
   "cell_type": "code",
   "execution_count": 137,
   "metadata": {},
   "outputs": [],
   "source": [
    "stemmer = RussianStemmer()\n",
    "\n",
    "def clean_string(string: str):\n",
    "    string = string.lower()\n",
    "    string = re.sub(\"['\\\";()]\", '', string)\n",
    "    string = re.sub('[\\n\\-/\\\\*,\\.&]', ' ', string)\n",
    "    string = ' '.join(stemmer.stem(word) for word in word_tokenize(string))\n",
    "    return string"
   ]
  },
  {
   "cell_type": "code",
   "execution_count": 9,
   "metadata": {},
   "outputs": [],
   "source": [
    "text_clean_train = text_train #.apply(clean_string)\n",
    "text_clean_valid = text_valid #.apply(clean_string)\n",
    "text_clean_test = text_test #.apply(clean_string)"
   ]
  },
  {
   "cell_type": "code",
   "execution_count": 78,
   "metadata": {},
   "outputs": [],
   "source": [
    "n_features = 60000\n",
    "word_counts_vectorizer = HashingVectorizer(n_features=n_features,\n",
    "                                           analyzer='word', ngram_range=(1, 1),\n",
    "                                           stop_words=['•', '|'])\n",
    "char_ngrams_counts_vectorizer = HashingVectorizer(n_features=n_features,\n",
    "                                                  analyzer='char_wb', ngram_range=(3, 3))\n",
    "\n",
    "word_counts_train = word_counts_vectorizer.fit_transform(text_clean_train)\n",
    "word_counts_valid = word_counts_vectorizer.transform(text_clean_valid)\n",
    "word_counts_test = word_counts_vectorizer.transform(text_clean_test)\n",
    "\n",
    "char_ngrams_counts_train = char_ngrams_counts_vectorizer.fit_transform(text_clean_train)\n",
    "char_ngrams_counts_valid = char_ngrams_counts_vectorizer.transform(text_clean_valid)\n",
    "char_ngrams_counts_test = char_ngrams_counts_vectorizer.transform(text_clean_test)"
   ]
  },
  {
   "cell_type": "code",
   "execution_count": 79,
   "metadata": {},
   "outputs": [],
   "source": [
    "features_train = sparse.hstack([word_counts_train, char_ngrams_counts_train], format='csr')\n",
    "features_valid = sparse.hstack([word_counts_valid, char_ngrams_counts_valid], format='csr')\n",
    "features_test = sparse.hstack([word_counts_test, char_ngrams_counts_test], format='csr')"
   ]
  },
  {
   "cell_type": "code",
   "execution_count": 101,
   "metadata": {},
   "outputs": [],
   "source": [
    "clf = LogisticRegression(C=0.3, penalty='l2', class_weight='balanced', n_jobs=-1, solver='lbfgs')"
   ]
  },
  {
   "cell_type": "code",
   "execution_count": 102,
   "metadata": {},
   "outputs": [
    {
     "data": {
      "text/plain": [
       "LogisticRegression(C=0.3, class_weight='balanced', dual=False,\n",
       "          fit_intercept=True, intercept_scaling=1, max_iter=100,\n",
       "          multi_class='ovr', n_jobs=-1, penalty='l2', random_state=None,\n",
       "          solver='lbfgs', tol=0.0001, verbose=0, warm_start=False)"
      ]
     },
     "execution_count": 102,
     "metadata": {},
     "output_type": "execute_result"
    }
   ],
   "source": [
    "clf.fit(features_train, train_dataframe.Revisit)"
   ]
  },
  {
   "cell_type": "code",
   "execution_count": 103,
   "metadata": {},
   "outputs": [
    {
     "name": "stdout",
     "output_type": "stream",
     "text": [
      "0.7062839748734295\n"
     ]
    }
   ],
   "source": [
    "# 0.5 0.706\n",
    "print(roc_auc_score(valid_dataframe.Revisit, clf.predict_proba(features_valid)[:, 1]))"
   ]
  },
  {
   "cell_type": "code",
   "execution_count": 104,
   "metadata": {},
   "outputs": [
    {
     "name": "stdout",
     "output_type": "stream",
     "text": [
      "0.7308061088644865\n"
     ]
    }
   ],
   "source": [
    "print(roc_auc_score(train_dataframe.Revisit, clf.predict_proba(features_train)[:, 1]))"
   ]
  },
  {
   "cell_type": "code",
   "execution_count": 36,
   "metadata": {},
   "outputs": [],
   "source": [
    "submission = pd.read_csv('/root/dataset/RoboMed/sample_submission.csv')\n",
    "submission.proba = clf.predict_proba(features_test)[:, 1]\n",
    "# submission.proba = (submission.proba > 0.391215).astype(int)\n",
    "submission.to_csv('submission_lr_everything.csv', index=False)"
   ]
  },
  {
   "cell_type": "code",
   "execution_count": 105,
   "metadata": {},
   "outputs": [],
   "source": [
    "def read_pred(filename):\n",
    "    with open(filename) as file:\n",
    "        lines = file.readlines()\n",
    "        y_pred = np.array([float(line.split()[1]) if line.split()[0] == '__label__1' else 1 - float(line.split()[1])\n",
    "                           for line in lines])\n",
    "    return y_pred"
   ]
  },
  {
   "cell_type": "code",
   "execution_count": 106,
   "metadata": {},
   "outputs": [],
   "source": [
    "y_pred_valid = read_pred('y_pred_valid.txt')\n",
    "y_pred_test = read_pred('y_pred_test.txt')"
   ]
  },
  {
   "cell_type": "code",
   "execution_count": 110,
   "metadata": {},
   "outputs": [
    {
     "name": "stdout",
     "output_type": "stream",
     "text": [
      "0.6122448979591836  ->  0.7106502919932393\n"
     ]
    },
    {
     "data": {
      "image/png": "[encoded data removed]",
      "text/plain": [
       "<Figure size 432x288 with 1 Axes>"
      ]
     },
     "metadata": {},
     "output_type": "display_data"
    }
   ],
   "source": [
    "scores = np.array(\n",
    "    [roc_auc_score(valid_dataframe.Revisit,\n",
    "                        p * y_pred_valid + (1 - p) * clf.predict_proba(features_valid)[:, 1])\n",
    "     for p in np.linspace(0, 1)])\n",
    "\n",
    "plt.plot(np.linspace(0, 1), scores)\n",
    "print(np.linspace(0, 1)[scores.argmax()], ' -> ', scores.max())"
   ]
  },
  {
   "cell_type": "code",
   "execution_count": 111,
   "metadata": {},
   "outputs": [],
   "source": [
    "p = np.linspace(0, 1)[scores.argmax()]\n",
    "blended_pred = p * y_pred_test + (1 - p) * clf.predict_proba(features_test)[:, 1]"
   ]
  },
  {
   "cell_type": "code",
   "execution_count": 112,
   "metadata": {},
   "outputs": [],
   "source": [
    "y_pred_test = read_pred('y_pred_test.txt')\n",
    "submission = pd.read_csv('/root/dataset/RoboMed/sample_submission.csv')\n",
    "submission.proba = blended_pred\n",
    "submission.to_csv('submission_blended.csv', index=False)"
   ]
  },
  {
   "cell_type": "code",
   "execution_count": null,
   "metadata": {},
   "outputs": [],
   "source": []
  }
 ],
 "metadata": {
  "kernelspec": {
   "display_name": "Python 3",
   "language": "python",
   "name": "python3"
  },
  "language_info": {
   "codemirror_mode": {
    "name": "ipython",
    "version": 3
   },
   "file_extension": ".py",
   "mimetype": "text/x-python",
   "name": "python",
   "nbconvert_exporter": "python",
   "pygments_lexer": "ipython3",
   "version": "3.6.4"
  }
 },
 "nbformat": 4,
 "nbformat_minor": 2
}

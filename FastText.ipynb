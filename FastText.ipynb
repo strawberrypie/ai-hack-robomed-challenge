{
 "cells": [
  {
   "cell_type": "code",
   "execution_count": 1,
   "metadata": {},
   "outputs": [],
   "source": [
    "import pandas as pd\n",
    "import numpy as np\n",
    "\n",
    "from sklearn.model_selection import train_test_split\n",
    "from sklearn.metrics import roc_auc_score\n",
    "%matplotlib inline"
   ]
  },
  {
   "cell_type": "code",
   "execution_count": 2,
   "metadata": {},
   "outputs": [],
   "source": [
    "train_df = pd.read_csv('../dataset/RoboMed/train_data.csv')\n",
    "test_df = pd.read_csv('../dataset/RoboMed/test_data.csv')"
   ]
  },
  {
   "cell_type": "code",
   "execution_count": 3,
   "metadata": {},
   "outputs": [],
   "source": [
    "train_df['Общее состояние'] = train_df['Общее состояние'].fillna('общее_состояние_неизвестно')\n",
    "train_df['аллергия'] = train_df['аллергия'].fillna('аллергии_неизвестны')\n",
    "train_df['Анамнез заболевания'] = train_df['Анамнез заболевания'].fillna('нет_анамнеза')\n",
    "train_df['Внешний осмотр'] = train_df['Внешний осмотр'].fillna('нет_осмотра')\n",
    "\n",
    "test_df['Общее состояние'] = test_df['Общее состояние'].fillna('общее_состояние_неизвестно')\n",
    "test_df['аллергия'] = test_df['аллергия'].fillna('аллергии_неизвестны')\n",
    "test_df['Анамнез заболевания'] = test_df['Анамнез заболевания'].fillna('нет_анамнеза')\n",
    "test_df['Внешний осмотр'] = test_df['Внешний осмотр'].fillna('нет_осмотра')"
   ]
  },
  {
   "cell_type": "code",
   "execution_count": 4,
   "metadata": {},
   "outputs": [
    {
     "name": "stdout",
     "output_type": "stream",
     "text": [
      "283086\n"
     ]
    }
   ],
   "source": [
    "train_size = train_df.shape[0]\n",
    "print(train_size)"
   ]
  },
  {
   "cell_type": "code",
   "execution_count": 156,
   "metadata": {},
   "outputs": [],
   "source": [
    "# train_df = train_df.fillna('')\n",
    "# test_df = test_df.fillna('')"
   ]
  },
  {
   "cell_type": "code",
   "execution_count": 7,
   "metadata": {},
   "outputs": [],
   "source": [
    "train_dataframe, valid_dataframe = train_test_split(train_df, test_size=0.1,\n",
    "                                                    stratify=train_df.Revisit, random_state=42)"
   ]
  },
  {
   "cell_type": "code",
   "execution_count": 8,
   "metadata": {},
   "outputs": [],
   "source": [
    "def concat_features_ft(df, train=True):\n",
    "    features = (\n",
    "        df['Код_диагноза'] + ' | ' +\n",
    "        df['Диагноз'] + ' | ' +\n",
    "        'Возраст_' + df['Возраст'].astype(str) + ' | ' +\n",
    "        'Пол_' + df['Пол'].astype(str) + ' | ' +\n",
    "        df['Общее состояние'] + ' | ' +\n",
    "        df['аллергия'] + ' | ' +\n",
    "        df['Анамнез заболевания'] + ' | ' +\n",
    "        df['Внешний осмотр']\n",
    "    )\n",
    "    \n",
    "    text = features\n",
    "    if train:\n",
    "        text = '__label__' + df.Revisit.astype(str) + ' ' + text\n",
    "\n",
    "    return text.str.lower().str.replace('\\n', '').str.replace(', ', ' , ')"
   ]
  },
  {
   "cell_type": "code",
   "execution_count": 9,
   "metadata": {},
   "outputs": [],
   "source": [
    "fasttext_train = concat_features_ft(train_dataframe)\n",
    "fasttext_valid = concat_features_ft(valid_dataframe)\n",
    "fasttext_test = concat_features_ft(test_df, train=False)"
   ]
  },
  {
   "cell_type": "code",
   "execution_count": 10,
   "metadata": {},
   "outputs": [],
   "source": [
    "with open('fasttext_train.txt', 'w') as file:\n",
    "    for line in fasttext_train:\n",
    "        file.write(line + '\\n')"
   ]
  },
  {
   "cell_type": "code",
   "execution_count": 11,
   "metadata": {},
   "outputs": [],
   "source": [
    "with open('fasttext_valid.txt', 'w') as file:\n",
    "    for line in fasttext_valid:\n",
    "        file.write(line + '\\n')"
   ]
  },
  {
   "cell_type": "code",
   "execution_count": 12,
   "metadata": {},
   "outputs": [],
   "source": [
    "with open('fasttext_test.txt', 'w') as file:\n",
    "    for line in fasttext_test:\n",
    "        file.write(line + '\\n')"
   ]
  },
  {
   "cell_type": "code",
   "execution_count": 14,
   "metadata": {},
   "outputs": [
    {
     "name": "stdout",
     "output_type": "stream",
     "text": [
      "z39.2 | рутинное послеродовое наблюдение | возраст_41 | пол_2 | общее самочувствие удовлетворительное. кожные покровы и видимые слизистые обычной окраски.  язык чистый , влажный. живот мягкий ,  безболезненный во всех отделах. стул , мочеиспускание не нарушены. | аллергию на лекарства - отрицает. | нет_анамнеза | нет_осмотра\n",
      "m54.2 | цервикалгия | возраст_64 | пол_2 | общее_состояние_неизвестно | не отягощен | нет_анамнеза | нет_осмотра\n",
      "m41 | сколиоз | возраст_34 | пол_2 | удовлетворительное. температура тела - 36,6. сознание ясное. положение активное. пжк - развита умеренно. периферических отёков нет. кожные покровы чистые  , нормальной влажности , обычной окраски.  лимфатические узлы , доступные пальпации , не  увеличены , безболезненные. дизурические явления отрицает.  стул - без особенностей ( со слов пациентки). | аллергии_неизвестны | нет_анамнеза | нет_осмотра\n",
      "j31.2 | хронический фарингит | возраст_58 | пол_2 | общее_состояние_неизвестно | аллергии_неизвестны | нет_анамнеза | общее состояние удовлетворительное. конфигурация лица не изменена.   регионарные лимфатические узлы не увеличены. открывание рта не ограничено , движения нижней челюсти свободные.\n",
      "m21.4 | плоская стопа [pes planus] (приобретенная) | возраст_34 | пол_2 | общее_состояние_неизвестно | аллергии_неизвестны | жалобы сегодня с утра | нет_осмотра\n",
      "m53.8 | другие уточненные дорсопатии | возраст_51 | пол_1 | общее_состояние_неизвестно | аллергии_неизвестны | больна несколько лет ,   2р в год со слов проходила лечение в дневном стационаре по месту жительства. | нет_осмотра\n",
      "n77.1* | вагинит , вульвит и вульвовагинит при инфекционных и паразитарных болезнях , классифицированных в других рубриках | возраст_25 | пол_2 | общее самочувствие удовлетворительное. кожные покровы и видимые слизистые обычной окраски.  язык чистый , влажный. живот мягкий ,  безболезненный во всех отделах. стул , мочеиспускание не нарушены. | аллергию на лекарства - отрицает | нет_анамнеза | нет_осмотра\n",
      "l28.0 | простой хронический лишай | возраст_30 | пол_2 | общее самочувствие удовлетворительное. кожные покровы и видимые слизистые обычной окраски.  язык чистый , влажный. живот мягкий ,  безболезненный во всех отделах. стул , мочеиспускание не нарушены. | аллергии_неизвестны | дополнений к анамнезу нет , лечение переносит хорошо , на фоне проведенной терапии отметила знгачительное уменьшение высыпаний на коже заушных областей | нет_осмотра\n",
      "m51.1 | поражения межпозвоночных дисков поясничного и других отделов с радикулопатией | возраст_63 | пол_2 | удовлетворительное температура тела - 36,6. сознание ясное. положение активное. пжк - развита умеренно. периферических отёков нет. кожные покровы чистые  , нормальной влажности , обычной окраски. тургор кожи - сохранен. отмечаются сосудистые звездочки на нижних конечностях. видимые слизистые обычной окраски.   лимфатические узлы , доступные пальпации , не  увеличены , безболезненные. щитовидная железа не увеличена , безболезненная. носовое дыхание свободное. слизистая зева  - обычной окраски. миндалины не увеличены , налётов нет. дизурические явления отрицает.  стул - без особенностей. молочные железы мягкие , безболезненные. | не отягощен | нет_анамнеза | нет_осмотра\n",
      "r45.8 | другие симптомы и признаки , относящиеся к эмоциональному состоянию | возраст_10 | пол_1 | общее_состояние_неизвестно | аллергии_неизвестны | сбор анамнеза затруднен | нет_осмотра\n"
     ]
    }
   ],
   "source": [
    "! head -n 10 fasttext_test.txt"
   ]
  },
  {
   "cell_type": "code",
   "execution_count": 164,
   "metadata": {},
   "outputs": [
    {
     "name": "stdout",
     "output_type": "stream",
     "text": [
      "   28309  1122765 14445049 fasttext_valid.txt\n"
     ]
    }
   ],
   "source": [
    "! wc fasttext_valid.txt"
   ]
  },
  {
   "cell_type": "code",
   "execution_count": 25,
   "metadata": {},
   "outputs": [
    {
     "name": "stdout",
     "output_type": "stream",
     "text": [
      "/bin/sh: 1: fasttext: not found\n"
     ]
    }
   ],
   "source": [
    "! cat fasttext_train.txt | sed -e \"s/\\([.\\!?,'/()]\\)/ \\1 /g\" | tr \"[:upper:]\" \"[:lower:]\" > fasttext_train_preprocessed.txt"
   ]
  },
  {
   "cell_type": "code",
   "execution_count": null,
   "metadata": {},
   "outputs": [],
   "source": [
    "!  cat fasttext_valid.txt | sed -e \"s/\\([.\\!?,'/()]\\)/ \\1 /g\" | tr \"[:upper:]\" \"[:lower:]\" > fasttext_valid_preprocessed.txt"
   ]
  },
  {
   "cell_type": "code",
   "execution_count": 67,
   "metadata": {},
   "outputs": [],
   "source": [
    "!  cat fasttext_test.txt | sed -e \"s/\\([.\\!?,'/()]\\)/ \\1 /g\" | tr \"[:upper:]\" \"[:lower:]\" > fasttext_test_preprocessed.txt"
   ]
  },
  {
   "cell_type": "code",
   "execution_count": 61,
   "metadata": {},
   "outputs": [
    {
     "name": "stdout",
     "output_type": "stream",
     "text": [
      "/bin/sh: 1: fasttext: not found\n"
     ]
    }
   ],
   "source": [
    "! fasttext supervised -input fasttext_train.txt -wordNgrams 2 -loss hs -thread 32 -output model_categories -dim 300 #-pretrainedVectors ft_native_300_ru_wiki_lenta_lower_case.vec"
   ]
  },
  {
   "cell_type": "code",
   "execution_count": null,
   "metadata": {},
   "outputs": [],
   "source": [
    "! fasttext test model_categories.bin fasttext_valid.txt"
   ]
  },
  {
   "cell_type": "code",
   "execution_count": null,
   "metadata": {},
   "outputs": [],
   "source": [
    "! fasttext predict-prob model_categories.bin fasttext_test.txt > y_pred_test.txt"
   ]
  },
  {
   "cell_type": "code",
   "execution_count": null,
   "metadata": {},
   "outputs": [],
   "source": [
    "! fasttext predict-prob model_categories.bin fasttext_valid.txt > y_pred_valid.txt"
   ]
  },
  {
   "cell_type": "code",
   "execution_count": 15,
   "metadata": {},
   "outputs": [],
   "source": [
    "def read_pred(filename):\n",
    "    with open(filename) as file:\n",
    "        lines = file.readlines()\n",
    "        y_pred = np.array([float(line.split()[1]) if line.split()[0] == '__label__1' else 1 - float(line.split()[1])\n",
    "                           for line in lines])\n",
    "    return y_pred"
   ]
  },
  {
   "cell_type": "code",
   "execution_count": 16,
   "metadata": {},
   "outputs": [],
   "source": [
    "y_pred_valid = read_pred('y_pred_valid.txt')"
   ]
  },
  {
   "cell_type": "code",
   "execution_count": 17,
   "metadata": {},
   "outputs": [
    {
     "data": {
      "text/plain": [
       "0.6995795975065916"
      ]
     },
     "execution_count": 17,
     "metadata": {},
     "output_type": "execute_result"
    }
   ],
   "source": [
    "roc_auc_score(valid_dataframe.Revisit, y_pred_valid)"
   ]
  },
  {
   "cell_type": "code",
   "execution_count": 18,
   "metadata": {},
   "outputs": [],
   "source": [
    "y_pred_test = read_pred('y_pred_test.txt')"
   ]
  },
  {
   "cell_type": "code",
   "execution_count": 19,
   "metadata": {},
   "outputs": [],
   "source": [
    "submission = pd.read_csv('/root/dataset/RoboMed/sample_submission.csv')"
   ]
  },
  {
   "cell_type": "code",
   "execution_count": 20,
   "metadata": {},
   "outputs": [],
   "source": [
    "submission.proba = y_pred_test"
   ]
  },
  {
   "cell_type": "code",
   "execution_count": 21,
   "metadata": {},
   "outputs": [],
   "source": [
    "submission.to_csv('submission_ft.csv', index=False)"
   ]
  },
  {
   "cell_type": "code",
   "execution_count": null,
   "metadata": {},
   "outputs": [],
   "source": []
  }
 ],
 "metadata": {
  "kernelspec": {
   "display_name": "Python 3",
   "language": "python",
   "name": "python3"
  },
  "language_info": {
   "codemirror_mode": {
    "name": "ipython",
    "version": 3
   },
   "file_extension": ".py",
   "mimetype": "text/x-python",
   "name": "python",
   "nbconvert_exporter": "python",
   "pygments_lexer": "ipython3",
   "version": "3.6.4"
  }
 },
 "nbformat": 4,
 "nbformat_minor": 2
}

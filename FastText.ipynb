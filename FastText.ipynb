{
 "cells": [
  {
   "cell_type": "code",
   "execution_count": 1,
   "metadata": {},
   "outputs": [],
   "source": [
    "import pandas as pd\n",
    "import numpy as np\n",
    "import re\n",
    "\n",
    "from pymorphy2 import MorphAnalyzer\n",
    "from nltk import word_tokenize\n",
    "\n",
    "from sklearn.model_selection import train_test_split\n",
    "from sklearn.metrics import roc_auc_score\n",
    "\n",
    "from matplotlib import pyplot as plt\n",
    "from tqdm import tqdm\n",
    "\n",
    "\n",
    "%matplotlib inline"
   ]
  },
  {
   "cell_type": "code",
   "execution_count": 25,
   "metadata": {},
   "outputs": [],
   "source": [
    "train_df = pd.read_csv('../dataset/RoboMed/new_train.csv')\n",
    "test_df = pd.read_csv('../dataset/RoboMed/new_test.csv')"
   ]
  },
  {
   "cell_type": "code",
   "execution_count": 3,
   "metadata": {},
   "outputs": [],
   "source": [
    "def explain_diagnosis_code(series):\n",
    "    regex = '([A-Z])(\\d\\d)(?:.(\\d\\*?))?'\n",
    "    prefixes = ['группа_', 'номер_', 'подномер_']\n",
    "    def get_explanation(string):\n",
    "        matches = re.findall(regex, string)\n",
    "        if len(matches) == 0:\n",
    "            return 'неизвестный_диагноз'\n",
    "        return [prefix + token for prefix, token in zip(prefixes, matches[0])]\n",
    "    return series.apply(lambda string: ' '.join(get_explanation(string)))"
   ]
  },
  {
   "cell_type": "code",
   "execution_count": 4,
   "metadata": {},
   "outputs": [],
   "source": [
    "train_df['Общее состояние'] = train_df['Общее состояние'].fillna('общее_состояние_неизвестно')\n",
    "train_df['аллергия'] = train_df['аллергия'].fillna('аллергии_неизвестны')\n",
    "train_df['Анамнез заболевания'] = train_df['Анамнез заболевания'].fillna('нет_анамнеза')\n",
    "train_df['Внешний осмотр'] = train_df['Внешний осмотр'].fillna('нет_осмотра')\n",
    "train_df['Типичные_жалобы'] = train_df['Типичные_жалобы'].fillna('типичные_жалобы_неизвестны')\n",
    "train_df['Типичные_услуги'] = train_df['Типичные_услуги'].fillna('типичные_услги_неизвестны')\n",
    "train_df['Типичные_источники_рекламы'] = train_df['Типичные_источники_рекламы'].fillna('типичные_источники_рекламы_неизвестны')\n",
    "train_df['Код_диагноза'] = explain_diagnosis_code(train_df['Код_диагноза'])\n",
    "\n",
    "test_df['Общее состояние'] = test_df['Общее состояние'].fillna('общее_состояние_неизвестно')\n",
    "test_df['аллергия'] = test_df['аллергия'].fillna('аллергии_неизвестны')\n",
    "test_df['Анамнез заболевания'] = test_df['Анамнез заболевания'].fillna('нет_анамнеза')\n",
    "test_df['Внешний осмотр'] = test_df['Внешний осмотр'].fillna('нет_осмотра')\n",
    "test_df['Типичные_жалобы'] = test_df['Типичные_жалобы'].fillna('типичные_жалобы_неизвестны')\n",
    "test_df['Типичные_услуги'] = test_df['Типичные_услуги'].fillna('типичные_услги_неизвестны')\n",
    "test_df['Типичные_источники_рекламы'] = test_df['Типичные_источники_рекламы'].fillna('типичные_источники_рекламы_неизвестны')\n",
    "test_df['Код_диагноза'] = explain_diagnosis_code(test_df['Код_диагноза'])"
   ]
  },
  {
   "cell_type": "code",
   "execution_count": 5,
   "metadata": {},
   "outputs": [
    {
     "data": {
      "text/plain": [
       "1    234576\n",
       "0     48510\n",
       "Name: Revisit, dtype: int64"
      ]
     },
     "execution_count": 5,
     "metadata": {},
     "output_type": "execute_result"
    }
   ],
   "source": [
    "train_df.Revisit.value_counts()"
   ]
  },
  {
   "cell_type": "code",
   "execution_count": 6,
   "metadata": {},
   "outputs": [
    {
     "name": "stdout",
     "output_type": "stream",
     "text": [
      "283086\n"
     ]
    }
   ],
   "source": [
    "train_size = train_df.shape[0]\n",
    "print(train_size)"
   ]
  },
  {
   "cell_type": "code",
   "execution_count": 7,
   "metadata": {},
   "outputs": [],
   "source": [
    "# train_df = train_df.fillna('')\n",
    "# test_df = test_df.fillna('')"
   ]
  },
  {
   "cell_type": "code",
   "execution_count": 8,
   "metadata": {},
   "outputs": [
    {
     "data": {
      "text/plain": [
       "'Это самое обычное предложение ,  которое в том числе заканчивается ! '"
      ]
     },
     "execution_count": 8,
     "metadata": {},
     "output_type": "execute_result"
    }
   ],
   "source": [
    "re.sub(r\"([.\\!?,'/()])\", ' \\\\1 ', 'Это самое обычное предложение, которое в том числе заканчивается!')"
   ]
  },
  {
   "cell_type": "code",
   "execution_count": 9,
   "metadata": {},
   "outputs": [],
   "source": [
    "train_dataframe, valid_dataframe = train_test_split(train_df, test_size=0.1,\n",
    "                                                    stratify=train_df.Revisit, random_state=42)"
   ]
  },
  {
   "cell_type": "code",
   "execution_count": 10,
   "metadata": {},
   "outputs": [],
   "source": [
    "# y_train = train_dataframe.Revisit"
   ]
  },
  {
   "cell_type": "code",
   "execution_count": 11,
   "metadata": {},
   "outputs": [],
   "source": [
    "# train_dataframe = train_dataframe.sample(frac=1, random_state=42)\n",
    "# train_dataframe.Revisit = y_train"
   ]
  },
  {
   "cell_type": "code",
   "execution_count": 12,
   "metadata": {},
   "outputs": [],
   "source": [
    "def concat_features_ft(df, train=True):\n",
    "    features = (\n",
    "        df['Код_диагноза'].str.replace('.', '#') + ' • ' +\n",
    "#         df['Диагноз'] + ' • ' +\n",
    "        'Возраст_' + df['Возраст'].astype(str) + ' • ' +\n",
    "        'Пол_' + df['Пол'].astype(str) + ' • ' +\n",
    "        df['Общее состояние'] + ' • ' +\n",
    "        df['аллергия'] + ' • ' +\n",
    "        df['Анамнез заболевания'] + ' • ' +\n",
    "        df['Внешний осмотр'] + ' • ' +\n",
    "        df['Типичные_жалобы'] + ' • ' +\n",
    "        df['Типичные_услуги'] + ' • ' +\n",
    "        df['Типичные_источники_рекламы']\n",
    "    )\n",
    "    \n",
    "    text = features\n",
    "    if train:\n",
    "        text = '__label__' + df.Revisit.astype(str) + ' ' + text\n",
    "\n",
    "    return text.str.lower().str.replace('\\n', '').apply(lambda string: re.sub(r\"([.\\!?,'/()\\-№:;])\", ' \\\\1 ', string))"
   ]
  },
  {
   "cell_type": "code",
   "execution_count": 13,
   "metadata": {},
   "outputs": [],
   "source": [
    "fasttext_train = concat_features_ft(train_dataframe)\n",
    "fasttext_valid = concat_features_ft(valid_dataframe)\n",
    "fasttext_test = concat_features_ft(test_df, train=False)"
   ]
  },
  {
   "cell_type": "code",
   "execution_count": 14,
   "metadata": {},
   "outputs": [],
   "source": [
    "with open('fasttext_train.txt', 'w') as file:\n",
    "    for line in fasttext_train:\n",
    "        file.write(line + '\\n')"
   ]
  },
  {
   "cell_type": "code",
   "execution_count": 15,
   "metadata": {},
   "outputs": [],
   "source": [
    "with open('fasttext_valid.txt', 'w') as file:\n",
    "    for line in fasttext_valid:\n",
    "        file.write(line + '\\n')"
   ]
  },
  {
   "cell_type": "code",
   "execution_count": 16,
   "metadata": {},
   "outputs": [],
   "source": [
    "with open('fasttext_test.txt', 'w') as file:\n",
    "    for line in fasttext_test:\n",
    "        file.write(line + '\\n')"
   ]
  },
  {
   "cell_type": "code",
   "execution_count": 123,
   "metadata": {},
   "outputs": [
    {
     "name": "stdout",
     "output_type": "stream",
     "text": [
      "группа_e номер_28 подномер_8 • возраст_23 • пол_2 • общее_состояние_неизвестно • аллергии_неизвестны • пришел на повторный прием по результатам замера ад .  на фоне приема препаратов цифры ад 110 - 120 / 80 мм рт ст ,  пульс 90 - 100 в мин .  магне в6 ,  глицин и пустырник не принимает в течение 10 дней .  • нет_осмотра • типичные_услги_неизвестны • типичные_источники_рекламы_неизвестны\n",
      "группа_k номер_02 подномер_1 • возраст_61 • пол_2 • общее_состояние_неизвестно • аллергии_неизвестны • нет_анамнеза • удовлетворительное .  • лечение кариеса с наложением пломбы из светоотверждаюшего композита • другое\n",
      "группа_n номер_86 подномер_ • возраст_28 • пол_2 • общее самочувствие удовлетворительное .  кожные покровы и видимые слизистые обычной окраски .   язык чистый ,  влажный .  живот мягкий ,   безболезненный во всех отделах .  стул ,  мочеиспускание не нарушены .  • не отягощен • нет_анамнеза • нет_осмотра • прием врача - акушера - гинеколога повторный ,  амбулаторный • другое | рекомендации знакомых | интернет\n"
     ]
    }
   ],
   "source": [
    "! tail -n 3 fasttext_test.txt"
   ]
  },
  {
   "cell_type": "code",
   "execution_count": 50,
   "metadata": {},
   "outputs": [
    {
     "name": "stdout",
     "output_type": "stream",
     "text": [
      "   254777   9747764 129880663 fasttext_train.txt\n"
     ]
    }
   ],
   "source": [
    "! wc fasttext_train.txt"
   ]
  },
  {
   "cell_type": "code",
   "execution_count": 61,
   "metadata": {},
   "outputs": [
    {
     "name": "stdout",
     "output_type": "stream",
     "text": [
      "/bin/sh: 1: fasttext: not found\n"
     ]
    }
   ],
   "source": [
    "! fasttext fasttext supervised -input fasttext_train.txt -wordNgrams 3 -loss hs -thread 32 -output model_categories -dim 300 -epoch 8 -lr 0.1 -pretrainedVectors ft_native_300_ru_wiki_lenta_lower_case.vec"
   ]
  },
  {
   "cell_type": "code",
   "execution_count": null,
   "metadata": {},
   "outputs": [],
   "source": [
    "! fasttext test model_categories.bin fasttext_valid.txt"
   ]
  },
  {
   "cell_type": "code",
   "execution_count": null,
   "metadata": {},
   "outputs": [],
   "source": [
    "! fasttext predict-prob model_categories.bin fasttext_test.txt > y_pred_test.txt"
   ]
  },
  {
   "cell_type": "code",
   "execution_count": null,
   "metadata": {},
   "outputs": [],
   "source": [
    "! fasttext predict-prob model_categories.bin fasttext_valid.txt > y_pred_valid.txt"
   ]
  },
  {
   "cell_type": "code",
   "execution_count": 20,
   "metadata": {},
   "outputs": [],
   "source": [
    "def read_pred(filename):\n",
    "    with open(filename) as file:\n",
    "        lines = file.readlines()\n",
    "        y_pred = np.array([float(line.split()[1]) if line.split()[0] == '__label__1' else 1 - float(line.split()[1])\n",
    "                           for line in lines])\n",
    "    return y_pred"
   ]
  },
  {
   "cell_type": "code",
   "execution_count": 21,
   "metadata": {},
   "outputs": [],
   "source": [
    "y_pred_valid = read_pred('y_pred_valid.txt')"
   ]
  },
  {
   "cell_type": "code",
   "execution_count": 22,
   "metadata": {},
   "outputs": [
    {
     "data": {
      "text/plain": [
       "0.7033888063631192"
      ]
     },
     "execution_count": 22,
     "metadata": {},
     "output_type": "execute_result"
    }
   ],
   "source": [
    "roc_auc_score(valid_dataframe.Revisit, y_pred_valid)"
   ]
  },
  {
   "cell_type": "code",
   "execution_count": 23,
   "metadata": {},
   "outputs": [],
   "source": [
    "y_pred_test = read_pred('y_pred_test.txt')\n",
    "submission = pd.read_csv('/root/dataset/RoboMed/sample_submission.csv')\n",
    "submission.proba = y_pred_test\n",
    "submission.to_csv('submission_ft_all.csv', index=False)"
   ]
  },
  {
   "cell_type": "code",
   "execution_count": 24,
   "metadata": {},
   "outputs": [
    {
     "data": {
      "text/plain": [
       "0.06716900000000003"
      ]
     },
     "execution_count": 24,
     "metadata": {},
     "output_type": "execute_result"
    }
   ],
   "source": [
    "y_pred_test.min()"
   ]
  },
  {
   "cell_type": "code",
   "execution_count": null,
   "metadata": {},
   "outputs": [],
   "source": []
  }
 ],
 "metadata": {
  "kernelspec": {
   "display_name": "Python 3",
   "language": "python",
   "name": "python3"
  },
  "language_info": {
   "codemirror_mode": {
    "name": "ipython",
    "version": 3
   },
   "file_extension": ".py",
   "mimetype": "text/x-python",
   "name": "python",
   "nbconvert_exporter": "python",
   "pygments_lexer": "ipython3",
   "version": "3.6.4"
  }
 },
 "nbformat": 4,
 "nbformat_minor": 2
}
